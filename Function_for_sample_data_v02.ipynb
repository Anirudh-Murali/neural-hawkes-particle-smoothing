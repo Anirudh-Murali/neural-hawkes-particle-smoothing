{
 "cells": [
  {
   "cell_type": "code",
   "execution_count": 1,
   "metadata": {
    "ExecuteTime": {
     "end_time": "2020-09-02T08:15:44.248119Z",
     "start_time": "2020-09-02T08:15:43.632485Z"
    }
   },
   "outputs": [],
   "source": [
    "import pandas as pd\n",
    "from datetime import datetime\n",
    "from dateutil import relativedelta\n",
    "import random\n",
    "import pickle\n",
    "from tqdm import tqdm_notebook  "
   ]
  },
  {
   "cell_type": "code",
   "execution_count": 2,
   "metadata": {
    "ExecuteTime": {
     "end_time": "2020-09-02T08:15:44.257143Z",
     "start_time": "2020-09-02T08:15:44.250125Z"
    },
    "code_folding": [
     0
    ]
   },
   "outputs": [],
   "source": [
    "event_types={\n",
    "    \"px_medications_injections_infusions_and_other_forms_\":0,\n",
    "    \"dx_brnch_lng_ca\":1,\n",
    "    \"px_pathology\":2,\n",
    "    \"px_therapeutic_radiology\":3,\n",
    "    \"px_laboratory_chemistry_and_hematology\":4,\n",
    "    \"px_ct_scan_abdomen\":5,\n",
    "    \"dx_ot_perint_dx\":6,\n",
    "    \"px_other_diagnostic_procedures_on_lung_and_bronchus\":7,\n",
    "    \"dx_2ndary_malig\":8,\n",
    "    \"px_ct_scan_chest\":9,\n",
    "    \"dx_anemia\":10,\n",
    "    \"px_radioisotope_scan_and_function_studies\":11,\n",
    "    \"px_other_ct_scan\":12,\n",
    "    \"px_magnetic_resonance_imaging\":13,\n",
    "    \"px_diagnostic_bronchoscopy_and_biopsy_of_bronchus\":14,\n",
    "    \"px_lobectomy_or_pneumonectomy\":15,\n",
    "    \"px_dme_and_supplies\":16,\n",
    "    \"rx_antineoplastic_agents\":17,\n",
    "    \"dx_fx_arm\":18,\n",
    "    \"px_incision_of_pleura_thoracentesis_chest_drainage\":19    \n",
    "}"
   ]
  },
  {
   "cell_type": "code",
   "execution_count": 3,
   "metadata": {
    "ExecuteTime": {
     "end_time": "2020-09-02T08:15:44.295244Z",
     "start_time": "2020-09-02T08:15:44.260152Z"
    },
    "code_folding": []
   },
   "outputs": [],
   "source": [
    "from datetime import date\n",
    "\n",
    "def timediff(date1,date2):\n",
    "    end_date = (date2)\n",
    "    start_date = (date1)\n",
    "    num_days = (end_date-start_date).days \n",
    "    if (num_days==0):\n",
    "        return None\n",
    "    return num_days/30.5"
   ]
  },
  {
   "cell_type": "code",
   "execution_count": 4,
   "metadata": {
    "ExecuteTime": {
     "end_time": "2020-09-02T08:15:44.329338Z",
     "start_time": "2020-09-02T08:15:44.297249Z"
    },
    "code_folding": []
   },
   "outputs": [],
   "source": [
    "def get_all_patients(df_name):\n",
    "    unique_patients=set()\n",
    "    df1=pd.read_csv(df_name)\n",
    "    for i in range(len(df1)):\n",
    "        unique_patients.add(df1.loc[i,\"person_id\"])\n",
    "    return unique_patients"
   ]
  },
  {
   "cell_type": "code",
   "execution_count": 5,
   "metadata": {
    "ExecuteTime": {
     "end_time": "2020-09-02T08:15:44.360189Z",
     "start_time": "2020-09-02T08:15:44.331846Z"
    },
    "code_folding": [
     0
    ]
   },
   "outputs": [],
   "source": [
    "# dates = df[df['person_id']=='a']['event_date'].tolist()\n",
    "# dates.sort(key=lambda date: datetime.strptime(date, \"%d/%m/%Y\"))"
   ]
  },
  {
   "cell_type": "code",
   "execution_count": 6,
   "metadata": {
    "ExecuteTime": {
     "end_time": "2020-09-02T08:15:44.431382Z",
     "start_time": "2020-09-02T08:15:44.362194Z"
    },
    "code_folding": []
   },
   "outputs": [],
   "source": [
    "def get_data(df,patient_id):\n",
    "    \n",
    "    patient_df = df[df['person_id']==patient_id]\n",
    "\n",
    "    patient_df['event_date'] = pd.to_datetime(patient_df['event_date'])\n",
    "\n",
    "    patient_df = patient_df.sort_values(by='event_date')\n",
    "\n",
    "    start_date = patient_df['event_date'].min()\n",
    "\n",
    "    patient_df['last_event_dt'] = patient_df['event_date'].shift(1).fillna(method='bfill')\n",
    "\n",
    "    patient_df[['event_date','last_event_dt']]\n",
    "\n",
    "    patient_df['time_since_last_event'] = patient_df.apply(lambda x: timediff(x['last_event_dt'],x['event_date']),axis=1)\n",
    "\n",
    "    patient_df[['event_date','last_event_dt','time_since_last_event']]\n",
    "\n",
    "    patient_df['time_since_start'] = patient_df.apply(lambda x: timediff(start_date,x['event_date']),axis=1)\n",
    "    \n",
    "    patient_df['type_event'] = patient_df['event_label'].apply(lambda x: event_types[x])\n",
    "\n",
    "    patient_df.drop_duplicates(subset =[\"time_since_start\",\"event_label\"], inplace = True) \n",
    "\n",
    "    patient_df['idx_event'] = [i for i in range(1,patient_df.shape[0]+1)]\n",
    "\n",
    "    patient_df = patient_df[['person_id','idx_event','type_event','time_since_start','time_since_last_event']].rename(columns={'person_id':'patient_id'})\n",
    "\n",
    "    patient_df['time_since_start'].fillna(0,inplace=True)\n",
    "\n",
    "    patient_df['time_since_last_event'].fillna(0,inplace=True)\n",
    "\n",
    "    patient_df = patient_df.dropna(subset=['time_since_last_event'])\n",
    "\n",
    "    patient_df[\"same_day_event_rank\"] = patient_df.groupby('time_since_start')['idx_event'].cumcount()\n",
    "\n",
    "    patient_df['time_since_start_adj'] = patient_df.apply(lambda x: x['time_since_start']+(0.0001*x['same_day_event_rank']),axis=1)\n",
    "\n",
    "    patient_df['time_since_last_event_adj'] = patient_df.apply(lambda x: x['time_since_last_event']+(0.0001*x['same_day_event_rank']),axis=1)\n",
    "    \n",
    "    patient_df['time_since_start']=patient_df['time_since_start_adj']\n",
    "    \n",
    "    patient_df['time_since_last_event']=patient_df['time_since_last_event_adj']\n",
    "    \n",
    "#     dropped additional columns created after copying time\n",
    "    patient_df.drop([\"same_day_event_rank\",\"time_since_start_adj\",\"time_since_last_event_adj\"],axis='columns', inplace=True)\n",
    "\n",
    "    patient_df.reset_index(drop=True , inplace=True)\n",
    "    \n",
    "   \n",
    "#     patient_df['time_since_last_event'].fillna(method='ffill',inplace=True)\n",
    "#     patient_df['time_since_last_event'].fillna(0,inplace=True)\n",
    "    l = list(patient_df.T.to_dict().values())\n",
    "    return l"
   ]
  },
  {
   "cell_type": "code",
   "execution_count": 7,
   "metadata": {
    "ExecuteTime": {
     "end_time": "2020-09-02T08:15:44.461463Z",
     "start_time": "2020-09-02T08:15:44.433386Z"
    },
    "code_folding": [
     0
    ]
   },
   "outputs": [],
   "source": [
    "#     patient_id=\"abcd\"\n",
    "    \n",
    "#     patient_df = df[df['person_id']==patient_id]\n",
    "\n",
    "#     patient_df['event_date'] = pd.to_datetime(patient_df['event_date'])\n",
    "\n",
    "#     patient_df = patient_df.sort_values(by='event_date')\n",
    "\n",
    "#     start_date = patient_df['event_date'].min()\n",
    "\n",
    "#     patient_df['last_event_dt'] = patient_df['event_date'].shift(1).fillna(method='bfill')\n",
    "\n",
    "#     patient_df[['event_date','last_event_dt']]\n",
    "\n",
    "#     patient_df['time_since_last_event'] = patient_df.apply(lambda x: timediff(x['last_event_dt'],x['event_date']),axis=1)\n",
    "\n",
    "#     patient_df[['event_date','last_event_dt','time_since_last_event']]\n",
    "\n",
    "#     patient_df['time_since_start'] = patient_df.apply(lambda x: timediff(start_date,x['event_date']),axis=1)\n",
    "    \n",
    "#     patient_df['type_event'] = patient_df['event_label'].apply(lambda x: event_types[x])\n",
    "\n",
    "#     patient_df.drop_duplicates(subset =[\"time_since_start\",\"event_label\"], inplace = True) \n",
    "\n",
    "#     patient_df['idx_event'] = [i for i in range(1,patient_df.shape[0]+1)]\n",
    "\n",
    "#     patient_df = patient_df[['person_id','idx_event','type_event','time_since_start','time_since_last_event']].rename(columns={'person_id':'patient_id'})\n",
    "\n",
    "#     patient_df['time_since_start'].fillna(0,inplace=True)\n",
    "\n",
    "#     patient_df['time_since_last_event'].fillna(0,inplace=True)\n",
    "\n",
    "#     patient_df = patient_df.dropna(subset=['time_since_last_event'])\n",
    "\n",
    "#     patient_df[\"same_day_event_rank\"] = patient_df.groupby('time_since_start')['idx_event'].cumcount()\n",
    "\n",
    "#     patient_df['time_since_start_adj'] = patient_df.apply(lambda x: x['time_since_start']+(0.01*x['same_day_event_rank']),axis=1)\n",
    "\n",
    "#     patient_df['time_since_last_event_adj'] = patient_df.apply(lambda x: x['time_since_last_event']+(0.01*x['same_day_event_rank']),axis=1)\n",
    "    \n",
    "#     patient_df['time_since_start']=patient_df['time_since_start_adj']\n",
    "    \n",
    "#     patient_df['time_since_last_event']=patient_df['time_since_last_event_adj']\n",
    "    \n",
    "# #     dropped additional columns created after copying time\n",
    "#     patient_df.drop([\"same_day_event_rank\",\"time_since_start_adj\",\"time_since_last_event_adj\"],axis='columns', inplace=True)\n",
    "\n",
    "#     patient_df.reset_index(drop=True , inplace=True)\n",
    "    \n",
    "#     display(patient_df)\n"
   ]
  },
  {
   "cell_type": "code",
   "execution_count": 8,
   "metadata": {
    "ExecuteTime": {
     "end_time": "2020-09-02T08:15:44.491543Z",
     "start_time": "2020-09-02T08:15:44.464472Z"
    },
    "code_folding": [
     0
    ]
   },
   "outputs": [],
   "source": [
    "def find_key(dict,val):\n",
    "    for key,value in dict.items():\n",
    "        if(value==val):\n",
    "            return key"
   ]
  },
  {
   "cell_type": "code",
   "execution_count": 9,
   "metadata": {
    "ExecuteTime": {
     "end_time": "2020-09-02T08:15:44.528644Z",
     "start_time": "2020-09-02T08:15:44.494553Z"
    },
    "code_folding": [
     0
    ]
   },
   "outputs": [],
   "source": [
    "def remove_data(df,patient_list,impute_rate,impute_value):\n",
    "    s=\"event_label=={}\".format(impute_value)\n",
    "    df=df.drop(df[df[\"event_label\"]==impute_value].sample(frac=impute_rate,random_state=1).index).reset_index(drop=True)\n",
    "    obs_list=[]\n",
    "    for x in patient_list:\n",
    "        obs_list.append(get_data(df,x))\n",
    "    return obs_list"
   ]
  },
  {
   "cell_type": "code",
   "execution_count": null,
   "metadata": {},
   "outputs": [],
   "source": []
  },
  {
   "cell_type": "code",
   "execution_count": 10,
   "metadata": {
    "ExecuteTime": {
     "end_time": "2020-09-02T08:15:57.982145Z",
     "start_time": "2020-09-02T08:15:44.530650Z"
    }
   },
   "outputs": [
    {
     "name": "stderr",
     "output_type": "stream",
     "text": [
      "C:\\Users\\am21907\\AppData\\Local\\Continuum\\anaconda3\\lib\\site-packages\\ipykernel_launcher.py:29: TqdmDeprecationWarning: This function will be removed in tqdm==5.0.0\n",
      "Please use `tqdm.notebook.tqdm` instead of `tqdm.tqdm_notebook`\n"
     ]
    },
    {
     "data": {
      "application/vnd.jupyter.widget-view+json": {
       "model_id": "33ac506afc67490da32a24ae476a67ad",
       "version_major": 2,
       "version_minor": 0
      },
      "text/plain": [
       "HBox(children=(FloatProgress(value=0.0, max=70.0), HTML(value='')))"
      ]
     },
     "metadata": {},
     "output_type": "display_data"
    },
    {
     "name": "stderr",
     "output_type": "stream",
     "text": [
      "C:\\Users\\am21907\\AppData\\Local\\Continuum\\anaconda3\\lib\\site-packages\\ipykernel_launcher.py:5: SettingWithCopyWarning: \n",
      "A value is trying to be set on a copy of a slice from a DataFrame.\n",
      "Try using .loc[row_indexer,col_indexer] = value instead\n",
      "\n",
      "See the caveats in the documentation: https://pandas.pydata.org/pandas-docs/stable/user_guide/indexing.html#returning-a-view-versus-a-copy\n",
      "  \"\"\"\n"
     ]
    },
    {
     "name": "stdout",
     "output_type": "stream",
     "text": [
      "\n"
     ]
    },
    {
     "name": "stderr",
     "output_type": "stream",
     "text": [
      "C:\\Users\\am21907\\AppData\\Local\\Continuum\\anaconda3\\lib\\site-packages\\ipykernel_launcher.py:33: TqdmDeprecationWarning: This function will be removed in tqdm==5.0.0\n",
      "Please use `tqdm.notebook.tqdm` instead of `tqdm.tqdm_notebook`\n"
     ]
    },
    {
     "data": {
      "application/vnd.jupyter.widget-view+json": {
       "model_id": "f0958ea75a4c4a248ee67c8ce3dc304a",
       "version_major": 2,
       "version_minor": 0
      },
      "text/plain": [
       "HBox(children=(FloatProgress(value=0.0, max=20.0), HTML(value='')))"
      ]
     },
     "metadata": {},
     "output_type": "display_data"
    },
    {
     "name": "stdout",
     "output_type": "stream",
     "text": [
      "\n"
     ]
    },
    {
     "name": "stderr",
     "output_type": "stream",
     "text": [
      "C:\\Users\\am21907\\AppData\\Local\\Continuum\\anaconda3\\lib\\site-packages\\ipykernel_launcher.py:37: TqdmDeprecationWarning: This function will be removed in tqdm==5.0.0\n",
      "Please use `tqdm.notebook.tqdm` instead of `tqdm.tqdm_notebook`\n"
     ]
    },
    {
     "data": {
      "application/vnd.jupyter.widget-view+json": {
       "model_id": "394e5bf73e6e4f10ba09317023401096",
       "version_major": 2,
       "version_minor": 0
      },
      "text/plain": [
       "HBox(children=(FloatProgress(value=0.0, max=10.0), HTML(value='')))"
      ]
     },
     "metadata": {},
     "output_type": "display_data"
    },
    {
     "name": "stdout",
     "output_type": "stream",
     "text": [
      "\n"
     ]
    }
   ],
   "source": [
    "#driver\n",
    "df_name = \"data/test/sample_data.csv\"\n",
    "train_patients=[]\n",
    "test_patients=[]\n",
    "dev_patients=[]\n",
    "patients=get_all_patients(df_name)\n",
    "patients=list(patients)\n",
    "train_patients_size=0.7*len(patients)\n",
    "test_patients_size=0.2*len(patients)\n",
    "dev_patients_size=0.1*len(patients)\n",
    "count=0\n",
    "\n",
    "while(count<train_patients_size):\n",
    "    train_patients.append(patients[count])\n",
    "    count+=1\n",
    "while(count<train_patients_size+test_patients_size):\n",
    "    test_patients.append(patients[count])\n",
    "    count+=1\n",
    "while(count<len(patients)):\n",
    "      dev_patients.append(patients[count])\n",
    "      count+=1\n",
    "#train data is ready\n",
    "df=pd.read_csv(df_name)\n",
    "\n",
    "train_seqs=[]\n",
    "test_seqs=[]\n",
    "dev_seqs=[]\n",
    "      \n",
    "for x in tqdm_notebook(train_patients):\n",
    "    temp = get_data(df,x)\n",
    "    if temp:\n",
    "        train_seqs.append(temp)\n",
    "for x in tqdm_notebook(test_patients):\n",
    "    temp = get_data(df,x)\n",
    "    if temp:\n",
    "        test_seqs.append(temp)\n",
    "for x in tqdm_notebook(dev_patients):\n",
    "    temp = get_data(df,x)\n",
    "    if temp:\n",
    "        dev_seqs.append(temp)\n",
    "        \n",
    "# print(train_seqs)\n",
    "\n",
    "key=find_key(event_types,8)\n",
    "\n",
    "train_obs=remove_data(df,train_patients,1,key)\n",
    "test_obs=remove_data(df,test_patients,1,key)\n",
    "dev_obs=remove_data(df,dev_patients,1,key)\n"
   ]
  },
  {
   "cell_type": "code",
   "execution_count": 11,
   "metadata": {
    "ExecuteTime": {
     "end_time": "2020-09-02T08:15:57.988122Z",
     "start_time": "2020-09-02T08:15:57.983108Z"
    }
   },
   "outputs": [],
   "source": [
    "def store_as_pickle(seqs,seqs_obs,total_num,file_name):\n",
    "    if len(seqs) == len(seqs_obs):\n",
    "        final_data = {\n",
    "            'seqs': seqs,\n",
    "            'seqs_obs': seqs_obs,\n",
    "            'total_num':total_num\n",
    "        }\n",
    "        f = open(\"data/test/{}\".format(file_name),'wb') \n",
    "        # source, destination \n",
    "        pickle.dump(final_data, f)                      \n",
    "        f.close() \n",
    "    else:\n",
    "        print(\"shape does not match\")"
   ]
  },
  {
   "cell_type": "code",
   "execution_count": 12,
   "metadata": {
    "ExecuteTime": {
     "end_time": "2020-09-02T08:15:58.072878Z",
     "start_time": "2020-09-02T08:15:57.990130Z"
    }
   },
   "outputs": [],
   "source": [
    "store_as_pickle(train_seqs,train_obs,20,\"train.pkl\")\n",
    "store_as_pickle(test_seqs,test_obs,20,\"test.pkl\")\n",
    "store_as_pickle(dev_seqs,dev_obs,20,\"dev.pkl\")"
   ]
  },
  {
   "cell_type": "markdown",
   "metadata": {},
   "source": [
    "## QC Steps"
   ]
  },
  {
   "cell_type": "code",
   "execution_count": 13,
   "metadata": {
    "ExecuteTime": {
     "end_time": "2020-09-02T08:15:58.091914Z",
     "start_time": "2020-09-02T08:15:58.074881Z"
    }
   },
   "outputs": [
    {
     "name": "stdout",
     "output_type": "stream",
     "text": [
      "set()\n",
      "set()\n",
      "set()\n"
     ]
    }
   ],
   "source": [
    "print(set(train_patients).intersection(set(test_patients)))\n",
    "print(set(train_patients).intersection(set(dev_patients)))\n",
    "print(set(test_patients).intersection(set(dev_patients)))"
   ]
  },
  {
   "cell_type": "code",
   "execution_count": 14,
   "metadata": {
    "ExecuteTime": {
     "end_time": "2020-09-02T08:15:58.127006Z",
     "start_time": "2020-09-02T08:15:58.093919Z"
    },
    "code_folding": []
   },
   "outputs": [],
   "source": [
    "## function to convert pkl to df\n",
    "def convert_pkl_to_df(pkl):\n",
    "    df = pd.DataFrame()\n",
    "    for i in tqdm_notebook(range(0,len(pkl))):\n",
    "        temp_df = (pd.DataFrame(pkl[i]))\n",
    "        temp_df['seq_id'] = i\n",
    "        df = pd.concat([df,temp_df])\n",
    "    return df.reset_index(drop=True)"
   ]
  },
  {
   "cell_type": "code",
   "execution_count": 15,
   "metadata": {
    "ExecuteTime": {
     "end_time": "2020-09-02T08:15:58.165711Z",
     "start_time": "2020-09-02T08:15:58.130027Z"
    }
   },
   "outputs": [
    {
     "name": "stdout",
     "output_type": "stream",
     "text": [
      "70\n",
      "20\n",
      "10\n"
     ]
    }
   ],
   "source": [
    "print(len(train_seqs))\n",
    "print(len(test_seqs))\n",
    "print(len(dev_seqs))"
   ]
  },
  {
   "cell_type": "markdown",
   "metadata": {},
   "source": [
    "Further QC checks can be found in Exploring_2.ipynb"
   ]
  }
 ],
 "metadata": {
  "hide_input": false,
  "kernelspec": {
   "display_name": "Python 3",
   "language": "python",
   "name": "python3"
  },
  "language_info": {
   "codemirror_mode": {
    "name": "ipython",
    "version": 3
   },
   "file_extension": ".py",
   "mimetype": "text/x-python",
   "name": "python",
   "nbconvert_exporter": "python",
   "pygments_lexer": "ipython3",
   "version": "3.7.3"
  },
  "toc": {
   "base_numbering": 1,
   "nav_menu": {},
   "number_sections": true,
   "sideBar": true,
   "skip_h1_title": false,
   "title_cell": "Table of Contents",
   "title_sidebar": "Contents",
   "toc_cell": false,
   "toc_position": {},
   "toc_section_display": true,
   "toc_window_display": true
  },
  "varInspector": {
   "cols": {
    "lenName": 16,
    "lenType": 16,
    "lenVar": 40
   },
   "kernels_config": {
    "python": {
     "delete_cmd_postfix": "",
     "delete_cmd_prefix": "del ",
     "library": "var_list.py",
     "varRefreshCmd": "print(var_dic_list())"
    },
    "r": {
     "delete_cmd_postfix": ") ",
     "delete_cmd_prefix": "rm(",
     "library": "var_list.r",
     "varRefreshCmd": "cat(var_dic_list()) "
    }
   },
   "types_to_exclude": [
    "module",
    "function",
    "builtin_function_or_method",
    "instance",
    "_Feature"
   ],
   "window_display": false
  }
 },
 "nbformat": 4,
 "nbformat_minor": 2
}
