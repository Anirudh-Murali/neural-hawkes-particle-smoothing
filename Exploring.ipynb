{
 "cells": [
  {
   "cell_type": "code",
   "execution_count": 6,
   "metadata": {
    "ExecuteTime": {
     "end_time": "2020-08-24T06:30:27.958325Z",
     "start_time": "2020-08-24T06:30:27.954313Z"
    }
   },
   "outputs": [],
   "source": [
    "import pandas as pd\n",
    "import pickle\n",
    "from tqdm import tqdm_notebook"
   ]
  },
  {
   "cell_type": "markdown",
   "metadata": {},
   "source": [
    "## Load Datasets"
   ]
  },
  {
   "cell_type": "markdown",
   "metadata": {
    "ExecuteTime": {
     "end_time": "2020-08-22T12:25:01.832826Z",
     "start_time": "2020-08-22T12:25:01.724975Z"
    }
   },
   "source": [
    "## Exploring Train"
   ]
  },
  {
   "cell_type": "code",
   "execution_count": 7,
   "metadata": {
    "ExecuteTime": {
     "end_time": "2020-08-24T06:30:28.967914Z",
     "start_time": "2020-08-24T06:30:28.955370Z"
    }
   },
   "outputs": [],
   "source": [
    "with open(r\"C:\\Users\\am21907\\Documents\\Projects\\Hackathon Projects\\RwD\\neural-hawkes-particle-smoothing\\logs\\pilotnhp7\\dim-16_batch-50_seed-12345_lr-0.001_3464\\bt-add-dim-16-batch-50-npn-1-np-1-ga-1.0-lr-0.001-seed-12345_18612\\dev.results.pkl\",\"rb\") as f:\n",
    "    pkl_results = pickle.load(f)"
   ]
  },
  {
   "cell_type": "code",
   "execution_count": 8,
   "metadata": {
    "ExecuteTime": {
     "end_time": "2020-08-24T06:30:29.984482Z",
     "start_time": "2020-08-24T06:30:29.979937Z"
    }
   },
   "outputs": [
    {
     "data": {
      "text/plain": [
       "dict_keys(['MBR', 'LogProposal', 'MAP'])"
      ]
     },
     "execution_count": 8,
     "metadata": {},
     "output_type": "execute_result"
    }
   ],
   "source": [
    "pkl_results.keys()"
   ]
  },
  {
   "cell_type": "code",
   "execution_count": 23,
   "metadata": {
    "ExecuteTime": {
     "end_time": "2020-08-24T17:30:02.451252Z",
     "start_time": "2020-08-24T17:30:02.446767Z"
    }
   },
   "outputs": [
    {
     "data": {
      "text/plain": [
       "dict_keys(['nhpf', 'nhps'])"
      ]
     },
     "execution_count": 23,
     "metadata": {},
     "output_type": "execute_result"
    }
   ],
   "source": [
    "pkl_results['MAP'].keys()"
   ]
  },
  {
   "cell_type": "code",
   "execution_count": 24,
   "metadata": {
    "ExecuteTime": {
     "end_time": "2020-08-24T17:30:06.828766Z",
     "start_time": "2020-08-24T17:30:06.816231Z"
    }
   },
   "outputs": [
    {
     "data": {
      "text/html": [
       "<div>\n",
       "<style scoped>\n",
       "    .dataframe tbody tr th:only-of-type {\n",
       "        vertical-align: middle;\n",
       "    }\n",
       "\n",
       "    .dataframe tbody tr th {\n",
       "        vertical-align: top;\n",
       "    }\n",
       "\n",
       "    .dataframe thead th {\n",
       "        text-align: right;\n",
       "    }\n",
       "</style>\n",
       "<table border=\"1\" class=\"dataframe\">\n",
       "  <thead>\n",
       "    <tr style=\"text-align: right;\">\n",
       "      <th></th>\n",
       "      <th>0</th>\n",
       "    </tr>\n",
       "  </thead>\n",
       "  <tbody>\n",
       "    <tr>\n",
       "      <th>costs</th>\n",
       "      <td>1.000000</td>\n",
       "    </tr>\n",
       "    <tr>\n",
       "      <th>distances</th>\n",
       "      <td>7.899729</td>\n",
       "    </tr>\n",
       "    <tr>\n",
       "      <th>jaccard</th>\n",
       "      <td>0.738745</td>\n",
       "    </tr>\n",
       "    <tr>\n",
       "      <th>insdel</th>\n",
       "      <td>3331.000000</td>\n",
       "    </tr>\n",
       "    <tr>\n",
       "      <th>insdelrate</th>\n",
       "      <td>0.773931</td>\n",
       "    </tr>\n",
       "    <tr>\n",
       "      <th>oneminusF</th>\n",
       "      <td>0.585722</td>\n",
       "    </tr>\n",
       "    <tr>\n",
       "      <th>transport</th>\n",
       "      <td>0.525351</td>\n",
       "    </tr>\n",
       "    <tr>\n",
       "      <th>total_transport</th>\n",
       "      <td>618.863770</td>\n",
       "    </tr>\n",
       "    <tr>\n",
       "      <th>num_true</th>\n",
       "      <td>4304.000000</td>\n",
       "    </tr>\n",
       "    <tr>\n",
       "      <th>num_del</th>\n",
       "      <td>3126.000000</td>\n",
       "    </tr>\n",
       "    <tr>\n",
       "      <th>num_ins</th>\n",
       "      <td>205.000000</td>\n",
       "    </tr>\n",
       "    <tr>\n",
       "      <th>num_align</th>\n",
       "      <td>1178.000000</td>\n",
       "    </tr>\n",
       "    <tr>\n",
       "      <th>insdel_per_true</th>\n",
       "      <td>0.773931</td>\n",
       "    </tr>\n",
       "    <tr>\n",
       "      <th>total_transport_per_true</th>\n",
       "      <td>0.143788</td>\n",
       "    </tr>\n",
       "  </tbody>\n",
       "</table>\n",
       "</div>"
      ],
      "text/plain": [
       "                                    0\n",
       "costs                        1.000000\n",
       "distances                    7.899729\n",
       "jaccard                      0.738745\n",
       "insdel                    3331.000000\n",
       "insdelrate                   0.773931\n",
       "oneminusF                    0.585722\n",
       "transport                    0.525351\n",
       "total_transport            618.863770\n",
       "num_true                  4304.000000\n",
       "num_del                   3126.000000\n",
       "num_ins                    205.000000\n",
       "num_align                 1178.000000\n",
       "insdel_per_true              0.773931\n",
       "total_transport_per_true     0.143788"
      ]
     },
     "execution_count": 24,
     "metadata": {},
     "output_type": "execute_result"
    }
   ],
   "source": [
    "pd.DataFrame.from_dict(pkl_results['MAP']['nhps'][5000]).T"
   ]
  },
  {
   "cell_type": "code",
   "execution_count": 17,
   "metadata": {
    "ExecuteTime": {
     "end_time": "2020-08-24T17:27:55.470142Z",
     "start_time": "2020-08-24T17:27:55.463588Z"
    }
   },
   "outputs": [
    {
     "data": {
      "text/plain": [
       "{'costs': array([1.], dtype=float32),\n",
       " 'distances': array([8.1755905], dtype=float32),\n",
       " 'jaccard': array([0.74634997]),\n",
       " 'insdel': array([3425.], dtype=float32),\n",
       " 'insdelrate': array([0.79577138]),\n",
       " 'oneminusF': array([0.59534156]),\n",
       " 'transport': array([0.56941218]),\n",
       " 'total_transport': array([662.7958], dtype=float32),\n",
       " 'num_true': array([4304]),\n",
       " 'num_del': array([3140]),\n",
       " 'num_ins': array([285]),\n",
       " 'num_align': array([1164]),\n",
       " 'insdel_per_true': array([0.79577138]),\n",
       " 'total_transport_per_true': array([0.1539953])}"
      ]
     },
     "execution_count": 17,
     "metadata": {},
     "output_type": "execute_result"
    }
   ],
   "source": [
    "pkl_results['MBR']['nhpf']"
   ]
  },
  {
   "cell_type": "code",
   "execution_count": 13,
   "metadata": {
    "ExecuteTime": {
     "end_time": "2020-08-24T06:31:10.336266Z",
     "start_time": "2020-08-24T06:31:10.324234Z"
    }
   },
   "outputs": [
    {
     "data": {
      "text/plain": [
       "{5000: {'all_avg_proposals': array([-7.78159678e-01, -5.91913342e-01, -1.27481604e+00, -2.13758254e+00,\n",
       "         -6.02007866e-01, -1.19059825e+00, -6.50591433e-01, -1.06882203e+00,\n",
       "         -2.10347295e-01, -1.34690452e+00, -1.72251368e+00, -1.31972516e+00,\n",
       "         -1.62710989e+00, -9.50261116e-01, -1.21150947e+00, -1.01071978e+00,\n",
       "         -4.18927968e-01, -8.07713270e-01, -1.24154365e+00, -1.42333364e+00,\n",
       "         -7.32556641e-01, -1.53148878e+00, -1.08111405e+00, -9.89900589e-01,\n",
       "         -1.57416189e+00, -2.94510031e+00, -6.00464702e-01, -1.38519228e+00,\n",
       "         -7.74387181e-01, -2.22329187e+00, -7.00111389e-01, -1.32856619e+00,\n",
       "         -1.37796485e+00, -1.69120121e+00, -1.74038994e+00, -4.44256037e-01,\n",
       "         -1.16976416e+00, -4.16232467e-01, -1.65766895e+00, -1.20880890e+00,\n",
       "         -9.70649779e-01, -7.43338287e-01, -1.33265388e+00, -2.32765293e+00,\n",
       "         -1.69825137e+00, -5.98426163e-01, -1.77297127e+00, -3.85544837e-01,\n",
       "         -1.41837204e+00, -4.53032732e-01, -1.63236856e+00, -9.92250562e-01,\n",
       "         -7.16161609e-01, -2.38168263e+00, -9.72789049e-01, -6.93883359e-01,\n",
       "         -8.61500502e-01, -1.63882041e+00, -1.87140036e+00, -9.37475801e-01,\n",
       "         -2.94986486e+00, -9.11017895e-01, -9.75111127e-01, -8.67689788e-01,\n",
       "         -1.63937294e+00, -1.83026814e+00, -7.24442542e-01, -1.22736633e+00,\n",
       "         -3.90412480e-01, -1.89539599e+00, -1.29460871e+00, -3.37805009e+00,\n",
       "         -2.07013750e+00, -4.48114783e-01, -1.82276830e-01, -6.16095960e-01,\n",
       "         -5.13577044e-01, -1.04394329e+00, -7.09163785e-01, -1.11028135e+00,\n",
       "         -8.36065292e-01, -1.28788674e+00, -1.84702551e+00, -1.51915228e+00,\n",
       "         -1.16409314e+00, -1.07894194e+00, -7.62845039e-01, -1.62734544e+00,\n",
       "         -1.48788321e+00, -1.45812035e-02, -7.36691296e-01, -5.46801865e-01,\n",
       "         -4.06365782e-01, -6.95183039e-01, -1.08783126e+00, -1.90225315e+00,\n",
       "         -1.15634716e+00, -1.19026589e+00, -1.74461067e+00, -1.43996954e+00,\n",
       "         -2.11474180e+00, -2.66417414e-01, -1.91704392e+00, -8.85305285e-01,\n",
       "         -1.34538841e+00, -9.51629043e-01, -9.42142665e-01, -5.26075602e-01,\n",
       "         -1.02146745e+00, -9.98354018e-01, -7.19566941e-01, -1.35999298e+00,\n",
       "         -2.72458744e+00, -2.28639126e+00, -1.04585040e+00, -6.36086345e-01,\n",
       "         -1.44141448e+00, -1.03848588e+00, -1.68179941e+00, -9.15604651e-01,\n",
       "         -1.49157441e+00,  2.95740478e-02, -9.95001614e-01, -1.23309076e+00,\n",
       "         -1.21747530e+00, -6.83934689e-01, -1.58526862e+00, -8.87759507e-01,\n",
       "         -1.47925138e+00, -1.41673696e+00, -7.25306571e-01, -1.56015050e+00,\n",
       "         -6.17929518e-01, -3.19233611e-02, -6.17062330e-01, -2.07530522e+00,\n",
       "         -1.47446287e+00, -1.69677043e+00, -1.38840580e+00, -6.01625979e-01,\n",
       "         -2.76724386e+00, -7.75158346e-01, -2.06610036e+00, -7.97016501e-01,\n",
       "         -1.95240128e+00, -6.66873634e-01, -2.12634969e+00, -9.66816247e-01,\n",
       "         -8.52923453e-01, -1.24238634e+00, -3.29015523e-01, -6.31053805e-01,\n",
       "         -1.63429546e+00, -5.61830521e-01, -2.51085734e+00, -4.97901440e+00,\n",
       "         -8.25622261e-01, -1.37685835e+00, -1.37826216e+00, -2.81633878e+00,\n",
       "         -1.47714746e+00, -1.09740281e+00, -6.10683978e-01, -1.35327029e+00,\n",
       "         -1.79807150e+00, -9.92367327e-01, -1.11103034e+00, -1.63291681e+00,\n",
       "         -7.49502718e-01, -6.67171001e-01, -4.55655992e-01, -1.05586457e+00,\n",
       "         -1.76577127e+00, -5.67086816e-01, -2.38976568e-01, -1.75484276e+00,\n",
       "         -9.44677532e-01, -1.01580966e+00, -1.43637121e+00, -1.02415705e+00,\n",
       "         -1.90937817e+00, -8.82403314e-01, -6.18336678e-01, -1.63230920e+00,\n",
       "         -5.33408344e-01, -4.75683093e-01, -1.67664075e+00, -1.96393228e+00,\n",
       "         -7.69108951e-01, -5.56227446e-01, -1.32334888e+00, -4.89805430e-01,\n",
       "         -1.47090375e+00, -1.81864142e+00, -1.07131112e+00, -1.41698778e+00,\n",
       "         -2.18335843e+00, -9.49076414e-01, -8.08923149e+00, -2.43372893e+00,\n",
       "         -1.77477491e+00, -1.05334735e+00, -2.03926468e+00, -4.37424242e-01,\n",
       "         -1.25045502e+00, -1.46510470e+00, -1.40489686e+00, -1.99089742e+00,\n",
       "         -2.84292555e+00, -1.74674630e+00, -9.23327565e-01, -1.80244088e+00,\n",
       "         -1.84412241e+00, -1.10306239e+00, -9.20864880e-01, -7.78376400e-01,\n",
       "         -1.12134314e+00, -1.34771168e+00, -1.02151895e+00, -2.14914942e+00,\n",
       "         -2.74086261e+00, -1.82363260e+00, -4.11517359e-02, -1.45683801e+00,\n",
       "         -1.13631392e+00, -1.19608867e+00, -9.59824085e-01, -1.19980127e-01,\n",
       "         -3.15387815e-01, -7.31737494e-01, -7.69623220e-02, -1.78568304e+00,\n",
       "         -1.65226722e+00, -3.38509530e-01, -1.25154233e+00, -3.68918514e+00,\n",
       "         -4.01419729e-01, -1.16413236e+00, -1.07680011e+00, -1.11977077e+00,\n",
       "         -8.82336915e-01, -4.04397815e-01, -6.93255186e-01, -1.13752019e+00,\n",
       "         -1.67788720e+00, -1.71587837e+00, -8.40498388e-01, -9.69500065e-01,\n",
       "         -4.92714614e-01, -6.16881311e-01, -1.00214207e+00, -2.89500499e+00,\n",
       "         -2.92525709e-01, -1.40821433e+00, -1.14722848e+00, -2.36304760e+00,\n",
       "         -1.01700926e+00, -4.94376928e-01, -8.69084820e-02, -5.61135650e-01,\n",
       "         -1.50789905e+00, -1.68381810e+00, -8.13268185e-01, -2.44242144e+00,\n",
       "         -9.50133443e-01, -1.76713502e+00, -1.79610395e+00, -1.03798008e+00,\n",
       "         -3.78719449e-01, -9.26051140e-01, -2.57810736e+00, -1.10422504e+00,\n",
       "         -4.12749648e-01, -2.85394573e+00, -4.78873938e-01, -1.60573864e+00,\n",
       "         -8.57480049e-01, -7.66174793e-01, -3.12587810e+00, -8.43292415e-01,\n",
       "         -2.14080358e+00, -8.71369958e-01, -3.73002410e-01, -8.86086881e-01,\n",
       "         -6.16974413e-01, -5.23907042e+00, -1.01192914e-01, -6.91885829e-01,\n",
       "         -5.80549181e-01, -1.74995422e+00, -2.06293297e+00, -1.71176469e+00,\n",
       "         -9.61484432e-01, -1.85785913e+00, -2.11779022e+00, -1.46897042e+00,\n",
       "         -1.45141470e+00, -1.71380258e+00, -1.19994128e+00, -1.55536914e+00,\n",
       "          1.32925883e-01, -7.38840461e-01, -1.08631372e+00, -1.63760471e+00,\n",
       "         -1.62265146e+00, -1.28122699e+00, -1.93774343e+00, -4.02128696e-01,\n",
       "         -1.40978086e+00, -1.11595619e+00, -5.38467824e-01, -5.84807754e-01,\n",
       "         -2.82169968e-01, -1.18824124e+00, -3.20869112e+00, -1.01090348e+00,\n",
       "         -1.03455973e+00, -8.26161325e-01, -6.30140722e-01, -4.02165353e-01,\n",
       "         -4.86847222e-01, -1.62920105e+00, -9.24748778e-01, -1.00912535e+00,\n",
       "         -8.40969384e-01, -9.90864217e-01, -2.00448728e+00, -1.64965868e+00,\n",
       "         -9.37313259e-01, -1.66072094e+00, -3.60594660e-01, -2.36945581e+00,\n",
       "         -1.58853221e+00, -2.03310418e+00, -1.03628397e+00, -4.69091445e-01,\n",
       "         -1.20586169e+00, -1.39051867e+00, -1.34621429e+00, -1.83639956e+00,\n",
       "         -1.57146251e+00, -1.00094736e+00, -2.85745144e+00, -8.54583204e-01,\n",
       "         -1.60443401e+00, -2.00265622e+00, -3.70085454e+00, -1.53999436e+00,\n",
       "         -1.57596397e+00, -2.63348520e-01, -8.26440215e-01, -3.47217500e-01,\n",
       "         -1.00677896e+00, -8.64729345e-01, -1.13928843e+00, -1.26960671e+00,\n",
       "         -2.07291508e+00, -2.68215680e+00, -2.04408288e+00, -3.87944400e-01,\n",
       "         -4.09820461e+00, -6.81271911e-01, -1.61462700e+00, -9.23499405e-01,\n",
       "         -1.23148429e+00, -1.59745121e+00, -1.59581280e+00, -1.30919778e+00,\n",
       "         -1.05740547e+00, -1.20030868e+00, -1.13269007e+00, -1.41785359e+00,\n",
       "         -1.61213410e+00, -2.03281617e+00, -1.49170876e+00, -2.47788644e+00,\n",
       "         -1.63254976e+00, -5.59195936e-01, -1.35406089e+00, -1.02736700e+00,\n",
       "         -1.62774658e+00, -2.06930351e+00, -3.00325185e-01, -1.59070086e+00,\n",
       "         -1.35309887e+00, -1.78459251e+00, -1.95609403e+00, -9.34820712e-01,\n",
       "         -9.87044200e-02, -1.18013573e+00, -1.73728609e+00, -2.67701888e+00,\n",
       "         -8.99534106e-01, -1.35112178e+00, -2.09648252e+00, -1.69260788e+00,\n",
       "         -1.28798759e+00, -9.45965230e-01, -1.06221616e+00, -1.78330171e+00,\n",
       "         -1.43474972e+00, -1.16752219e+00, -6.37758374e-02, -7.83020258e-01,\n",
       "         -1.39664841e+00, -1.08630240e+00, -1.52615345e+00, -6.36385202e-01,\n",
       "         -1.39943469e+00, -6.25303090e-01, -1.46354151e+00, -1.46325111e+00,\n",
       "         -9.11830425e-01, -2.20762420e+00, -1.06791055e+00, -1.52215314e+00,\n",
       "         -1.24236929e+00, -2.48739672e+00, -5.02928019e-01, -1.64630508e+00,\n",
       "         -4.98616129e-01, -2.11214280e+00, -6.70312822e-01, -1.35458744e+00,\n",
       "         -2.18702126e+00, -2.01478982e+00, -6.95194781e-01, -3.31320107e-01,\n",
       "         -9.17999923e-01, -2.91232491e+00, -6.89595100e-03, -2.19200778e+00,\n",
       "         -1.04736507e+00, -1.24073792e+00, -7.46531725e-01, -1.13411200e+00,\n",
       "         -1.25521123e+00, -6.53172374e-01, -1.67384636e+00, -1.46890688e+00,\n",
       "         -1.02167535e+00, -1.56418049e+00, -1.04337180e+00, -1.77441883e+00,\n",
       "         -2.70297575e+00, -1.30829799e+00, -9.93312836e-01, -7.24114776e-01,\n",
       "         -2.42326212e+00, -1.90772619e-02, -6.68960571e+00, -8.63751233e-01,\n",
       "         -1.86044741e+00, -1.33316791e+00, -7.62384057e-01, -8.61008406e-01,\n",
       "         -9.11177814e-01, -8.42961311e-01, -1.14092112e+00, -9.98388052e-01,\n",
       "         -1.47154987e+00, -1.65073824e+00, -1.18231511e+00, -1.23273551e+00,\n",
       "         -1.64902031e+00, -1.07725215e+00, -1.19855690e+00, -6.11222327e-01,\n",
       "         -1.20975232e+00, -1.61602116e+00, -3.96008313e-01, -1.65400475e-01,\n",
       "         -4.39133734e-01, -7.88157046e-01, -7.73878634e-01, -6.94080651e-01,\n",
       "         -1.09289300e+00, -1.03217494e+00, -7.25090444e-01, -5.68931341e-01,\n",
       "         -1.24739981e+00, -2.27293062e+00, -2.05387235e+00, -7.25771070e-01,\n",
       "         -9.58475113e-01, -6.30306423e-01, -2.11578441e+00, -9.52078998e-01,\n",
       "         -2.39042568e+00, -1.84681582e+00, -8.41306508e-01, -1.17260063e+00,\n",
       "         -6.45222723e-01, -6.99019432e-01, -5.82269549e-01], dtype=float32),\n",
       "  'avg_proposal': -1.1384214212958697}}"
      ]
     },
     "execution_count": 13,
     "metadata": {},
     "output_type": "execute_result"
    }
   ],
   "source": [
    "pkl_results['LogProposal']['nhps']#[5000]"
   ]
  },
  {
   "cell_type": "code",
   "execution_count": 2,
   "metadata": {
    "ExecuteTime": {
     "end_time": "2020-08-24T06:17:44.963182Z",
     "start_time": "2020-08-24T06:17:44.798244Z"
    }
   },
   "outputs": [],
   "source": [
    "with open('data/pilottaxi/train.pkl', 'rb') as f:\n",
    "    pkl_train = pickle.load(f)"
   ]
  },
  {
   "cell_type": "code",
   "execution_count": 3,
   "metadata": {
    "ExecuteTime": {
     "end_time": "2020-08-24T06:17:50.555762Z",
     "start_time": "2020-08-24T06:17:50.544731Z"
    }
   },
   "outputs": [
    {
     "data": {
      "text/plain": [
       "dict_keys(['seqs', 'total_num'])"
      ]
     },
     "execution_count": 3,
     "metadata": {},
     "output_type": "execute_result"
    }
   ],
   "source": [
    "pkl_train.keys()"
   ]
  },
  {
   "cell_type": "code",
   "execution_count": 4,
   "metadata": {
    "ExecuteTime": {
     "end_time": "2020-08-24T06:19:30.174289Z",
     "start_time": "2020-08-24T06:19:30.150690Z"
    }
   },
   "outputs": [],
   "source": [
    "with open('data/pilottaxi/test.pkl', 'rb') as f:\n",
    "    pkl_test = pickle.load(f)"
   ]
  },
  {
   "cell_type": "code",
   "execution_count": 5,
   "metadata": {
    "ExecuteTime": {
     "end_time": "2020-08-24T06:19:34.558165Z",
     "start_time": "2020-08-24T06:19:34.553652Z"
    }
   },
   "outputs": [
    {
     "data": {
      "text/plain": [
       "dict_keys(['seqs', 'total_num'])"
      ]
     },
     "execution_count": 5,
     "metadata": {},
     "output_type": "execute_result"
    }
   ],
   "source": [
    "pkl_train.keys()"
   ]
  },
  {
   "cell_type": "code",
   "execution_count": 29,
   "metadata": {
    "ExecuteTime": {
     "end_time": "2020-08-23T08:27:52.037113Z",
     "start_time": "2020-08-23T08:27:52.032602Z"
    }
   },
   "outputs": [
    {
     "data": {
      "text/plain": [
       "5000"
      ]
     },
     "execution_count": 29,
     "metadata": {},
     "output_type": "execute_result"
    }
   ],
   "source": [
    "len(pkl_train['seqs'])"
   ]
  },
  {
   "cell_type": "code",
   "execution_count": 30,
   "metadata": {
    "ExecuteTime": {
     "end_time": "2020-08-23T08:28:00.209303Z",
     "start_time": "2020-08-23T08:28:00.204290Z"
    }
   },
   "outputs": [
    {
     "data": {
      "text/plain": [
       "500"
      ]
     },
     "execution_count": 30,
     "metadata": {},
     "output_type": "execute_result"
    }
   ],
   "source": [
    "len(pkl_dev['seqs'])"
   ]
  },
  {
   "cell_type": "code",
   "execution_count": null,
   "metadata": {},
   "outputs": [],
   "source": [
    "!"
   ]
  },
  {
   "cell_type": "code",
   "execution_count": null,
   "metadata": {},
   "outputs": [],
   "source": [
    "pkl_train.k"
   ]
  },
  {
   "cell_type": "code",
   "execution_count": null,
   "metadata": {},
   "outputs": [],
   "source": [
    "pkl_train."
   ]
  },
  {
   "cell_type": "code",
   "execution_count": 5,
   "metadata": {
    "ExecuteTime": {
     "end_time": "2020-08-23T08:10:34.292795Z",
     "start_time": "2020-08-23T08:10:34.289285Z"
    }
   },
   "outputs": [
    {
     "data": {
      "text/plain": [
       "dict_keys(['seqs', 'seqs_obs', 'total_num'])"
      ]
     },
     "execution_count": 5,
     "metadata": {},
     "output_type": "execute_result"
    }
   ],
   "source": [
    "pkl_train.keys()"
   ]
  },
  {
   "cell_type": "code",
   "execution_count": 12,
   "metadata": {
    "ExecuteTime": {
     "end_time": "2020-08-23T08:12:57.004755Z",
     "start_time": "2020-08-23T08:12:57.000744Z"
    }
   },
   "outputs": [
    {
     "data": {
      "text/plain": [
       "[{'idx_event': 2,\n",
       "  'time_since_last_event': 1.5988246,\n",
       "  'time_since_start': 1.5988246,\n",
       "  'time_since_last_same_event': 1.5988246,\n",
       "  'type_event': 0},\n",
       " {'idx_event': 3,\n",
       "  'time_since_last_event': 0.1738708,\n",
       "  'time_since_start': 1.7726954,\n",
       "  'time_since_last_same_event': 1.7726954,\n",
       "  'type_event': 1},\n",
       " {'idx_event': 4,\n",
       "  'time_since_last_event': 0.58337486,\n",
       "  'time_since_start': 2.3560703,\n",
       "  'time_since_last_same_event': 0.58337486,\n",
       "  'type_event': 1},\n",
       " {'idx_event': 5,\n",
       "  'time_since_last_event': 0.28365803,\n",
       "  'time_since_start': 2.6397283,\n",
       "  'time_since_last_same_event': 2.6397283,\n",
       "  'type_event': 3},\n",
       " {'idx_event': 6,\n",
       "  'time_since_last_event': 0.08608818,\n",
       "  'time_since_start': 2.7258165,\n",
       "  'time_since_last_same_event': 0.08608818,\n",
       "  'type_event': 3}]"
      ]
     },
     "execution_count": 12,
     "metadata": {},
     "output_type": "execute_result"
    }
   ],
   "source": [
    "pkl_train['seqs'][0][:5]"
   ]
  },
  {
   "cell_type": "code",
   "execution_count": 13,
   "metadata": {
    "ExecuteTime": {
     "end_time": "2020-08-23T08:13:02.663362Z",
     "start_time": "2020-08-23T08:13:02.658848Z"
    }
   },
   "outputs": [
    {
     "data": {
      "text/plain": [
       "[{'idx_event': 0,\n",
       "  'type_event': 0,\n",
       "  'time_since_start': 1.5988246,\n",
       "  'time_since_last_event': 1.5988246},\n",
       " {'idx_event': 1,\n",
       "  'type_event': 1,\n",
       "  'time_since_start': 1.7726954,\n",
       "  'time_since_last_event': 0.1738708},\n",
       " {'idx_event': 2,\n",
       "  'type_event': 1,\n",
       "  'time_since_start': 2.3560703,\n",
       "  'time_since_last_event': 0.58337486},\n",
       " {'idx_event': 3,\n",
       "  'type_event': 1,\n",
       "  'time_since_start': 4.128066,\n",
       "  'time_since_last_event': 1.7719958},\n",
       " {'idx_event': 4,\n",
       "  'type_event': 1,\n",
       "  'time_since_start': 4.1630387,\n",
       "  'time_since_last_event': 0.034972668}]"
      ]
     },
     "execution_count": 13,
     "metadata": {},
     "output_type": "execute_result"
    }
   ],
   "source": [
    "pkl_train['seqs_obs'][0]"
   ]
  },
  {
   "cell_type": "code",
   "execution_count": null,
   "metadata": {},
   "outputs": [],
   "source": []
  },
  {
   "cell_type": "code",
   "execution_count": 22,
   "metadata": {
    "ExecuteTime": {
     "end_time": "2020-08-22T13:07:45.478730Z",
     "start_time": "2020-08-22T13:07:45.468701Z"
    }
   },
   "outputs": [
    {
     "name": "stdout",
     "output_type": "stream",
     "text": [
      "(34, 4)\n"
     ]
    },
    {
     "data": {
      "text/html": [
       "<div>\n",
       "<style scoped>\n",
       "    .dataframe tbody tr th:only-of-type {\n",
       "        vertical-align: middle;\n",
       "    }\n",
       "\n",
       "    .dataframe tbody tr th {\n",
       "        vertical-align: top;\n",
       "    }\n",
       "\n",
       "    .dataframe thead th {\n",
       "        text-align: right;\n",
       "    }\n",
       "</style>\n",
       "<table border=\"1\" class=\"dataframe\">\n",
       "  <thead>\n",
       "    <tr style=\"text-align: right;\">\n",
       "      <th></th>\n",
       "      <th>idx_event</th>\n",
       "      <th>type_event</th>\n",
       "      <th>time_since_start</th>\n",
       "      <th>time_since_last_event</th>\n",
       "    </tr>\n",
       "  </thead>\n",
       "  <tbody>\n",
       "    <tr>\n",
       "      <th>0</th>\n",
       "      <td>1</td>\n",
       "      <td>8</td>\n",
       "      <td>0.000000</td>\n",
       "      <td>0.000000</td>\n",
       "    </tr>\n",
       "    <tr>\n",
       "      <th>1</th>\n",
       "      <td>2</td>\n",
       "      <td>3</td>\n",
       "      <td>0.195833</td>\n",
       "      <td>0.195833</td>\n",
       "    </tr>\n",
       "    <tr>\n",
       "      <th>2</th>\n",
       "      <td>3</td>\n",
       "      <td>8</td>\n",
       "      <td>0.613056</td>\n",
       "      <td>0.417222</td>\n",
       "    </tr>\n",
       "    <tr>\n",
       "      <th>3</th>\n",
       "      <td>4</td>\n",
       "      <td>3</td>\n",
       "      <td>0.706667</td>\n",
       "      <td>0.093611</td>\n",
       "    </tr>\n",
       "    <tr>\n",
       "      <th>4</th>\n",
       "      <td>5</td>\n",
       "      <td>8</td>\n",
       "      <td>0.977778</td>\n",
       "      <td>0.271111</td>\n",
       "    </tr>\n",
       "  </tbody>\n",
       "</table>\n",
       "</div>"
      ],
      "text/plain": [
       "   idx_event  type_event  time_since_start  time_since_last_event\n",
       "0          1           8          0.000000               0.000000\n",
       "1          2           3          0.195833               0.195833\n",
       "2          3           8          0.613056               0.417222\n",
       "3          4           3          0.706667               0.093611\n",
       "4          5           8          0.977778               0.271111"
      ]
     },
     "execution_count": 22,
     "metadata": {},
     "output_type": "execute_result"
    }
   ],
   "source": [
    "temp = pd.DataFrame(pkl_train['seqs'][0])\n",
    "print(temp.shape)\n",
    "temp.head()"
   ]
  },
  {
   "cell_type": "code",
   "execution_count": 24,
   "metadata": {
    "ExecuteTime": {
     "end_time": "2020-08-22T13:08:09.764798Z",
     "start_time": "2020-08-22T13:08:09.750757Z"
    }
   },
   "outputs": [
    {
     "name": "stdout",
     "output_type": "stream",
     "text": [
      "(17, 4)\n"
     ]
    },
    {
     "data": {
      "text/html": [
       "<div>\n",
       "<style scoped>\n",
       "    .dataframe tbody tr th:only-of-type {\n",
       "        vertical-align: middle;\n",
       "    }\n",
       "\n",
       "    .dataframe tbody tr th {\n",
       "        vertical-align: top;\n",
       "    }\n",
       "\n",
       "    .dataframe thead th {\n",
       "        text-align: right;\n",
       "    }\n",
       "</style>\n",
       "<table border=\"1\" class=\"dataframe\">\n",
       "  <thead>\n",
       "    <tr style=\"text-align: right;\">\n",
       "      <th></th>\n",
       "      <th>idx_event</th>\n",
       "      <th>type_event</th>\n",
       "      <th>time_since_start</th>\n",
       "      <th>time_since_last_event</th>\n",
       "    </tr>\n",
       "  </thead>\n",
       "  <tbody>\n",
       "    <tr>\n",
       "      <th>0</th>\n",
       "      <td>1</td>\n",
       "      <td>3</td>\n",
       "      <td>0.195833</td>\n",
       "      <td>0.195833</td>\n",
       "    </tr>\n",
       "    <tr>\n",
       "      <th>1</th>\n",
       "      <td>2</td>\n",
       "      <td>3</td>\n",
       "      <td>0.706667</td>\n",
       "      <td>0.510833</td>\n",
       "    </tr>\n",
       "    <tr>\n",
       "      <th>2</th>\n",
       "      <td>3</td>\n",
       "      <td>3</td>\n",
       "      <td>1.139722</td>\n",
       "      <td>0.433056</td>\n",
       "    </tr>\n",
       "    <tr>\n",
       "      <th>3</th>\n",
       "      <td>4</td>\n",
       "      <td>3</td>\n",
       "      <td>1.623333</td>\n",
       "      <td>0.483611</td>\n",
       "    </tr>\n",
       "    <tr>\n",
       "      <th>4</th>\n",
       "      <td>5</td>\n",
       "      <td>3</td>\n",
       "      <td>1.955278</td>\n",
       "      <td>0.331944</td>\n",
       "    </tr>\n",
       "  </tbody>\n",
       "</table>\n",
       "</div>"
      ],
      "text/plain": [
       "   idx_event  type_event  time_since_start  time_since_last_event\n",
       "0          1           3          0.195833               0.195833\n",
       "1          2           3          0.706667               0.510833\n",
       "2          3           3          1.139722               0.433056\n",
       "3          4           3          1.623333               0.483611\n",
       "4          5           3          1.955278               0.331944"
      ]
     },
     "execution_count": 24,
     "metadata": {},
     "output_type": "execute_result"
    }
   ],
   "source": [
    "temp = pd.DataFrame(pkl_train['seqs_obs'][0])\n",
    "print(temp.shape)\n",
    "temp.head()"
   ]
  },
  {
   "cell_type": "code",
   "execution_count": 21,
   "metadata": {
    "ExecuteTime": {
     "end_time": "2020-08-22T13:07:18.057787Z",
     "start_time": "2020-08-22T13:07:18.053793Z"
    }
   },
   "outputs": [
    {
     "data": {
      "text/plain": [
       "10"
      ]
     },
     "execution_count": 21,
     "metadata": {},
     "output_type": "execute_result"
    }
   ],
   "source": [
    "pkl_train['total_num']"
   ]
  },
  {
   "cell_type": "markdown",
   "metadata": {
    "ExecuteTime": {
     "end_time": "2020-08-22T12:46:17.618949Z",
     "start_time": "2020-08-22T12:46:17.616436Z"
    }
   },
   "source": [
    "### seq_obs"
   ]
  },
  {
   "cell_type": "code",
   "execution_count": 5,
   "metadata": {
    "ExecuteTime": {
     "end_time": "2020-08-22T12:38:42.428539Z",
     "start_time": "2020-08-22T12:38:18.833259Z"
    },
    "code_folding": [
     0
    ]
   },
   "outputs": [
    {
     "name": "stderr",
     "output_type": "stream",
     "text": [
      "C:\\Users\\am21907\\AppData\\Local\\Continuum\\anaconda3\\lib\\site-packages\\ipykernel_launcher.py:2: TqdmDeprecationWarning: This function will be removed in tqdm==5.0.0\n",
      "Please use `tqdm.notebook.tqdm` instead of `tqdm.tqdm_notebook`\n",
      "  \n"
     ]
    },
    {
     "data": {
      "application/vnd.jupyter.widget-view+json": {
       "model_id": "a259240827634327bd8be39e431b2c8a",
       "version_major": 2,
       "version_minor": 0
      },
      "text/plain": [
       "HBox(children=(FloatProgress(value=0.0, max=5000.0), HTML(value='')))"
      ]
     },
     "metadata": {},
     "output_type": "display_data"
    },
    {
     "name": "stdout",
     "output_type": "stream",
     "text": [
      "\n"
     ]
    }
   ],
   "source": [
    "## convert dict to df\n",
    "seq_obs_df = pd.DataFrame()\n",
    "for i in tqdm_notebook(range(0,len(pkl_train['seqs_obs']))):\n",
    "    temp_df = (pd.DataFrame(pkl_train['seqs_obs'][i]))\n",
    "    temp_df['id'] = i\n",
    "    seq_obs_df = pd.concat([seq_obs_df,temp_df])\n",
    "seq_obs_df.head()"
   ]
  },
  {
   "cell_type": "code",
   "execution_count": 9,
   "metadata": {
    "ExecuteTime": {
     "end_time": "2020-08-22T12:47:34.950001Z",
     "start_time": "2020-08-22T12:47:34.941982Z"
    },
    "code_folding": []
   },
   "outputs": [
    {
     "data": {
      "text/plain": [
       "3    66354\n",
       "0     7214\n",
       "1     4770\n",
       "4      409\n",
       "2      211\n",
       "Name: type_event, dtype: int64"
      ]
     },
     "execution_count": 9,
     "metadata": {},
     "output_type": "execute_result"
    }
   ],
   "source": [
    "# check all event type occurances\n",
    "seq_obs_df['type_event'].value_counts(dropna=False)"
   ]
  },
  {
   "cell_type": "code",
   "execution_count": 10,
   "metadata": {
    "ExecuteTime": {
     "end_time": "2020-08-22T12:47:49.971689Z",
     "start_time": "2020-08-22T12:47:49.962694Z"
    },
    "code_folding": [
     0
    ]
   },
   "outputs": [
    {
     "data": {
      "text/plain": [
       "10    5000\n",
       "9     5000\n",
       "2     5000\n",
       "3     5000\n",
       "4     5000\n",
       "5     5000\n",
       "6     5000\n",
       "7     5000\n",
       "8     5000\n",
       "1     5000\n",
       "11    5000\n",
       "12    4677\n",
       "13    4304\n",
       "14    3894\n",
       "15    3470\n",
       "16    2924\n",
       "17    2280\n",
       "18    1583\n",
       "19     826\n",
       "Name: idx_event, dtype: int64"
      ]
     },
     "execution_count": 10,
     "metadata": {},
     "output_type": "execute_result"
    }
   ],
   "source": [
    "# check all event idx occurances\n",
    "seq_obs_df['idx_event'].value_counts(dropna=False)"
   ]
  },
  {
   "cell_type": "markdown",
   "metadata": {
    "ExecuteTime": {
     "end_time": "2020-08-22T12:46:17.618949Z",
     "start_time": "2020-08-22T12:46:17.616436Z"
    }
   },
   "source": [
    "### seq"
   ]
  },
  {
   "cell_type": "code",
   "execution_count": 14,
   "metadata": {
    "ExecuteTime": {
     "end_time": "2020-08-22T12:52:15.102233Z",
     "start_time": "2020-08-22T12:51:25.191961Z"
    },
    "code_folding": [
     0
    ]
   },
   "outputs": [
    {
     "name": "stderr",
     "output_type": "stream",
     "text": [
      "C:\\Users\\am21907\\AppData\\Local\\Continuum\\anaconda3\\lib\\site-packages\\ipykernel_launcher.py:3: TqdmDeprecationWarning: This function will be removed in tqdm==5.0.0\n",
      "Please use `tqdm.notebook.tqdm` instead of `tqdm.tqdm_notebook`\n",
      "  This is separate from the ipykernel package so we can avoid doing imports until\n"
     ]
    },
    {
     "data": {
      "application/vnd.jupyter.widget-view+json": {
       "model_id": "ce2b6827292f42258e95962c228da87d",
       "version_major": 2,
       "version_minor": 0
      },
      "text/plain": [
       "HBox(children=(FloatProgress(value=0.0, max=5000.0), HTML(value='')))"
      ]
     },
     "metadata": {},
     "output_type": "display_data"
    },
    {
     "name": "stdout",
     "output_type": "stream",
     "text": [
      "\n"
     ]
    },
    {
     "data": {
      "text/html": [
       "<div>\n",
       "<style scoped>\n",
       "    .dataframe tbody tr th:only-of-type {\n",
       "        vertical-align: middle;\n",
       "    }\n",
       "\n",
       "    .dataframe tbody tr th {\n",
       "        vertical-align: top;\n",
       "    }\n",
       "\n",
       "    .dataframe thead th {\n",
       "        text-align: right;\n",
       "    }\n",
       "</style>\n",
       "<table border=\"1\" class=\"dataframe\">\n",
       "  <thead>\n",
       "    <tr style=\"text-align: right;\">\n",
       "      <th></th>\n",
       "      <th>idx_event</th>\n",
       "      <th>type_event</th>\n",
       "      <th>time_since_start</th>\n",
       "      <th>time_since_last_event</th>\n",
       "      <th>id</th>\n",
       "    </tr>\n",
       "  </thead>\n",
       "  <tbody>\n",
       "    <tr>\n",
       "      <th>0</th>\n",
       "      <td>1</td>\n",
       "      <td>8</td>\n",
       "      <td>0.000000</td>\n",
       "      <td>0.000000</td>\n",
       "      <td>0</td>\n",
       "    </tr>\n",
       "    <tr>\n",
       "      <th>1</th>\n",
       "      <td>2</td>\n",
       "      <td>3</td>\n",
       "      <td>0.195833</td>\n",
       "      <td>0.195833</td>\n",
       "      <td>0</td>\n",
       "    </tr>\n",
       "    <tr>\n",
       "      <th>2</th>\n",
       "      <td>3</td>\n",
       "      <td>8</td>\n",
       "      <td>0.613056</td>\n",
       "      <td>0.417222</td>\n",
       "      <td>0</td>\n",
       "    </tr>\n",
       "    <tr>\n",
       "      <th>3</th>\n",
       "      <td>4</td>\n",
       "      <td>3</td>\n",
       "      <td>0.706667</td>\n",
       "      <td>0.093611</td>\n",
       "      <td>0</td>\n",
       "    </tr>\n",
       "    <tr>\n",
       "      <th>4</th>\n",
       "      <td>5</td>\n",
       "      <td>8</td>\n",
       "      <td>0.977778</td>\n",
       "      <td>0.271111</td>\n",
       "      <td>0</td>\n",
       "    </tr>\n",
       "  </tbody>\n",
       "</table>\n",
       "</div>"
      ],
      "text/plain": [
       "   idx_event  type_event  time_since_start  time_since_last_event  id\n",
       "0          1           8          0.000000               0.000000   0\n",
       "1          2           3          0.195833               0.195833   0\n",
       "2          3           8          0.613056               0.417222   0\n",
       "3          4           3          0.706667               0.093611   0\n",
       "4          5           8          0.977778               0.271111   0"
      ]
     },
     "execution_count": 14,
     "metadata": {},
     "output_type": "execute_result"
    }
   ],
   "source": [
    "## convert dict to df\n",
    "seqs_df = pd.DataFrame()\n",
    "for i in tqdm_notebook(range(0,len(pkl_train['seqs']))):\n",
    "    temp_df = (pd.DataFrame(pkl_train['seqs'][i]))\n",
    "    temp_df['id'] = i\n",
    "    seqs_df = pd.concat([seqs_df,temp_df])\n",
    "seqs_df.head()"
   ]
  },
  {
   "cell_type": "code",
   "execution_count": 33,
   "metadata": {
    "ExecuteTime": {
     "end_time": "2020-08-22T13:35:40.732192Z",
     "start_time": "2020-08-22T13:35:40.722191Z"
    },
    "code_folding": []
   },
   "outputs": [
    {
     "data": {
      "text/plain": [
       "8    68392\n",
       "3    66354\n",
       "5     8419\n",
       "0     7214\n",
       "1     4770\n",
       "6     2055\n",
       "4      409\n",
       "2      211\n",
       "7       51\n",
       "9       41\n",
       "Name: type_event, dtype: int64"
      ]
     },
     "execution_count": 33,
     "metadata": {},
     "output_type": "execute_result"
    }
   ],
   "source": [
    "# check all event type occurances\n",
    "seqs_df['type_event'].value_counts(dropna=False)"
   ]
  },
  {
   "cell_type": "markdown",
   "metadata": {},
   "source": [
    "#unique_event_types matches the number of events provided in censor.config"
   ]
  },
  {
   "cell_type": "code",
   "execution_count": 17,
   "metadata": {
    "ExecuteTime": {
     "end_time": "2020-08-22T12:52:31.621948Z",
     "start_time": "2020-08-22T12:52:31.608912Z"
    },
    "code_folding": [
     0
    ]
   },
   "outputs": [
    {
     "data": {
      "text/plain": [
       "19    5000\n",
       "18    5000\n",
       "16    5000\n",
       "15    5000\n",
       "14    5000\n",
       "13    5000\n",
       "12    5000\n",
       "11    5000\n",
       "10    5000\n",
       "9     5000\n",
       "8     5000\n",
       "7     5000\n",
       "6     5000\n",
       "5     5000\n",
       "4     5000\n",
       "3     5000\n",
       "2     5000\n",
       "17    5000\n",
       "1     5000\n",
       "20    5000\n",
       "21    5000\n",
       "22    5000\n",
       "23    4677\n",
       "24    4677\n",
       "25    4304\n",
       "26    4304\n",
       "28    3894\n",
       "27    3894\n",
       "29    3470\n",
       "30    3470\n",
       "31    2924\n",
       "32    2924\n",
       "33    2280\n",
       "34    2280\n",
       "36    1583\n",
       "35    1583\n",
       "37     826\n",
       "38     826\n",
       "Name: idx_event, dtype: int64"
      ]
     },
     "execution_count": 17,
     "metadata": {},
     "output_type": "execute_result"
    }
   ],
   "source": [
    "# check all event idx occurances\n",
    "seqs_df['idx_event'].value_counts(dropna=False)"
   ]
  },
  {
   "cell_type": "markdown",
   "metadata": {},
   "source": [
    "## Mimic training process"
   ]
  },
  {
   "cell_type": "markdown",
   "metadata": {},
   "source": [
    "### nhps"
   ]
  },
  {
   "cell_type": "code",
   "execution_count": 31,
   "metadata": {
    "ExecuteTime": {
     "end_time": "2020-08-22T13:19:27.810809Z",
     "start_time": "2020-08-22T13:19:26.789401Z"
    }
   },
   "outputs": [],
   "source": [
    "from copy import deepcopy\n",
    "data = deepcopy(pkl_train['seqs'])\n",
    "args = {\"MaxEpoch\":2,\"TrackPeriod\":5000}\n",
    "max_episode = args['MaxEpoch'] * len(data)\n",
    "report_gap = args['TrackPeriod']\n",
    "time_sample = 0.0\n",
    "time_train_only = 0.0\n",
    "time_dev_only = 0.0\n",
    "input = []\n",
    "input_particles = []\n",
    "\n",
    "for episode in range(max_episode):\n",
    "\n",
    "    idx_seq = episode % len(data)\n",
    "    idx_epoch = episode // len(data)\n",
    "    one_seq = data[ idx_seq ]\n",
    "    break"
   ]
  },
  {
   "cell_type": "code",
   "execution_count": 32,
   "metadata": {
    "ExecuteTime": {
     "end_time": "2020-08-22T13:19:32.508431Z",
     "start_time": "2020-08-22T13:19:32.500410Z"
    }
   },
   "outputs": [
    {
     "data": {
      "text/plain": [
       "[{'idx_event': 1,\n",
       "  'type_event': 8,\n",
       "  'time_since_start': 0.0,\n",
       "  'time_since_last_event': 0.0},\n",
       " {'idx_event': 2,\n",
       "  'type_event': 3,\n",
       "  'time_since_start': 0.19583333333333333,\n",
       "  'time_since_last_event': 0.19583333333333333},\n",
       " {'idx_event': 3,\n",
       "  'type_event': 8,\n",
       "  'time_since_start': 0.6130555555555556,\n",
       "  'time_since_last_event': 0.41722222222222227},\n",
       " {'idx_event': 4,\n",
       "  'type_event': 3,\n",
       "  'time_since_start': 0.7066666666666667,\n",
       "  'time_since_last_event': 0.09361111111111109},\n",
       " {'idx_event': 5,\n",
       "  'type_event': 8,\n",
       "  'time_since_start': 0.9777777777777777,\n",
       "  'time_since_last_event': 0.2711111111111111},\n",
       " {'idx_event': 6,\n",
       "  'type_event': 3,\n",
       "  'time_since_start': 1.1397222222222223,\n",
       "  'time_since_last_event': 0.16194444444444456},\n",
       " {'idx_event': 7,\n",
       "  'type_event': 8,\n",
       "  'time_since_start': 1.3297222222222222,\n",
       "  'time_since_last_event': 0.18999999999999995},\n",
       " {'idx_event': 8,\n",
       "  'type_event': 3,\n",
       "  'time_since_start': 1.6233333333333333,\n",
       "  'time_since_last_event': 0.29361111111111104},\n",
       " {'idx_event': 9,\n",
       "  'type_event': 8,\n",
       "  'time_since_start': 1.6908333333333334,\n",
       "  'time_since_last_event': 0.06750000000000012},\n",
       " {'idx_event': 10,\n",
       "  'type_event': 3,\n",
       "  'time_since_start': 1.9552777777777777,\n",
       "  'time_since_last_event': 0.26444444444444426},\n",
       " {'idx_event': 11,\n",
       "  'type_event': 8,\n",
       "  'time_since_start': 2.0208333333333335,\n",
       "  'time_since_last_event': 0.06555555555555581},\n",
       " {'idx_event': 12,\n",
       "  'type_event': 3,\n",
       "  'time_since_start': 2.1994444444444445,\n",
       "  'time_since_last_event': 0.17861111111111105},\n",
       " {'idx_event': 13,\n",
       "  'type_event': 8,\n",
       "  'time_since_start': 2.2669444444444444,\n",
       "  'time_since_last_event': 0.0674999999999999},\n",
       " {'idx_event': 14,\n",
       "  'type_event': 3,\n",
       "  'time_since_start': 2.4105555555555553,\n",
       "  'time_since_last_event': 0.1436111111111109},\n",
       " {'idx_event': 15,\n",
       "  'type_event': 8,\n",
       "  'time_since_start': 2.761388888888889,\n",
       "  'time_since_last_event': 0.35083333333333355},\n",
       " {'idx_event': 16,\n",
       "  'type_event': 3,\n",
       "  'time_since_start': 2.914722222222222,\n",
       "  'time_since_last_event': 0.15333333333333332},\n",
       " {'idx_event': 17,\n",
       "  'type_event': 8,\n",
       "  'time_since_start': 3.0280555555555555,\n",
       "  'time_since_last_event': 0.11333333333333329},\n",
       " {'idx_event': 18,\n",
       "  'type_event': 3,\n",
       "  'time_since_start': 3.176111111111111,\n",
       "  'time_since_last_event': 0.1480555555555556},\n",
       " {'idx_event': 19,\n",
       "  'type_event': 8,\n",
       "  'time_since_start': 3.281388888888889,\n",
       "  'time_since_last_event': 0.1052777777777778},\n",
       " {'idx_event': 20,\n",
       "  'type_event': 3,\n",
       "  'time_since_start': 3.641388888888889,\n",
       "  'time_since_last_event': 0.3599999999999999},\n",
       " {'idx_event': 21,\n",
       "  'type_event': 8,\n",
       "  'time_since_start': 3.6619444444444444,\n",
       "  'time_since_last_event': 0.02055555555555566},\n",
       " {'idx_event': 22,\n",
       "  'type_event': 3,\n",
       "  'time_since_start': 3.8355555555555556,\n",
       "  'time_since_last_event': 0.17361111111111116},\n",
       " {'idx_event': 23,\n",
       "  'type_event': 8,\n",
       "  'time_since_start': 4.065833333333333,\n",
       "  'time_since_last_event': 0.23027777777777736},\n",
       " {'idx_event': 24,\n",
       "  'type_event': 3,\n",
       "  'time_since_start': 4.173611111111111,\n",
       "  'time_since_last_event': 0.10777777777777775},\n",
       " {'idx_event': 25,\n",
       "  'type_event': 8,\n",
       "  'time_since_start': 4.420277777777778,\n",
       "  'time_since_last_event': 0.24666666666666703},\n",
       " {'idx_event': 26,\n",
       "  'type_event': 3,\n",
       "  'time_since_start': 4.455,\n",
       "  'time_since_last_event': 0.03472222222222232},\n",
       " {'idx_event': 27,\n",
       "  'type_event': 8,\n",
       "  'time_since_start': 4.495833333333334,\n",
       "  'time_since_last_event': 0.0408333333333335},\n",
       " {'idx_event': 28,\n",
       "  'type_event': 3,\n",
       "  'time_since_start': 4.687777777777778,\n",
       "  'time_since_last_event': 0.19194444444444425},\n",
       " {'idx_event': 29,\n",
       "  'type_event': 8,\n",
       "  'time_since_start': 4.744722222222222,\n",
       "  'time_since_last_event': 0.056944444444444464},\n",
       " {'idx_event': 30,\n",
       "  'type_event': 3,\n",
       "  'time_since_start': 4.9816666666666665,\n",
       "  'time_since_last_event': 0.23694444444444418},\n",
       " {'idx_event': 31,\n",
       "  'type_event': 8,\n",
       "  'time_since_start': 5.002222222222223,\n",
       "  'time_since_last_event': 0.020555555555556104},\n",
       " {'idx_event': 32,\n",
       "  'type_event': 3,\n",
       "  'time_since_start': 5.482222222222222,\n",
       "  'time_since_last_event': 0.47999999999999954},\n",
       " {'idx_event': 33,\n",
       "  'type_event': 8,\n",
       "  'time_since_start': 5.506944444444445,\n",
       "  'time_since_last_event': 0.024722222222222534},\n",
       " {'idx_event': 34,\n",
       "  'type_event': 3,\n",
       "  'time_since_start': 5.820833333333334,\n",
       "  'time_since_last_event': 0.3138888888888891}]"
      ]
     },
     "execution_count": 32,
     "metadata": {},
     "output_type": "execute_result"
    }
   ],
   "source": [
    "one_seq"
   ]
  },
  {
   "cell_type": "code",
   "execution_count": 36,
   "metadata": {
    "ExecuteTime": {
     "end_time": "2020-08-22T15:53:12.284735Z",
     "start_time": "2020-08-22T15:53:12.275144Z"
    }
   },
   "outputs": [
    {
     "ename": "KeyError",
     "evalue": "'seqs_obs'",
     "output_type": "error",
     "traceback": [
      "\u001b[1;31m---------------------------------------------------------------------------\u001b[0m",
      "\u001b[1;31mKeyError\u001b[0m                                  Traceback (most recent call last)",
      "\u001b[1;32m<ipython-input-36-180a1efd8b9b>\u001b[0m in \u001b[0;36m<module>\u001b[1;34m\u001b[0m\n\u001b[1;32m----> 1\u001b[1;33m \u001b[0mtemp\u001b[0m \u001b[1;33m=\u001b[0m \u001b[0mpkl_train\u001b[0m\u001b[1;33m.\u001b[0m\u001b[0mpop\u001b[0m\u001b[1;33m(\u001b[0m\u001b[1;34m'seqs_obs'\u001b[0m\u001b[1;33m)\u001b[0m\u001b[1;33m\u001b[0m\u001b[1;33m\u001b[0m\u001b[0m\n\u001b[0m",
      "\u001b[1;31mKeyError\u001b[0m: 'seqs_obs'"
     ]
    }
   ],
   "source": []
  },
  {
   "cell_type": "code",
   "execution_count": 37,
   "metadata": {
    "ExecuteTime": {
     "end_time": "2020-08-22T15:53:23.517501Z",
     "start_time": "2020-08-22T15:53:23.513490Z"
    }
   },
   "outputs": [
    {
     "data": {
      "text/plain": [
       "dict_keys(['seqs', 'total_num'])"
      ]
     },
     "execution_count": 37,
     "metadata": {},
     "output_type": "execute_result"
    }
   ],
   "source": [
    "pkl_train.keys()"
   ]
  },
  {
   "cell_type": "code",
   "execution_count": 39,
   "metadata": {
    "ExecuteTime": {
     "end_time": "2020-08-22T15:55:16.695827Z",
     "start_time": "2020-08-22T15:55:16.586032Z"
    }
   },
   "outputs": [],
   "source": []
  },
  {
   "cell_type": "code",
   "execution_count": 44,
   "metadata": {
    "ExecuteTime": {
     "end_time": "2020-08-22T15:56:48.457617Z",
     "start_time": "2020-08-22T15:56:48.418024Z"
    }
   },
   "outputs": [],
   "source": [
    "file = \"dev.pkl\"\n",
    "with open('data/pilottaxi/'+file, 'rb') as f:\n",
    "    pkl_train = pickle.load(f)\n",
    "temp = pkl_train.pop('seqs_obs')\n",
    "with open('data/pilottaxi/'+file, 'wb') as f:\n",
    "    pickle.dump(pkl_train,f)"
   ]
  },
  {
   "cell_type": "code",
   "execution_count": null,
   "metadata": {},
   "outputs": [],
   "source": []
  }
 ],
 "metadata": {
  "hide_input": false,
  "kernelspec": {
   "display_name": "Python 3",
   "language": "python",
   "name": "python3"
  },
  "language_info": {
   "codemirror_mode": {
    "name": "ipython",
    "version": 3
   },
   "file_extension": ".py",
   "mimetype": "text/x-python",
   "name": "python",
   "nbconvert_exporter": "python",
   "pygments_lexer": "ipython3",
   "version": "3.7.3"
  },
  "toc": {
   "base_numbering": 1,
   "nav_menu": {},
   "number_sections": true,
   "sideBar": true,
   "skip_h1_title": false,
   "title_cell": "Table of Contents",
   "title_sidebar": "Contents",
   "toc_cell": false,
   "toc_position": {},
   "toc_section_display": true,
   "toc_window_display": false
  },
  "varInspector": {
   "cols": {
    "lenName": 16,
    "lenType": 16,
    "lenVar": 40
   },
   "kernels_config": {
    "python": {
     "delete_cmd_postfix": "",
     "delete_cmd_prefix": "del ",
     "library": "var_list.py",
     "varRefreshCmd": "print(var_dic_list())"
    },
    "r": {
     "delete_cmd_postfix": ") ",
     "delete_cmd_prefix": "rm(",
     "library": "var_list.r",
     "varRefreshCmd": "cat(var_dic_list()) "
    }
   },
   "types_to_exclude": [
    "module",
    "function",
    "builtin_function_or_method",
    "instance",
    "_Feature"
   ],
   "window_display": false
  }
 },
 "nbformat": 4,
 "nbformat_minor": 2
}
