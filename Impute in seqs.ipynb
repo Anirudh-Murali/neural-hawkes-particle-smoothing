{
 "cells": [
  {
   "cell_type": "markdown",
   "metadata": {},
   "source": [
    "## Load Packages"
   ]
  },
  {
   "cell_type": "code",
   "execution_count": 1,
   "metadata": {
    "ExecuteTime": {
     "end_time": "2020-09-01T19:00:35.004914Z",
     "start_time": "2020-09-01T19:00:34.014783Z"
    }
   },
   "outputs": [],
   "source": [
    "import random\n",
    "import numpy as np\n",
    "import torch\n",
    "import pickle\n",
    "import pandas as pd\n",
    "import os\n",
    "from tqdm import tqdm_notebook\n",
    "from nhps.models import nhp\n",
    "from nhps.io import processors\n",
    "from nhps.miss import factorized"
   ]
  },
  {
   "cell_type": "markdown",
   "metadata": {},
   "source": [
    "## Functions"
   ]
  },
  {
   "cell_type": "code",
   "execution_count": 2,
   "metadata": {
    "ExecuteTime": {
     "end_time": "2020-09-01T19:00:35.012923Z",
     "start_time": "2020-09-01T19:00:35.006908Z"
    },
    "code_folding": [
     1
    ]
   },
   "outputs": [],
   "source": [
    "## function to convert pkl to df\n",
    "def convert_dict_to_df(pkl):\n",
    "    df = pd.DataFrame()\n",
    "    for i in tqdm_notebook(range(0,len(pkl))):\n",
    "        temp_df = (pd.DataFrame(pkl[i]))\n",
    "        temp_df['seq_id'] = i\n",
    "        df = pd.concat([df,temp_df])\n",
    "    return df.reset_index(drop=True)"
   ]
  },
  {
   "cell_type": "markdown",
   "metadata": {},
   "source": [
    "### Function to load dataset"
   ]
  },
  {
   "cell_type": "code",
   "execution_count": 3,
   "metadata": {
    "ExecuteTime": {
     "end_time": "2020-09-01T19:00:35.050549Z",
     "start_time": "2020-09-01T19:00:35.015932Z"
    },
    "code_folding": [
     0
    ]
   },
   "outputs": [],
   "source": [
    "def load_dataset(**args):\n",
    "    '''\n",
    "        'PathData': 'Directory where data is stored'\n",
    "        'Split': Type of data to use ['Train','Test','dev']. While testing choose either test or dev\n",
    "        'Small': reduce size of data for debug runs\n",
    "    '''\n",
    "    data_path = os.path.join(args['PathData'], args['Split'] + '.pkl')\n",
    "    with open(data_path, 'rb') as fp:\n",
    "        pkl_dev = pickle.load(fp)\n",
    "    data_dev, data_dev_gold = pkl_dev['seqs_obs'], pkl_dev['seqs']\n",
    "\n",
    "    if args['Small'] > -1:\n",
    "        data_dev = data_dev[:args['Small']]\n",
    "        data_dev_gold = data_dev_gold[:args['Small']]\n",
    "\n",
    "    #obs_num, unobs_num = pkl_dev['obs_num'], pkl_dev['unobs_num']\n",
    "    #total_event_num = obs_num + unobs_num\n",
    "    total_event_num = pkl_dev['total_num']\n",
    "\n",
    "    return [data_dev, data_dev_gold], [total_event_num]\n",
    "    #return [data_dev, data_dev_gold], [obs_num, unobs_num, total_event_num]\n"
   ]
  },
  {
   "cell_type": "markdown",
   "metadata": {},
   "source": [
    "### Function to Propose Particles"
   ]
  },
  {
   "cell_type": "code",
   "execution_count": 4,
   "metadata": {
    "ExecuteTime": {
     "end_time": "2020-09-01T19:00:35.086118Z",
     "start_time": "2020-09-01T19:00:35.052562Z"
    },
    "code_folding": []
   },
   "outputs": [],
   "source": [
    "def propose_particles(**args):\n",
    "    '''\n",
    "        Model : nhpf or nhps\n",
    "        Seed : 12345 or any other number\n",
    "        UseGPU : True        \n",
    "     'PathData':'data/pilottaxi'\n",
    "     DimLSTM : 16\n",
    "        \n",
    "    '''\n",
    "#     handler = args['handler']# What is handler. Assuming that it is used for multi processing\n",
    "#     handler.print(\"Propose particles for model {}\".format(args['Model']))\n",
    "    print(\"Propose particles for model {}\".format(args['Model']))\n",
    "    random.seed(args['Seed'])\n",
    "    np.random.seed(args['Seed'])\n",
    "    torch.manual_seed(args['Seed'])\n",
    "\n",
    "    [data_dev, data_dev_gold], [total_event_num] = load_dataset(**args)\n",
    "    # seq_bases are the x's.\n",
    "    # We may use miss_mec to generate seq_bases in the future.\n",
    "    seq_bases = data_dev\n",
    "\n",
    "    if not args['UseGPU']:\n",
    "        device = 'cpu'\n",
    "    else:\n",
    "        device = 'cuda'\n",
    "\n",
    "    sampling = 1\n",
    "\n",
    "    miss_mec = factorized.FactorizedMissMec(\n",
    "        device = 'cuda' if args['UseGPU'] else 'cpu',\n",
    "        config_file = os.path.join(args['PathData'], 'censor.conf')\n",
    "    )\n",
    "\n",
    "    proc = processors.DataProcessorNeuralHawkes(\n",
    "        idx_BOS=total_event_num,\n",
    "        idx_EOS=total_event_num+1,\n",
    "        idx_PAD=total_event_num+2,\n",
    "        miss_mec=miss_mec,\n",
    "        sampling=sampling,\n",
    "        device = 'cuda' if args['UseGPU'] else 'cpu'\n",
    "    )\n",
    "\n",
    "    if args['Model'] == 'nhps':\n",
    "        agent = nhp.NeuralHawkes(\n",
    "            total_num=total_event_num, hidden_dim=args['DimLSTM'],\n",
    "            device=device, miss_mec=miss_mec\n",
    "        )\n",
    "        agent.initBackwardMachine(hidden_dim_back=args['BackDimLSTM'], type_back=args['BackType'],\n",
    "                                  back_beta=args['BackBeta'])\n",
    "    elif args['Model'] == 'nhpf':\n",
    "        agent = nhp.NeuralHawkes(\n",
    "            total_num=total_event_num, hidden_dim=args['DimLSTM'],\n",
    "            device=device, miss_mec=miss_mec\n",
    "        )\n",
    "    else:\n",
    "        raise NotImplementedError\n",
    "\n",
    "    agent.load_state_dict(\n",
    "        torch.load(args['final_model_location'], map_location='cpu') )\n",
    "\n",
    "    # NOTE: Here I just simply replace neglect_mask with r vector\n",
    "    # In a more general case mentioned in the paper,\n",
    "    # r factor should take the whole history into account.\n",
    "    # But in our experiment, events are censored independently,\n",
    "    # so the r vector is constant for all the events that're going to be proposed.\n",
    "    # I set history as None to get the r vector.\n",
    "    # **Reverse Changes**\n",
    "    agent.setMaskIntensity(miss_mec.neglect_mask())\n",
    "\n",
    "    if args['UseGPU']:\n",
    "        agent.cuda(device)\n",
    "    agent.eval()\n",
    "\n",
    "    input_dev = []\n",
    "    input_dev_with_grountruth = []\n",
    "    all_weights = list()\n",
    "    all_particles = list()\n",
    "    all_log_proposals = list()\n",
    "    all_num_unobs = list()\n",
    "\n",
    "    for i_dev, (one_seq_dev, one_seq_dev_gold) in enumerate(zip(data_dev, data_dev_gold)):\n",
    "\n",
    "        one_seq_dev_augmented = proc.orgSeq(\n",
    "            one_seq_dev, one_seq_dev_gold[-1]['time_since_start']\n",
    "        )\n",
    "        input_dev.append(\n",
    "            proc.augmentLogProbMissing(\n",
    "                agent.sample_particles(\n",
    "                    args['NumParticle'], one_seq_dev_augmented, args['NumUnobserved'],\n",
    "                    args['Multiplier'],\n",
    "                    resampling=args['Resampling'],\n",
    "                    need_eliminate_log_base=args['EliminateBase'] )))\n",
    "\n",
    "        input_dev_with_grountruth.append(\n",
    "            proc.processSeq(\n",
    "                one_seq_dev_gold, n=1, seq_obs=one_seq_dev))\n",
    "\n",
    "        if (i_dev+1) % args['SizeBatch'] == 0 or \\\n",
    "                (i_dev == len(data_dev)-1 and (len(input_dev)%args['SizeBatch']) > 0):\n",
    "\n",
    "            r\"\"\"\n",
    "            this part is computing log q(z | x)\n",
    "            where z is ground truth (similar to train nhps)\n",
    "            \"\"\"\n",
    "            batch_seqs_with_groundtruth = proc.processBatchSeqsWithParticles(\n",
    "                input_dev_with_grountruth)\n",
    "            log_proposals, num_unobs = agent(batch_seqs_with_groundtruth, mode=9)\n",
    "            all_log_proposals.append(log_proposals.detach().cpu().numpy())\n",
    "            all_num_unobs.append(num_unobs.detach().cpu().numpy())\n",
    "            input_dev_with_grountruth = list()\n",
    "\n",
    "            r\"\"\"\n",
    "            this part is computing weights for decoding\n",
    "            \"\"\"\n",
    "\n",
    "            # If resampling is on, we could directly get the weights of particles.\n",
    "            if args['Resampling']:\n",
    "                log_weights = np.array([input_[2].cpu().detach().numpy() for input_ in input_dev])\n",
    "                unnormalized_weights = np.exp(log_weights)\n",
    "                weights = (unnormalized_weights.T / unnormalized_weights.sum(axis=1)).T\n",
    "            else:\n",
    "                # If not, we could use our old method.\n",
    "                batch_seqs_dev = proc.processBatchSeqsWithParticles(input_dev)\n",
    "                weights, _ = agent(batch_seqs_dev, mode=4)\n",
    "                weights = weights.detach().cpu().numpy()\n",
    "\n",
    "            weights_orders = np.argsort(-weights, axis=1)\n",
    "\n",
    "            for i_batch, [event_, dtime_, _, _, len_seq_, _, _, _, _, _, _, _] in enumerate(input_dev):\n",
    "                particles = list()\n",
    "                all_particles.append(particles)\n",
    "                for particle_idx in weights_orders[i_batch]:\n",
    "                    event, dtime, len_seq = event_[particle_idx], \\\n",
    "                                            dtime_[particle_idx], len_seq_[particle_idx]\n",
    "                    particles.append(proc.getSeq(event.cpu(), dtime.cpu(), len_seq.cpu()))\n",
    "                all_weights.append(weights[i_batch][weights_orders[i_batch]])\n",
    "\n",
    "            input_dev = []\n",
    "#             handler.print(\"Proposing {}-th {} seq\".format(i_dev+1, args['Split']))\n",
    "            print(\"Proposing {}-th {} seq\".format(i_dev+1, args['Split']))\n",
    "\n",
    "    all_weights = np.array(all_weights)\n",
    "    all_log_proposals = np.concatenate(all_log_proposals)\n",
    "    all_num_unobs = np.concatenate(all_num_unobs)\n",
    "\n",
    "    # Note that particles in each batch are ordered by the their weights inversely.\n",
    "    return all_weights, all_particles, seq_bases, all_log_proposals, all_num_unobs,log_proposals, num_unobs,weights_orders"
   ]
  },
  {
   "cell_type": "markdown",
   "metadata": {},
   "source": [
    "## Run propose_particles()"
   ]
  },
  {
   "cell_type": "code",
   "execution_count": 5,
   "metadata": {
    "ExecuteTime": {
     "end_time": "2020-09-01T19:00:35.123247Z",
     "start_time": "2020-09-01T19:00:35.088623Z"
    },
    "code_folding": []
   },
   "outputs": [],
   "source": [
    "args = {\n",
    "    'PathData':'data/test',\n",
    "    'Split':'Test',\n",
    "    'NumUnobserved':\t1, \n",
    "    'Multiplier':\t1,\n",
    "    'NumParticle':\t1,\n",
    "    'Cost':\t1,\n",
    "    'MultiplierCost':\t2,\n",
    "    'NumCost':\t1,\n",
    "    'Split':\t'dev',\n",
    "    'SizeBatch':\t1,\n",
    "    'UseGPU':\tTrue,\n",
    "    'Seed':\t12345,\n",
    "    'Small':\t3, # change value to increase the number of output sequences\n",
    "    'MaxIter':\t5,\n",
    "    'ProcessPerDevice':\t2,\n",
    "#     'VisibleDevice':\t\n",
    "    'MultiProcess':\tNone,\n",
    "    'Resampling':\tTrue,\n",
    "    'EliminateBase':\tTrue,\n",
    "    'Model':'nhps',\n",
    "    'PathModel':'./',\n",
    "    'BackDimLSTM':16,\n",
    "    'DimLSTM':16,\n",
    "    'BackType':'add',\n",
    "    'BackBeta':1,\n",
    "    'final_model_location':'./logs/saved_model'\n",
    "}"
   ]
  },
  {
   "cell_type": "code",
   "execution_count": 6,
   "metadata": {
    "ExecuteTime": {
     "end_time": "2020-09-01T19:00:50.076415Z",
     "start_time": "2020-09-01T19:00:35.126223Z"
    },
    "scrolled": false
   },
   "outputs": [
    {
     "name": "stdout",
     "output_type": "stream",
     "text": [
      "Propose particles for model nhps\n",
      "Proposing 1-th dev seq\n",
      "Proposing 2-th dev seq\n",
      "Proposing 3-th dev seq\n"
     ]
    }
   ],
   "source": [
    "all_weights, all_particles, seq_bases, all_log_proposals, all_num_unobs,log_proposals, num_unobs,weights_orders = propose_particles(**args)"
   ]
  },
  {
   "cell_type": "markdown",
   "metadata": {},
   "source": [
    "### all_weights"
   ]
  },
  {
   "cell_type": "code",
   "execution_count": 7,
   "metadata": {
    "ExecuteTime": {
     "end_time": "2020-09-01T19:00:50.086433Z",
     "start_time": "2020-09-01T19:00:50.078914Z"
    }
   },
   "outputs": [],
   "source": [
    "[data_dev, data_dev_gold], [total_event_num] = load_dataset(**args)"
   ]
  },
  {
   "cell_type": "code",
   "execution_count": 8,
   "metadata": {
    "ExecuteTime": {
     "end_time": "2020-09-01T19:00:50.193243Z",
     "start_time": "2020-09-01T19:00:50.091446Z"
    }
   },
   "outputs": [
    {
     "name": "stderr",
     "output_type": "stream",
     "text": [
      "C:\\Users\\am21907\\AppData\\Local\\Continuum\\anaconda3\\lib\\site-packages\\ipykernel_launcher.py:4: TqdmDeprecationWarning: This function will be removed in tqdm==5.0.0\n",
      "Please use `tqdm.notebook.tqdm` instead of `tqdm.tqdm_notebook`\n",
      "  after removing the cwd from sys.path.\n"
     ]
    },
    {
     "data": {
      "application/vnd.jupyter.widget-view+json": {
       "model_id": "1383ea9779c74373a5e997203ccdc14f",
       "version_major": 2,
       "version_minor": 0
      },
      "text/plain": [
       "HBox(children=(FloatProgress(value=0.0, max=3.0), HTML(value='')))"
      ]
     },
     "metadata": {},
     "output_type": "display_data"
    },
    {
     "name": "stdout",
     "output_type": "stream",
     "text": [
      "\n"
     ]
    },
    {
     "data": {
      "application/vnd.jupyter.widget-view+json": {
       "model_id": "6bd6ac44ef8b43628088dbcf3c342fb4",
       "version_major": 2,
       "version_minor": 0
      },
      "text/plain": [
       "HBox(children=(FloatProgress(value=0.0, max=3.0), HTML(value='')))"
      ]
     },
     "metadata": {},
     "output_type": "display_data"
    },
    {
     "name": "stdout",
     "output_type": "stream",
     "text": [
      "\n"
     ]
    }
   ],
   "source": [
    "data_dev = convert_dict_to_df(data_dev)\n",
    "data_dev_gold = convert_dict_to_df(data_dev_gold)"
   ]
  },
  {
   "cell_type": "code",
   "execution_count": 9,
   "metadata": {
    "ExecuteTime": {
     "end_time": "2020-09-01T19:00:50.221288Z",
     "start_time": "2020-09-01T19:00:50.196724Z"
    }
   },
   "outputs": [
    {
     "data": {
      "text/html": [
       "<div>\n",
       "<style scoped>\n",
       "    .dataframe tbody tr th:only-of-type {\n",
       "        vertical-align: middle;\n",
       "    }\n",
       "\n",
       "    .dataframe tbody tr th {\n",
       "        vertical-align: top;\n",
       "    }\n",
       "\n",
       "    .dataframe thead th {\n",
       "        text-align: right;\n",
       "    }\n",
       "</style>\n",
       "<table border=\"1\" class=\"dataframe\">\n",
       "  <thead>\n",
       "    <tr style=\"text-align: right;\">\n",
       "      <th></th>\n",
       "      <th>patient_id</th>\n",
       "      <th>idx_event</th>\n",
       "      <th>type_event</th>\n",
       "      <th>time_since_start</th>\n",
       "      <th>time_since_last_event</th>\n",
       "      <th>seq_id</th>\n",
       "    </tr>\n",
       "  </thead>\n",
       "  <tbody>\n",
       "    <tr>\n",
       "      <th>0</th>\n",
       "      <td>7.172600e+12</td>\n",
       "      <td>1.0</td>\n",
       "      <td>11.0</td>\n",
       "      <td>0.0</td>\n",
       "      <td>0.0</td>\n",
       "      <td>0</td>\n",
       "    </tr>\n",
       "    <tr>\n",
       "      <th>1</th>\n",
       "      <td>7.172600e+12</td>\n",
       "      <td>2.0</td>\n",
       "      <td>2.0</td>\n",
       "      <td>7.0</td>\n",
       "      <td>7.0</td>\n",
       "      <td>0</td>\n",
       "    </tr>\n",
       "    <tr>\n",
       "      <th>2</th>\n",
       "      <td>7.172600e+12</td>\n",
       "      <td>3.0</td>\n",
       "      <td>11.0</td>\n",
       "      <td>79.0</td>\n",
       "      <td>72.0</td>\n",
       "      <td>0</td>\n",
       "    </tr>\n",
       "    <tr>\n",
       "      <th>3</th>\n",
       "      <td>7.172600e+12</td>\n",
       "      <td>4.0</td>\n",
       "      <td>2.0</td>\n",
       "      <td>154.0</td>\n",
       "      <td>75.0</td>\n",
       "      <td>0</td>\n",
       "    </tr>\n",
       "    <tr>\n",
       "      <th>4</th>\n",
       "      <td>7.172600e+12</td>\n",
       "      <td>5.0</td>\n",
       "      <td>11.0</td>\n",
       "      <td>189.0</td>\n",
       "      <td>35.0</td>\n",
       "      <td>0</td>\n",
       "    </tr>\n",
       "  </tbody>\n",
       "</table>\n",
       "</div>"
      ],
      "text/plain": [
       "     patient_id  idx_event  type_event  time_since_start  \\\n",
       "0  7.172600e+12        1.0        11.0               0.0   \n",
       "1  7.172600e+12        2.0         2.0               7.0   \n",
       "2  7.172600e+12        3.0        11.0              79.0   \n",
       "3  7.172600e+12        4.0         2.0             154.0   \n",
       "4  7.172600e+12        5.0        11.0             189.0   \n",
       "\n",
       "   time_since_last_event  seq_id  \n",
       "0                    0.0       0  \n",
       "1                    7.0       0  \n",
       "2                   72.0       0  \n",
       "3                   75.0       0  \n",
       "4                   35.0       0  "
      ]
     },
     "execution_count": 9,
     "metadata": {},
     "output_type": "execute_result"
    }
   ],
   "source": [
    "data_dev.head()"
   ]
  },
  {
   "cell_type": "code",
   "execution_count": 10,
   "metadata": {
    "ExecuteTime": {
     "end_time": "2020-09-01T19:00:50.242848Z",
     "start_time": "2020-09-01T19:00:50.224798Z"
    }
   },
   "outputs": [
    {
     "data": {
      "text/plain": [
       "18.0"
      ]
     },
     "execution_count": 10,
     "metadata": {},
     "output_type": "execute_result"
    }
   ],
   "source": [
    "data_dev['type_event'].max()"
   ]
  },
  {
   "cell_type": "code",
   "execution_count": 11,
   "metadata": {
    "ExecuteTime": {
     "end_time": "2020-09-01T19:00:50.283452Z",
     "start_time": "2020-09-01T19:00:50.245371Z"
    }
   },
   "outputs": [
    {
     "data": {
      "text/plain": [
       "18.0"
      ]
     },
     "execution_count": 11,
     "metadata": {},
     "output_type": "execute_result"
    }
   ],
   "source": [
    "data_dev_gold['type_event'].max()"
   ]
  },
  {
   "cell_type": "markdown",
   "metadata": {},
   "source": [
    "### all_particles (output sequence)"
   ]
  },
  {
   "cell_type": "markdown",
   "metadata": {},
   "source": [
    "all_particles[0] holds the output sequence. <br>\n",
    "<b> Note </b>: Number of imputed events is decided by the NumUnobserved"
   ]
  },
  {
   "cell_type": "code",
   "execution_count": 25,
   "metadata": {
    "ExecuteTime": {
     "end_time": "2020-09-01T19:01:30.228716Z",
     "start_time": "2020-09-01T19:01:30.224692Z"
    }
   },
   "outputs": [
    {
     "data": {
      "text/plain": [
       "True"
      ]
     },
     "execution_count": 25,
     "metadata": {},
     "output_type": "execute_result"
    }
   ],
   "source": [
    "len(seq_bases)==args['Small']"
   ]
  },
  {
   "cell_type": "code",
   "execution_count": 26,
   "metadata": {
    "ExecuteTime": {
     "end_time": "2020-09-01T19:01:32.021948Z",
     "start_time": "2020-09-01T19:01:31.974340Z"
    }
   },
   "outputs": [
    {
     "name": "stderr",
     "output_type": "stream",
     "text": [
      "C:\\Users\\am21907\\AppData\\Local\\Continuum\\anaconda3\\lib\\site-packages\\ipykernel_launcher.py:4: TqdmDeprecationWarning: This function will be removed in tqdm==5.0.0\n",
      "Please use `tqdm.notebook.tqdm` instead of `tqdm.tqdm_notebook`\n",
      "  after removing the cwd from sys.path.\n"
     ]
    },
    {
     "data": {
      "application/vnd.jupyter.widget-view+json": {
       "model_id": "6b728c6e7eef49dfa1f638bd252a3e4f",
       "version_major": 2,
       "version_minor": 0
      },
      "text/plain": [
       "HBox(children=(FloatProgress(value=0.0, max=1.0), HTML(value='')))"
      ]
     },
     "metadata": {},
     "output_type": "display_data"
    },
    {
     "name": "stdout",
     "output_type": "stream",
     "text": [
      "\n"
     ]
    },
    {
     "data": {
      "text/html": [
       "<div>\n",
       "<style scoped>\n",
       "    .dataframe tbody tr th:only-of-type {\n",
       "        vertical-align: middle;\n",
       "    }\n",
       "\n",
       "    .dataframe tbody tr th {\n",
       "        vertical-align: top;\n",
       "    }\n",
       "\n",
       "    .dataframe thead th {\n",
       "        text-align: right;\n",
       "    }\n",
       "</style>\n",
       "<table border=\"1\" class=\"dataframe\">\n",
       "  <thead>\n",
       "    <tr style=\"text-align: right;\">\n",
       "      <th></th>\n",
       "      <th>type_event</th>\n",
       "      <th>time_since_last_event</th>\n",
       "      <th>time_since_start</th>\n",
       "      <th>seq_id</th>\n",
       "    </tr>\n",
       "  </thead>\n",
       "  <tbody>\n",
       "    <tr>\n",
       "      <th>0</th>\n",
       "      <td>11</td>\n",
       "      <td>0.000000</td>\n",
       "      <td>0.000000</td>\n",
       "      <td>0</td>\n",
       "    </tr>\n",
       "    <tr>\n",
       "      <th>1</th>\n",
       "      <td>2</td>\n",
       "      <td>7.000000</td>\n",
       "      <td>7.000000</td>\n",
       "      <td>0</td>\n",
       "    </tr>\n",
       "    <tr>\n",
       "      <th>2</th>\n",
       "      <td>8</td>\n",
       "      <td>0.723843</td>\n",
       "      <td>7.723843</td>\n",
       "      <td>0</td>\n",
       "    </tr>\n",
       "    <tr>\n",
       "      <th>3</th>\n",
       "      <td>11</td>\n",
       "      <td>71.276154</td>\n",
       "      <td>79.000000</td>\n",
       "      <td>0</td>\n",
       "    </tr>\n",
       "    <tr>\n",
       "      <th>4</th>\n",
       "      <td>2</td>\n",
       "      <td>75.000000</td>\n",
       "      <td>154.000000</td>\n",
       "      <td>0</td>\n",
       "    </tr>\n",
       "    <tr>\n",
       "      <th>...</th>\n",
       "      <td>...</td>\n",
       "      <td>...</td>\n",
       "      <td>...</td>\n",
       "      <td>...</td>\n",
       "    </tr>\n",
       "    <tr>\n",
       "      <th>135</th>\n",
       "      <td>4</td>\n",
       "      <td>27.989990</td>\n",
       "      <td>1774.000000</td>\n",
       "      <td>0</td>\n",
       "    </tr>\n",
       "    <tr>\n",
       "      <th>136</th>\n",
       "      <td>4</td>\n",
       "      <td>21.000000</td>\n",
       "      <td>1795.000000</td>\n",
       "      <td>0</td>\n",
       "    </tr>\n",
       "    <tr>\n",
       "      <th>137</th>\n",
       "      <td>4</td>\n",
       "      <td>28.000000</td>\n",
       "      <td>1823.000000</td>\n",
       "      <td>0</td>\n",
       "    </tr>\n",
       "    <tr>\n",
       "      <th>138</th>\n",
       "      <td>1</td>\n",
       "      <td>28.000000</td>\n",
       "      <td>1851.000000</td>\n",
       "      <td>0</td>\n",
       "    </tr>\n",
       "    <tr>\n",
       "      <th>139</th>\n",
       "      <td>4</td>\n",
       "      <td>0.010010</td>\n",
       "      <td>1851.010010</td>\n",
       "      <td>0</td>\n",
       "    </tr>\n",
       "  </tbody>\n",
       "</table>\n",
       "<p>140 rows × 4 columns</p>\n",
       "</div>"
      ],
      "text/plain": [
       "     type_event  time_since_last_event  time_since_start  seq_id\n",
       "0            11               0.000000          0.000000       0\n",
       "1             2               7.000000          7.000000       0\n",
       "2             8               0.723843          7.723843       0\n",
       "3            11              71.276154         79.000000       0\n",
       "4             2              75.000000        154.000000       0\n",
       "..          ...                    ...               ...     ...\n",
       "135           4              27.989990       1774.000000       0\n",
       "136           4              21.000000       1795.000000       0\n",
       "137           4              28.000000       1823.000000       0\n",
       "138           1              28.000000       1851.000000       0\n",
       "139           4               0.010010       1851.010010       0\n",
       "\n",
       "[140 rows x 4 columns]"
      ]
     },
     "execution_count": 26,
     "metadata": {},
     "output_type": "execute_result"
    }
   ],
   "source": [
    "convert_dict_to_df(all_particles[0])"
   ]
  },
  {
   "cell_type": "code",
   "execution_count": 27,
   "metadata": {
    "ExecuteTime": {
     "end_time": "2020-09-01T19:01:34.091265Z",
     "start_time": "2020-09-01T19:01:34.036118Z"
    }
   },
   "outputs": [
    {
     "name": "stderr",
     "output_type": "stream",
     "text": [
      "C:\\Users\\am21907\\AppData\\Local\\Continuum\\anaconda3\\lib\\site-packages\\ipykernel_launcher.py:4: TqdmDeprecationWarning: This function will be removed in tqdm==5.0.0\n",
      "Please use `tqdm.notebook.tqdm` instead of `tqdm.tqdm_notebook`\n",
      "  after removing the cwd from sys.path.\n"
     ]
    },
    {
     "data": {
      "application/vnd.jupyter.widget-view+json": {
       "model_id": "fa323f2b3ee9413e97520184628e4c94",
       "version_major": 2,
       "version_minor": 0
      },
      "text/plain": [
       "HBox(children=(FloatProgress(value=0.0, max=1.0), HTML(value='')))"
      ]
     },
     "metadata": {},
     "output_type": "display_data"
    },
    {
     "name": "stdout",
     "output_type": "stream",
     "text": [
      "\n"
     ]
    },
    {
     "data": {
      "text/html": [
       "<div>\n",
       "<style scoped>\n",
       "    .dataframe tbody tr th:only-of-type {\n",
       "        vertical-align: middle;\n",
       "    }\n",
       "\n",
       "    .dataframe tbody tr th {\n",
       "        vertical-align: top;\n",
       "    }\n",
       "\n",
       "    .dataframe thead th {\n",
       "        text-align: right;\n",
       "    }\n",
       "</style>\n",
       "<table border=\"1\" class=\"dataframe\">\n",
       "  <thead>\n",
       "    <tr style=\"text-align: right;\">\n",
       "      <th></th>\n",
       "      <th>type_event</th>\n",
       "      <th>time_since_last_event</th>\n",
       "      <th>time_since_start</th>\n",
       "      <th>seq_id</th>\n",
       "    </tr>\n",
       "  </thead>\n",
       "  <tbody>\n",
       "    <tr>\n",
       "      <th>0</th>\n",
       "      <td>4</td>\n",
       "      <td>0.000000</td>\n",
       "      <td>0.000000</td>\n",
       "      <td>0</td>\n",
       "    </tr>\n",
       "    <tr>\n",
       "      <th>1</th>\n",
       "      <td>8</td>\n",
       "      <td>2.513605</td>\n",
       "      <td>2.513605</td>\n",
       "      <td>0</td>\n",
       "    </tr>\n",
       "    <tr>\n",
       "      <th>2</th>\n",
       "      <td>4</td>\n",
       "      <td>58.486397</td>\n",
       "      <td>61.000000</td>\n",
       "      <td>0</td>\n",
       "    </tr>\n",
       "    <tr>\n",
       "      <th>3</th>\n",
       "      <td>7</td>\n",
       "      <td>25.000000</td>\n",
       "      <td>86.000000</td>\n",
       "      <td>0</td>\n",
       "    </tr>\n",
       "    <tr>\n",
       "      <th>4</th>\n",
       "      <td>9</td>\n",
       "      <td>8.000000</td>\n",
       "      <td>94.000000</td>\n",
       "      <td>0</td>\n",
       "    </tr>\n",
       "    <tr>\n",
       "      <th>...</th>\n",
       "      <td>...</td>\n",
       "      <td>...</td>\n",
       "      <td>...</td>\n",
       "      <td>...</td>\n",
       "    </tr>\n",
       "    <tr>\n",
       "      <th>80</th>\n",
       "      <td>10</td>\n",
       "      <td>0.010010</td>\n",
       "      <td>1784.020020</td>\n",
       "      <td>0</td>\n",
       "    </tr>\n",
       "    <tr>\n",
       "      <th>81</th>\n",
       "      <td>4</td>\n",
       "      <td>7.979980</td>\n",
       "      <td>1792.000000</td>\n",
       "      <td>0</td>\n",
       "    </tr>\n",
       "    <tr>\n",
       "      <th>82</th>\n",
       "      <td>1</td>\n",
       "      <td>10.000000</td>\n",
       "      <td>1802.000000</td>\n",
       "      <td>0</td>\n",
       "    </tr>\n",
       "    <tr>\n",
       "      <th>83</th>\n",
       "      <td>4</td>\n",
       "      <td>17.000000</td>\n",
       "      <td>1819.000000</td>\n",
       "      <td>0</td>\n",
       "    </tr>\n",
       "    <tr>\n",
       "      <th>84</th>\n",
       "      <td>4</td>\n",
       "      <td>27.000000</td>\n",
       "      <td>1846.000000</td>\n",
       "      <td>0</td>\n",
       "    </tr>\n",
       "  </tbody>\n",
       "</table>\n",
       "<p>85 rows × 4 columns</p>\n",
       "</div>"
      ],
      "text/plain": [
       "    type_event  time_since_last_event  time_since_start  seq_id\n",
       "0            4               0.000000          0.000000       0\n",
       "1            8               2.513605          2.513605       0\n",
       "2            4              58.486397         61.000000       0\n",
       "3            7              25.000000         86.000000       0\n",
       "4            9               8.000000         94.000000       0\n",
       "..         ...                    ...               ...     ...\n",
       "80          10               0.010010       1784.020020       0\n",
       "81           4               7.979980       1792.000000       0\n",
       "82           1              10.000000       1802.000000       0\n",
       "83           4              17.000000       1819.000000       0\n",
       "84           4              27.000000       1846.000000       0\n",
       "\n",
       "[85 rows x 4 columns]"
      ]
     },
     "execution_count": 27,
     "metadata": {},
     "output_type": "execute_result"
    }
   ],
   "source": [
    "convert_dict_to_df(all_particles[1])"
   ]
  },
  {
   "cell_type": "code",
   "execution_count": 28,
   "metadata": {
    "ExecuteTime": {
     "end_time": "2020-09-01T19:01:51.336300Z",
     "start_time": "2020-09-01T19:01:51.331288Z"
    }
   },
   "outputs": [
    {
     "data": {
      "text/plain": [
       "1"
      ]
     },
     "execution_count": 28,
     "metadata": {},
     "output_type": "execute_result"
    }
   ],
   "source": [
    "len(all_particles[0][0]) - len(seq_bases[0])"
   ]
  },
  {
   "cell_type": "code",
   "execution_count": 29,
   "metadata": {
    "ExecuteTime": {
     "end_time": "2020-09-01T19:01:51.871270Z",
     "start_time": "2020-09-01T19:01:51.866258Z"
    }
   },
   "outputs": [
    {
     "data": {
      "text/plain": [
       "1"
      ]
     },
     "execution_count": 29,
     "metadata": {},
     "output_type": "execute_result"
    }
   ],
   "source": [
    "len(all_particles[1][0]) - len(seq_bases[1])"
   ]
  },
  {
   "cell_type": "markdown",
   "metadata": {},
   "source": [
    "### seq_base"
   ]
  },
  {
   "cell_type": "markdown",
   "metadata": {},
   "source": [
    "Base sequences ( events without imputation)"
   ]
  },
  {
   "cell_type": "code",
   "execution_count": 30,
   "metadata": {
    "ExecuteTime": {
     "end_time": "2020-09-01T19:01:53.481978Z",
     "start_time": "2020-09-01T19:01:53.475962Z"
    }
   },
   "outputs": [
    {
     "data": {
      "text/plain": [
       "True"
      ]
     },
     "execution_count": 30,
     "metadata": {},
     "output_type": "execute_result"
    }
   ],
   "source": [
    "len(seq_bases)==args['Small']"
   ]
  },
  {
   "cell_type": "code",
   "execution_count": 31,
   "metadata": {
    "ExecuteTime": {
     "end_time": "2020-09-01T19:01:53.995337Z",
     "start_time": "2020-09-01T19:01:53.949214Z"
    },
    "scrolled": false
   },
   "outputs": [
    {
     "name": "stderr",
     "output_type": "stream",
     "text": [
      "C:\\Users\\am21907\\AppData\\Local\\Continuum\\anaconda3\\lib\\site-packages\\ipykernel_launcher.py:4: TqdmDeprecationWarning: This function will be removed in tqdm==5.0.0\n",
      "Please use `tqdm.notebook.tqdm` instead of `tqdm.tqdm_notebook`\n",
      "  after removing the cwd from sys.path.\n"
     ]
    },
    {
     "data": {
      "application/vnd.jupyter.widget-view+json": {
       "model_id": "15d2db84301244b38874863ba0c42c39",
       "version_major": 2,
       "version_minor": 0
      },
      "text/plain": [
       "HBox(children=(FloatProgress(value=0.0, max=1.0), HTML(value='')))"
      ]
     },
     "metadata": {},
     "output_type": "display_data"
    },
    {
     "name": "stdout",
     "output_type": "stream",
     "text": [
      "\n"
     ]
    },
    {
     "data": {
      "text/html": [
       "<div>\n",
       "<style scoped>\n",
       "    .dataframe tbody tr th:only-of-type {\n",
       "        vertical-align: middle;\n",
       "    }\n",
       "\n",
       "    .dataframe tbody tr th {\n",
       "        vertical-align: top;\n",
       "    }\n",
       "\n",
       "    .dataframe thead th {\n",
       "        text-align: right;\n",
       "    }\n",
       "</style>\n",
       "<table border=\"1\" class=\"dataframe\">\n",
       "  <thead>\n",
       "    <tr style=\"text-align: right;\">\n",
       "      <th></th>\n",
       "      <th>patient_id</th>\n",
       "      <th>idx_event</th>\n",
       "      <th>type_event</th>\n",
       "      <th>time_since_start</th>\n",
       "      <th>time_since_last_event</th>\n",
       "      <th>seq_id</th>\n",
       "    </tr>\n",
       "  </thead>\n",
       "  <tbody>\n",
       "    <tr>\n",
       "      <th>0</th>\n",
       "      <td>7.172600e+12</td>\n",
       "      <td>1.0</td>\n",
       "      <td>11.0</td>\n",
       "      <td>0.00</td>\n",
       "      <td>0.00</td>\n",
       "      <td>0</td>\n",
       "    </tr>\n",
       "    <tr>\n",
       "      <th>1</th>\n",
       "      <td>7.172600e+12</td>\n",
       "      <td>2.0</td>\n",
       "      <td>2.0</td>\n",
       "      <td>7.00</td>\n",
       "      <td>7.00</td>\n",
       "      <td>0</td>\n",
       "    </tr>\n",
       "    <tr>\n",
       "      <th>2</th>\n",
       "      <td>7.172600e+12</td>\n",
       "      <td>3.0</td>\n",
       "      <td>11.0</td>\n",
       "      <td>79.00</td>\n",
       "      <td>72.00</td>\n",
       "      <td>0</td>\n",
       "    </tr>\n",
       "    <tr>\n",
       "      <th>3</th>\n",
       "      <td>7.172600e+12</td>\n",
       "      <td>4.0</td>\n",
       "      <td>2.0</td>\n",
       "      <td>154.00</td>\n",
       "      <td>75.00</td>\n",
       "      <td>0</td>\n",
       "    </tr>\n",
       "    <tr>\n",
       "      <th>4</th>\n",
       "      <td>7.172600e+12</td>\n",
       "      <td>5.0</td>\n",
       "      <td>11.0</td>\n",
       "      <td>189.00</td>\n",
       "      <td>35.00</td>\n",
       "      <td>0</td>\n",
       "    </tr>\n",
       "    <tr>\n",
       "      <th>...</th>\n",
       "      <td>...</td>\n",
       "      <td>...</td>\n",
       "      <td>...</td>\n",
       "      <td>...</td>\n",
       "      <td>...</td>\n",
       "      <td>...</td>\n",
       "    </tr>\n",
       "    <tr>\n",
       "      <th>134</th>\n",
       "      <td>7.172600e+12</td>\n",
       "      <td>135.0</td>\n",
       "      <td>4.0</td>\n",
       "      <td>1774.00</td>\n",
       "      <td>28.00</td>\n",
       "      <td>0</td>\n",
       "    </tr>\n",
       "    <tr>\n",
       "      <th>135</th>\n",
       "      <td>7.172600e+12</td>\n",
       "      <td>136.0</td>\n",
       "      <td>4.0</td>\n",
       "      <td>1795.00</td>\n",
       "      <td>21.00</td>\n",
       "      <td>0</td>\n",
       "    </tr>\n",
       "    <tr>\n",
       "      <th>136</th>\n",
       "      <td>7.172600e+12</td>\n",
       "      <td>137.0</td>\n",
       "      <td>4.0</td>\n",
       "      <td>1823.00</td>\n",
       "      <td>28.00</td>\n",
       "      <td>0</td>\n",
       "    </tr>\n",
       "    <tr>\n",
       "      <th>137</th>\n",
       "      <td>7.172600e+12</td>\n",
       "      <td>138.0</td>\n",
       "      <td>1.0</td>\n",
       "      <td>1851.00</td>\n",
       "      <td>28.00</td>\n",
       "      <td>0</td>\n",
       "    </tr>\n",
       "    <tr>\n",
       "      <th>138</th>\n",
       "      <td>7.172600e+12</td>\n",
       "      <td>139.0</td>\n",
       "      <td>4.0</td>\n",
       "      <td>1851.01</td>\n",
       "      <td>0.01</td>\n",
       "      <td>0</td>\n",
       "    </tr>\n",
       "  </tbody>\n",
       "</table>\n",
       "<p>139 rows × 6 columns</p>\n",
       "</div>"
      ],
      "text/plain": [
       "       patient_id  idx_event  type_event  time_since_start  \\\n",
       "0    7.172600e+12        1.0        11.0              0.00   \n",
       "1    7.172600e+12        2.0         2.0              7.00   \n",
       "2    7.172600e+12        3.0        11.0             79.00   \n",
       "3    7.172600e+12        4.0         2.0            154.00   \n",
       "4    7.172600e+12        5.0        11.0            189.00   \n",
       "..            ...        ...         ...               ...   \n",
       "134  7.172600e+12      135.0         4.0           1774.00   \n",
       "135  7.172600e+12      136.0         4.0           1795.00   \n",
       "136  7.172600e+12      137.0         4.0           1823.00   \n",
       "137  7.172600e+12      138.0         1.0           1851.00   \n",
       "138  7.172600e+12      139.0         4.0           1851.01   \n",
       "\n",
       "     time_since_last_event  seq_id  \n",
       "0                     0.00       0  \n",
       "1                     7.00       0  \n",
       "2                    72.00       0  \n",
       "3                    75.00       0  \n",
       "4                    35.00       0  \n",
       "..                     ...     ...  \n",
       "134                  28.00       0  \n",
       "135                  21.00       0  \n",
       "136                  28.00       0  \n",
       "137                  28.00       0  \n",
       "138                   0.01       0  \n",
       "\n",
       "[139 rows x 6 columns]"
      ]
     },
     "execution_count": 31,
     "metadata": {},
     "output_type": "execute_result"
    }
   ],
   "source": [
    "convert_dict_to_df([seq_bases[0]])"
   ]
  },
  {
   "cell_type": "code",
   "execution_count": 32,
   "metadata": {
    "ExecuteTime": {
     "end_time": "2020-09-01T19:01:59.553669Z",
     "start_time": "2020-09-01T19:01:59.500027Z"
    }
   },
   "outputs": [
    {
     "name": "stderr",
     "output_type": "stream",
     "text": [
      "C:\\Users\\am21907\\AppData\\Local\\Continuum\\anaconda3\\lib\\site-packages\\ipykernel_launcher.py:4: TqdmDeprecationWarning: This function will be removed in tqdm==5.0.0\n",
      "Please use `tqdm.notebook.tqdm` instead of `tqdm.tqdm_notebook`\n",
      "  after removing the cwd from sys.path.\n"
     ]
    },
    {
     "data": {
      "application/vnd.jupyter.widget-view+json": {
       "model_id": "cf8fb65289b149b29bb9a7ea1501330f",
       "version_major": 2,
       "version_minor": 0
      },
      "text/plain": [
       "HBox(children=(FloatProgress(value=0.0, max=1.0), HTML(value='')))"
      ]
     },
     "metadata": {},
     "output_type": "display_data"
    },
    {
     "name": "stdout",
     "output_type": "stream",
     "text": [
      "\n"
     ]
    },
    {
     "data": {
      "text/html": [
       "<div>\n",
       "<style scoped>\n",
       "    .dataframe tbody tr th:only-of-type {\n",
       "        vertical-align: middle;\n",
       "    }\n",
       "\n",
       "    .dataframe tbody tr th {\n",
       "        vertical-align: top;\n",
       "    }\n",
       "\n",
       "    .dataframe thead th {\n",
       "        text-align: right;\n",
       "    }\n",
       "</style>\n",
       "<table border=\"1\" class=\"dataframe\">\n",
       "  <thead>\n",
       "    <tr style=\"text-align: right;\">\n",
       "      <th></th>\n",
       "      <th>patient_id</th>\n",
       "      <th>idx_event</th>\n",
       "      <th>type_event</th>\n",
       "      <th>time_since_start</th>\n",
       "      <th>time_since_last_event</th>\n",
       "      <th>seq_id</th>\n",
       "    </tr>\n",
       "  </thead>\n",
       "  <tbody>\n",
       "    <tr>\n",
       "      <th>0</th>\n",
       "      <td>7.172604e+12</td>\n",
       "      <td>1.0</td>\n",
       "      <td>4.0</td>\n",
       "      <td>0.00</td>\n",
       "      <td>0.00</td>\n",
       "      <td>0</td>\n",
       "    </tr>\n",
       "    <tr>\n",
       "      <th>1</th>\n",
       "      <td>7.172604e+12</td>\n",
       "      <td>2.0</td>\n",
       "      <td>4.0</td>\n",
       "      <td>61.00</td>\n",
       "      <td>61.00</td>\n",
       "      <td>0</td>\n",
       "    </tr>\n",
       "    <tr>\n",
       "      <th>2</th>\n",
       "      <td>7.172604e+12</td>\n",
       "      <td>3.0</td>\n",
       "      <td>7.0</td>\n",
       "      <td>86.00</td>\n",
       "      <td>25.00</td>\n",
       "      <td>0</td>\n",
       "    </tr>\n",
       "    <tr>\n",
       "      <th>3</th>\n",
       "      <td>7.172604e+12</td>\n",
       "      <td>4.0</td>\n",
       "      <td>9.0</td>\n",
       "      <td>94.00</td>\n",
       "      <td>8.00</td>\n",
       "      <td>0</td>\n",
       "    </tr>\n",
       "    <tr>\n",
       "      <th>4</th>\n",
       "      <td>7.172604e+12</td>\n",
       "      <td>5.0</td>\n",
       "      <td>4.0</td>\n",
       "      <td>100.00</td>\n",
       "      <td>6.00</td>\n",
       "      <td>0</td>\n",
       "    </tr>\n",
       "    <tr>\n",
       "      <th>...</th>\n",
       "      <td>...</td>\n",
       "      <td>...</td>\n",
       "      <td>...</td>\n",
       "      <td>...</td>\n",
       "      <td>...</td>\n",
       "      <td>...</td>\n",
       "    </tr>\n",
       "    <tr>\n",
       "      <th>79</th>\n",
       "      <td>7.172604e+12</td>\n",
       "      <td>80.0</td>\n",
       "      <td>10.0</td>\n",
       "      <td>1784.02</td>\n",
       "      <td>0.02</td>\n",
       "      <td>0</td>\n",
       "    </tr>\n",
       "    <tr>\n",
       "      <th>80</th>\n",
       "      <td>7.172604e+12</td>\n",
       "      <td>81.0</td>\n",
       "      <td>4.0</td>\n",
       "      <td>1792.00</td>\n",
       "      <td>8.00</td>\n",
       "      <td>0</td>\n",
       "    </tr>\n",
       "    <tr>\n",
       "      <th>81</th>\n",
       "      <td>7.172604e+12</td>\n",
       "      <td>82.0</td>\n",
       "      <td>1.0</td>\n",
       "      <td>1802.00</td>\n",
       "      <td>10.00</td>\n",
       "      <td>0</td>\n",
       "    </tr>\n",
       "    <tr>\n",
       "      <th>82</th>\n",
       "      <td>7.172604e+12</td>\n",
       "      <td>83.0</td>\n",
       "      <td>4.0</td>\n",
       "      <td>1819.00</td>\n",
       "      <td>17.00</td>\n",
       "      <td>0</td>\n",
       "    </tr>\n",
       "    <tr>\n",
       "      <th>83</th>\n",
       "      <td>7.172604e+12</td>\n",
       "      <td>84.0</td>\n",
       "      <td>4.0</td>\n",
       "      <td>1846.00</td>\n",
       "      <td>27.00</td>\n",
       "      <td>0</td>\n",
       "    </tr>\n",
       "  </tbody>\n",
       "</table>\n",
       "<p>84 rows × 6 columns</p>\n",
       "</div>"
      ],
      "text/plain": [
       "      patient_id  idx_event  type_event  time_since_start  \\\n",
       "0   7.172604e+12        1.0         4.0              0.00   \n",
       "1   7.172604e+12        2.0         4.0             61.00   \n",
       "2   7.172604e+12        3.0         7.0             86.00   \n",
       "3   7.172604e+12        4.0         9.0             94.00   \n",
       "4   7.172604e+12        5.0         4.0            100.00   \n",
       "..           ...        ...         ...               ...   \n",
       "79  7.172604e+12       80.0        10.0           1784.02   \n",
       "80  7.172604e+12       81.0         4.0           1792.00   \n",
       "81  7.172604e+12       82.0         1.0           1802.00   \n",
       "82  7.172604e+12       83.0         4.0           1819.00   \n",
       "83  7.172604e+12       84.0         4.0           1846.00   \n",
       "\n",
       "    time_since_last_event  seq_id  \n",
       "0                    0.00       0  \n",
       "1                   61.00       0  \n",
       "2                   25.00       0  \n",
       "3                    8.00       0  \n",
       "4                    6.00       0  \n",
       "..                    ...     ...  \n",
       "79                   0.02       0  \n",
       "80                   8.00       0  \n",
       "81                  10.00       0  \n",
       "82                  17.00       0  \n",
       "83                  27.00       0  \n",
       "\n",
       "[84 rows x 6 columns]"
      ]
     },
     "execution_count": 32,
     "metadata": {},
     "output_type": "execute_result"
    }
   ],
   "source": [
    "convert_dict_to_df([seq_bases[1]])"
   ]
  },
  {
   "cell_type": "markdown",
   "metadata": {},
   "source": [
    "### all_log_proposals"
   ]
  },
  {
   "cell_type": "markdown",
   "metadata": {},
   "source": [
    "An indicator showing how well the new series with imputed events fits the distribution"
   ]
  },
  {
   "cell_type": "code",
   "execution_count": 33,
   "metadata": {
    "ExecuteTime": {
     "end_time": "2020-09-01T19:02:04.782148Z",
     "start_time": "2020-09-01T19:02:04.778168Z"
    }
   },
   "outputs": [
    {
     "data": {
      "text/plain": [
       "True"
      ]
     },
     "execution_count": 33,
     "metadata": {},
     "output_type": "execute_result"
    }
   ],
   "source": [
    "len(all_log_proposals)==args['Small']"
   ]
  },
  {
   "cell_type": "code",
   "execution_count": 34,
   "metadata": {
    "ExecuteTime": {
     "end_time": "2020-09-01T19:02:05.239206Z",
     "start_time": "2020-09-01T19:02:05.235196Z"
    }
   },
   "outputs": [
    {
     "data": {
      "text/plain": [
       "array([-25550.045, -25403.438, -18917.43 ], dtype=float32)"
      ]
     },
     "execution_count": 34,
     "metadata": {},
     "output_type": "execute_result"
    }
   ],
   "source": [
    "all_log_proposals"
   ]
  },
  {
   "cell_type": "markdown",
   "metadata": {},
   "source": [
    "### all_num_unobs"
   ]
  },
  {
   "cell_type": "markdown",
   "metadata": {},
   "source": [
    "This array seems to hold the number of events that were originally observed in the corresponding sequence"
   ]
  },
  {
   "cell_type": "code",
   "execution_count": 35,
   "metadata": {
    "ExecuteTime": {
     "end_time": "2020-09-01T19:02:06.910363Z",
     "start_time": "2020-09-01T19:02:06.905852Z"
    }
   },
   "outputs": [
    {
     "data": {
      "text/plain": [
       "array([161.,   0., 189.], dtype=float32)"
      ]
     },
     "execution_count": 35,
     "metadata": {},
     "output_type": "execute_result"
    }
   ],
   "source": [
    "all_num_unobs"
   ]
  },
  {
   "cell_type": "markdown",
   "metadata": {},
   "source": [
    "If hypothesis is true, then the difference between the all_num_unobs and it's corresponding output sequence will by = args['NumUnobserved']"
   ]
  },
  {
   "cell_type": "code",
   "execution_count": 36,
   "metadata": {
    "ExecuteTime": {
     "end_time": "2020-09-01T19:02:07.887456Z",
     "start_time": "2020-09-01T19:02:07.882943Z"
    }
   },
   "outputs": [
    {
     "name": "stdout",
     "output_type": "stream",
     "text": [
      "False\n",
      "False\n",
      "False\n"
     ]
    }
   ],
   "source": [
    "for i,num in enumerate(all_num_unobs):\n",
    "    print(len(all_particles[i][0]) - num == args['NumUnobserved'])"
   ]
  },
  {
   "cell_type": "code",
   "execution_count": 37,
   "metadata": {
    "ExecuteTime": {
     "end_time": "2020-09-01T19:02:08.424877Z",
     "start_time": "2020-09-01T19:02:08.419863Z"
    }
   },
   "outputs": [
    {
     "data": {
      "text/plain": [
       "85"
      ]
     },
     "execution_count": 37,
     "metadata": {},
     "output_type": "execute_result"
    }
   ],
   "source": [
    "len(all_particles[1][0])"
   ]
  },
  {
   "cell_type": "code",
   "execution_count": null,
   "metadata": {},
   "outputs": [],
   "source": []
  }
 ],
 "metadata": {
  "hide_input": false,
  "kernelspec": {
   "display_name": "Python 3",
   "language": "python",
   "name": "python3"
  },
  "language_info": {
   "codemirror_mode": {
    "name": "ipython",
    "version": 3
   },
   "file_extension": ".py",
   "mimetype": "text/x-python",
   "name": "python",
   "nbconvert_exporter": "python",
   "pygments_lexer": "ipython3",
   "version": "3.7.3"
  },
  "toc": {
   "base_numbering": 1,
   "nav_menu": {},
   "number_sections": true,
   "sideBar": true,
   "skip_h1_title": false,
   "title_cell": "Table of Contents",
   "title_sidebar": "Contents",
   "toc_cell": false,
   "toc_position": {
    "height": "calc(100% - 180px)",
    "left": "10px",
    "top": "150px",
    "width": "274px"
   },
   "toc_section_display": true,
   "toc_window_display": true
  },
  "varInspector": {
   "cols": {
    "lenName": 16,
    "lenType": 16,
    "lenVar": 40
   },
   "kernels_config": {
    "python": {
     "delete_cmd_postfix": "",
     "delete_cmd_prefix": "del ",
     "library": "var_list.py",
     "varRefreshCmd": "print(var_dic_list())"
    },
    "r": {
     "delete_cmd_postfix": ") ",
     "delete_cmd_prefix": "rm(",
     "library": "var_list.r",
     "varRefreshCmd": "cat(var_dic_list()) "
    }
   },
   "types_to_exclude": [
    "module",
    "function",
    "builtin_function_or_method",
    "instance",
    "_Feature"
   ],
   "window_display": false
  }
 },
 "nbformat": 4,
 "nbformat_minor": 2
}
