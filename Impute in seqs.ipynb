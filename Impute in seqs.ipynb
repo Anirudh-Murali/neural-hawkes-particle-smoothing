{
 "cells": [
  {
   "cell_type": "markdown",
   "metadata": {},
   "source": [
    "## Load Packages"
   ]
  },
  {
   "cell_type": "code",
   "execution_count": 102,
   "metadata": {
    "ExecuteTime": {
     "end_time": "2020-08-27T19:13:22.879893Z",
     "start_time": "2020-08-27T19:13:22.873878Z"
    }
   },
   "outputs": [],
   "source": [
    "import random\n",
    "import numpy as np\n",
    "import torch\n",
    "import pickle\n",
    "import pandas as pd\n",
    "import os\n",
    "from tqdm import tqdm_notebook\n",
    "from nhps.models import nhp\n",
    "from nhps.io import processors\n",
    "from nhps.miss import factorized"
   ]
  },
  {
   "cell_type": "markdown",
   "metadata": {},
   "source": [
    "## Functions"
   ]
  },
  {
   "cell_type": "code",
   "execution_count": 98,
   "metadata": {
    "ExecuteTime": {
     "end_time": "2020-08-27T19:12:45.541126Z",
     "start_time": "2020-08-27T19:12:45.536112Z"
    }
   },
   "outputs": [],
   "source": [
    "## function to convert pkl to df\n",
    "def convert_dict_to_df(pkl):\n",
    "    df = pd.DataFrame()\n",
    "    for i in tqdm_notebook(range(0,len(pkl))):\n",
    "        temp_df = (pd.DataFrame(pkl[i]))\n",
    "        temp_df['seq_id'] = i\n",
    "        df = pd.concat([df,temp_df])\n",
    "    return df.reset_index(drop=True)"
   ]
  },
  {
   "cell_type": "markdown",
   "metadata": {},
   "source": [
    "### Function to load dataset"
   ]
  },
  {
   "cell_type": "code",
   "execution_count": 6,
   "metadata": {
    "ExecuteTime": {
     "end_time": "2020-08-27T18:40:03.545061Z",
     "start_time": "2020-08-27T18:40:03.539547Z"
    }
   },
   "outputs": [],
   "source": [
    "def load_dataset(**args):\n",
    "    '''\n",
    "        'PathData': 'Directory where data is stored'\n",
    "        'Split': Type of data to use ['Train','Test','dev']. While testing choose either test or dev\n",
    "        'Small': reduce size of data for debug runs\n",
    "    '''\n",
    "    data_path = os.path.join(args['PathData'], args['Split'] + '.pkl')\n",
    "    with open(data_path, 'rb') as fp:\n",
    "        pkl_dev = pickle.load(fp)\n",
    "    data_dev, data_dev_gold = pkl_dev['seqs_obs'], pkl_dev['seqs']\n",
    "\n",
    "    if args['Small'] > -1:\n",
    "        data_dev = data_dev[:args['Small']]\n",
    "        data_dev_gold = data_dev_gold[:args['Small']]\n",
    "\n",
    "    #obs_num, unobs_num = pkl_dev['obs_num'], pkl_dev['unobs_num']\n",
    "    #total_event_num = obs_num + unobs_num\n",
    "    total_event_num = pkl_dev['total_num']\n",
    "\n",
    "    return [data_dev, data_dev_gold], [total_event_num]\n",
    "    #return [data_dev, data_dev_gold], [obs_num, unobs_num, total_event_num]\n"
   ]
  },
  {
   "cell_type": "markdown",
   "metadata": {},
   "source": [
    "### Function to Propose Particles"
   ]
  },
  {
   "cell_type": "code",
   "execution_count": 114,
   "metadata": {
    "ExecuteTime": {
     "end_time": "2020-08-27T19:18:16.174024Z",
     "start_time": "2020-08-27T19:18:16.144445Z"
    }
   },
   "outputs": [],
   "source": [
    "def propose_particles(**args):\n",
    "    '''\n",
    "        Model : nhpf or nhps\n",
    "        Seed : 12345 or any other number\n",
    "        UseGPU : True        \n",
    "     'PathData':'data/pilottaxi'\n",
    "     DimLSTM : 16\n",
    "        \n",
    "    '''\n",
    "#     handler = args['handler']# What is handler. Assuming that it is used for multi processing\n",
    "#     handler.print(\"Propose particles for model {}\".format(args['Model']))\n",
    "    print(\"Propose particles for model {}\".format(args['Model']))\n",
    "    random.seed(args['Seed'])\n",
    "    np.random.seed(args['Seed'])\n",
    "    torch.manual_seed(args['Seed'])\n",
    "\n",
    "    [data_dev, data_dev_gold], [total_event_num] = load_dataset(**args)\n",
    "    # seq_bases are the x's.\n",
    "    # We may use miss_mec to generate seq_bases in the future.\n",
    "    seq_bases = data_dev\n",
    "\n",
    "    if not args['UseGPU']:\n",
    "        device = 'cpu'\n",
    "    else:\n",
    "        device = 'cuda'\n",
    "\n",
    "    sampling = 1\n",
    "\n",
    "    miss_mec = factorized.FactorizedMissMec(\n",
    "        device = 'cuda' if args['UseGPU'] else 'cpu',\n",
    "        config_file = os.path.join(args['PathData'], 'censor.conf')\n",
    "    )\n",
    "\n",
    "    proc = processors.DataProcessorNeuralHawkes(\n",
    "        idx_BOS=total_event_num,\n",
    "        idx_EOS=total_event_num+1,\n",
    "        idx_PAD=total_event_num+2,\n",
    "        miss_mec=miss_mec,\n",
    "        sampling=sampling,\n",
    "        device = 'cuda' if args['UseGPU'] else 'cpu'\n",
    "    )\n",
    "\n",
    "    if args['Model'] == 'nhps':\n",
    "        agent = nhp.NeuralHawkes(\n",
    "            total_num=total_event_num, hidden_dim=args['DimLSTM'],\n",
    "            device=device, miss_mec=miss_mec\n",
    "        )\n",
    "        agent.initBackwardMachine(hidden_dim_back=args['BackDimLSTM'], type_back=args['BackType'],\n",
    "                                  back_beta=args['BackBeta'])\n",
    "    elif args['Model'] == 'nhpf':\n",
    "        agent = nhp.NeuralHawkes(\n",
    "            total_num=total_event_num, hidden_dim=args['DimLSTM'],\n",
    "            device=device, miss_mec=miss_mec\n",
    "        )\n",
    "    else:\n",
    "        raise NotImplementedError\n",
    "\n",
    "    agent.load_state_dict(\n",
    "        torch.load('./logs/model_nhps_5000', map_location='cpu') )\n",
    "\n",
    "    # NOTE: Here I just simply replace neglect_mask with r vector\n",
    "    # In a more general case mentioned in the paper,\n",
    "    # r factor should take the whole history into account.\n",
    "    # But in our experiment, events are censored independently,\n",
    "    # so the r vector is constant for all the events that're going to be proposed.\n",
    "    # I set history as None to get the r vector.\n",
    "    # **Reverse Changes**\n",
    "    agent.setMaskIntensity(miss_mec.neglect_mask())\n",
    "\n",
    "    if args['UseGPU']:\n",
    "        agent.cuda(device)\n",
    "    agent.eval()\n",
    "\n",
    "    input_dev = []\n",
    "    input_dev_with_grountruth = []\n",
    "    all_weights = list()\n",
    "    all_particles = list()\n",
    "    all_log_proposals = list()\n",
    "    all_num_unobs = list()\n",
    "\n",
    "    for i_dev, (one_seq_dev, one_seq_dev_gold) in enumerate(zip(data_dev, data_dev_gold)):\n",
    "\n",
    "        one_seq_dev_augmented = proc.orgSeq(\n",
    "            one_seq_dev, one_seq_dev_gold[-1]['time_since_start']\n",
    "        )\n",
    "        input_dev.append(\n",
    "            proc.augmentLogProbMissing(\n",
    "                agent.sample_particles(\n",
    "                    args['NumParticle'], one_seq_dev_augmented, args['NumUnobserved'],\n",
    "                    args['Multiplier'],\n",
    "                    resampling=args['Resampling'],\n",
    "                    need_eliminate_log_base=args['EliminateBase'] )))\n",
    "\n",
    "        input_dev_with_grountruth.append(\n",
    "            proc.processSeq(\n",
    "                one_seq_dev_gold, n=1, seq_obs=one_seq_dev))\n",
    "\n",
    "        if (i_dev+1) % args['SizeBatch'] == 0 or \\\n",
    "                (i_dev == len(data_dev)-1 and (len(input_dev)%args['SizeBatch']) > 0):\n",
    "\n",
    "            r\"\"\"\n",
    "            this part is computing log q(z | x)\n",
    "            where z is ground truth (similar to train nhps)\n",
    "            \"\"\"\n",
    "            batch_seqs_with_groundtruth = proc.processBatchSeqsWithParticles(\n",
    "                input_dev_with_grountruth)\n",
    "            log_proposals, num_unobs = agent(batch_seqs_with_groundtruth, mode=9)\n",
    "            all_log_proposals.append(log_proposals.detach().cpu().numpy())\n",
    "            all_num_unobs.append(num_unobs.detach().cpu().numpy())\n",
    "            input_dev_with_grountruth = list()\n",
    "\n",
    "            r\"\"\"\n",
    "            this part is computing weights for decoding\n",
    "            \"\"\"\n",
    "\n",
    "            # If resampling is on, we could directly get the weights of particles.\n",
    "            if args['Resampling']:\n",
    "                log_weights = np.array([input_[2].cpu().detach().numpy() for input_ in input_dev])\n",
    "                unnormalized_weights = np.exp(log_weights)\n",
    "                weights = (unnormalized_weights.T / unnormalized_weights.sum(axis=1)).T\n",
    "            else:\n",
    "                # If not, we could use our old method.\n",
    "                batch_seqs_dev = proc.processBatchSeqsWithParticles(input_dev)\n",
    "                weights, _ = agent(batch_seqs_dev, mode=4)\n",
    "                weights = weights.detach().cpu().numpy()\n",
    "\n",
    "            weights_orders = np.argsort(-weights, axis=1)\n",
    "\n",
    "            for i_batch, [event_, dtime_, _, _, len_seq_, _, _, _, _, _, _, _] in enumerate(input_dev):\n",
    "                particles = list()\n",
    "                all_particles.append(particles)\n",
    "                for particle_idx in weights_orders[i_batch]:\n",
    "                    event, dtime, len_seq = event_[particle_idx], \\\n",
    "                                            dtime_[particle_idx], len_seq_[particle_idx]\n",
    "                    particles.append(proc.getSeq(event.cpu(), dtime.cpu(), len_seq.cpu()))\n",
    "                all_weights.append(weights[i_batch][weights_orders[i_batch]])\n",
    "\n",
    "            input_dev = []\n",
    "#             handler.print(\"Proposing {}-th {} seq\".format(i_dev+1, args['Split']))\n",
    "            print(\"Proposing {}-th {} seq\".format(i_dev+1, args['Split']))\n",
    "\n",
    "    all_weights = np.array(all_weights)\n",
    "    all_log_proposals = np.concatenate(all_log_proposals)\n",
    "    all_num_unobs = np.concatenate(all_num_unobs)\n",
    "\n",
    "    # Note that particles in each batch are ordered by the their weights inversely.\n",
    "    return all_weights, all_particles, seq_bases, all_log_proposals, all_num_unobs"
   ]
  },
  {
   "cell_type": "markdown",
   "metadata": {},
   "source": [
    "## Run Propose_Particles function"
   ]
  },
  {
   "cell_type": "code",
   "execution_count": 133,
   "metadata": {
    "ExecuteTime": {
     "end_time": "2020-08-27T19:28:36.367730Z",
     "start_time": "2020-08-27T19:28:36.362214Z"
    }
   },
   "outputs": [],
   "source": [
    "args = {\n",
    "    'PathData':'data/pilottaxi',\n",
    "    'Split':'Train',\n",
    "    'NumUnobserved':\t10, \n",
    "    'Multiplier':\t1,\n",
    "    'NumParticle':\t1,\n",
    "    'Cost':\t1,\n",
    "    'MultiplierCost':\t2,\n",
    "    'NumCost':\t1,\n",
    "    'Split':\t'dev',\n",
    "    'SizeBatch':\t1,\n",
    "    'UseGPU':\tTrue,\n",
    "    'Seed':\t12345,\n",
    "    'Small':\t5, # change value to increase the number of output sequences\n",
    "    'MaxIter':\t5,\n",
    "    'ProcessPerDevice':\t2,\n",
    "#     'VisibleDevice':\t\n",
    "    'MultiProcess':\tNone,\n",
    "    'Resampling':\tFalse,\n",
    "    'EliminateBase':\tTrue,\n",
    "    'Model':'nhps',\n",
    "    'PathModel':'./',\n",
    "    'BackDimLSTM':16,\n",
    "    'DimLSTM':16,\n",
    "    'BackType':'add',\n",
    "    'BackBeta':1\n",
    "}"
   ]
  },
  {
   "cell_type": "code",
   "execution_count": 134,
   "metadata": {
    "ExecuteTime": {
     "end_time": "2020-08-27T19:28:43.622207Z",
     "start_time": "2020-08-27T19:28:36.710913Z"
    },
    "scrolled": false
   },
   "outputs": [
    {
     "name": "stdout",
     "output_type": "stream",
     "text": [
      "Propose particles for model nhps\n",
      "Proposing 1-th dev seq\n",
      "Proposing 2-th dev seq\n",
      "Proposing 3-th dev seq\n",
      "Proposing 4-th dev seq\n",
      "Proposing 5-th dev seq\n"
     ]
    }
   ],
   "source": [
    "all_weights, all_particles, seq_bases, all_log_proposals, all_num_unobs = propose_particles(**args)"
   ]
  },
  {
   "cell_type": "markdown",
   "metadata": {},
   "source": [
    "### all_weights"
   ]
  },
  {
   "cell_type": "code",
   "execution_count": 135,
   "metadata": {
    "ExecuteTime": {
     "end_time": "2020-08-27T19:28:44.403740Z",
     "start_time": "2020-08-27T19:28:44.399224Z"
    }
   },
   "outputs": [
    {
     "data": {
      "text/plain": [
       "array([[1.],\n",
       "       [1.],\n",
       "       [1.],\n",
       "       [1.],\n",
       "       [1.]], dtype=float32)"
      ]
     },
     "execution_count": 135,
     "metadata": {},
     "output_type": "execute_result"
    }
   ],
   "source": [
    "all_weights"
   ]
  },
  {
   "cell_type": "markdown",
   "metadata": {},
   "source": [
    "### all_particles (output sequence)"
   ]
  },
  {
   "cell_type": "markdown",
   "metadata": {},
   "source": [
    "all_particles[0] holds the output sequence. <br>\n",
    "<b> Note </b>: Number of imputed events is decided by the NumUnobserved"
   ]
  },
  {
   "cell_type": "code",
   "execution_count": 140,
   "metadata": {
    "ExecuteTime": {
     "end_time": "2020-08-27T19:29:13.282755Z",
     "start_time": "2020-08-27T19:29:13.278766Z"
    }
   },
   "outputs": [
    {
     "data": {
      "text/plain": [
       "True"
      ]
     },
     "execution_count": 140,
     "metadata": {},
     "output_type": "execute_result"
    }
   ],
   "source": [
    "len(seq_bases)==args['Small']"
   ]
  },
  {
   "cell_type": "code",
   "execution_count": 137,
   "metadata": {
    "ExecuteTime": {
     "end_time": "2020-08-27T19:28:50.140879Z",
     "start_time": "2020-08-27T19:28:50.099268Z"
    }
   },
   "outputs": [
    {
     "name": "stderr",
     "output_type": "stream",
     "text": [
      "C:\\Users\\am21907\\AppData\\Local\\Continuum\\anaconda3\\lib\\site-packages\\ipykernel_launcher.py:4: TqdmDeprecationWarning: This function will be removed in tqdm==5.0.0\n",
      "Please use `tqdm.notebook.tqdm` instead of `tqdm.tqdm_notebook`\n",
      "  after removing the cwd from sys.path.\n"
     ]
    },
    {
     "data": {
      "application/vnd.jupyter.widget-view+json": {
       "model_id": "3478b0aacf8f4a3eb5c5e2fa4b082182",
       "version_major": 2,
       "version_minor": 0
      },
      "text/plain": [
       "HBox(children=(FloatProgress(value=0.0, max=1.0), HTML(value='')))"
      ]
     },
     "metadata": {},
     "output_type": "display_data"
    },
    {
     "name": "stdout",
     "output_type": "stream",
     "text": [
      "\n"
     ]
    },
    {
     "data": {
      "text/html": [
       "<div>\n",
       "<style scoped>\n",
       "    .dataframe tbody tr th:only-of-type {\n",
       "        vertical-align: middle;\n",
       "    }\n",
       "\n",
       "    .dataframe tbody tr th {\n",
       "        vertical-align: top;\n",
       "    }\n",
       "\n",
       "    .dataframe thead th {\n",
       "        text-align: right;\n",
       "    }\n",
       "</style>\n",
       "<table border=\"1\" class=\"dataframe\">\n",
       "  <thead>\n",
       "    <tr style=\"text-align: right;\">\n",
       "      <th></th>\n",
       "      <th>type_event</th>\n",
       "      <th>time_since_last_event</th>\n",
       "      <th>time_since_start</th>\n",
       "      <th>seq_id</th>\n",
       "    </tr>\n",
       "  </thead>\n",
       "  <tbody>\n",
       "    <tr>\n",
       "      <th>0</th>\n",
       "      <td>8</td>\n",
       "      <td>0.063277</td>\n",
       "      <td>0.063277</td>\n",
       "      <td>0</td>\n",
       "    </tr>\n",
       "    <tr>\n",
       "      <th>1</th>\n",
       "      <td>3</td>\n",
       "      <td>0.313112</td>\n",
       "      <td>0.376389</td>\n",
       "      <td>0</td>\n",
       "    </tr>\n",
       "    <tr>\n",
       "      <th>2</th>\n",
       "      <td>8</td>\n",
       "      <td>0.159279</td>\n",
       "      <td>0.535668</td>\n",
       "      <td>0</td>\n",
       "    </tr>\n",
       "    <tr>\n",
       "      <th>3</th>\n",
       "      <td>3</td>\n",
       "      <td>0.021277</td>\n",
       "      <td>0.556944</td>\n",
       "      <td>0</td>\n",
       "    </tr>\n",
       "    <tr>\n",
       "      <th>4</th>\n",
       "      <td>8</td>\n",
       "      <td>0.273824</td>\n",
       "      <td>0.830769</td>\n",
       "      <td>0</td>\n",
       "    </tr>\n",
       "    <tr>\n",
       "      <th>5</th>\n",
       "      <td>8</td>\n",
       "      <td>0.022564</td>\n",
       "      <td>0.853332</td>\n",
       "      <td>0</td>\n",
       "    </tr>\n",
       "    <tr>\n",
       "      <th>6</th>\n",
       "      <td>3</td>\n",
       "      <td>0.040557</td>\n",
       "      <td>0.893889</td>\n",
       "      <td>0</td>\n",
       "    </tr>\n",
       "    <tr>\n",
       "      <th>7</th>\n",
       "      <td>3</td>\n",
       "      <td>0.461944</td>\n",
       "      <td>1.355833</td>\n",
       "      <td>0</td>\n",
       "    </tr>\n",
       "    <tr>\n",
       "      <th>8</th>\n",
       "      <td>3</td>\n",
       "      <td>0.202222</td>\n",
       "      <td>1.558056</td>\n",
       "      <td>0</td>\n",
       "    </tr>\n",
       "    <tr>\n",
       "      <th>9</th>\n",
       "      <td>8</td>\n",
       "      <td>0.080140</td>\n",
       "      <td>1.638195</td>\n",
       "      <td>0</td>\n",
       "    </tr>\n",
       "    <tr>\n",
       "      <th>10</th>\n",
       "      <td>3</td>\n",
       "      <td>0.075694</td>\n",
       "      <td>1.713889</td>\n",
       "      <td>0</td>\n",
       "    </tr>\n",
       "    <tr>\n",
       "      <th>11</th>\n",
       "      <td>8</td>\n",
       "      <td>0.028310</td>\n",
       "      <td>1.742199</td>\n",
       "      <td>0</td>\n",
       "    </tr>\n",
       "    <tr>\n",
       "      <th>12</th>\n",
       "      <td>8</td>\n",
       "      <td>0.211823</td>\n",
       "      <td>1.954022</td>\n",
       "      <td>0</td>\n",
       "    </tr>\n",
       "    <tr>\n",
       "      <th>13</th>\n",
       "      <td>8</td>\n",
       "      <td>0.384703</td>\n",
       "      <td>2.338726</td>\n",
       "      <td>0</td>\n",
       "    </tr>\n",
       "    <tr>\n",
       "      <th>14</th>\n",
       "      <td>3</td>\n",
       "      <td>0.016274</td>\n",
       "      <td>2.355000</td>\n",
       "      <td>0</td>\n",
       "    </tr>\n",
       "    <tr>\n",
       "      <th>15</th>\n",
       "      <td>8</td>\n",
       "      <td>0.164525</td>\n",
       "      <td>2.519525</td>\n",
       "      <td>0</td>\n",
       "    </tr>\n",
       "    <tr>\n",
       "      <th>16</th>\n",
       "      <td>3</td>\n",
       "      <td>0.306586</td>\n",
       "      <td>2.826111</td>\n",
       "      <td>0</td>\n",
       "    </tr>\n",
       "    <tr>\n",
       "      <th>17</th>\n",
       "      <td>3</td>\n",
       "      <td>0.451389</td>\n",
       "      <td>3.277500</td>\n",
       "      <td>0</td>\n",
       "    </tr>\n",
       "    <tr>\n",
       "      <th>18</th>\n",
       "      <td>8</td>\n",
       "      <td>0.028012</td>\n",
       "      <td>3.305512</td>\n",
       "      <td>0</td>\n",
       "    </tr>\n",
       "    <tr>\n",
       "      <th>19</th>\n",
       "      <td>3</td>\n",
       "      <td>1.812266</td>\n",
       "      <td>5.117778</td>\n",
       "      <td>0</td>\n",
       "    </tr>\n",
       "    <tr>\n",
       "      <th>20</th>\n",
       "      <td>3</td>\n",
       "      <td>3.045555</td>\n",
       "      <td>8.163333</td>\n",
       "      <td>0</td>\n",
       "    </tr>\n",
       "  </tbody>\n",
       "</table>\n",
       "</div>"
      ],
      "text/plain": [
       "    type_event  time_since_last_event  time_since_start  seq_id\n",
       "0            8               0.063277          0.063277       0\n",
       "1            3               0.313112          0.376389       0\n",
       "2            8               0.159279          0.535668       0\n",
       "3            3               0.021277          0.556944       0\n",
       "4            8               0.273824          0.830769       0\n",
       "5            8               0.022564          0.853332       0\n",
       "6            3               0.040557          0.893889       0\n",
       "7            3               0.461944          1.355833       0\n",
       "8            3               0.202222          1.558056       0\n",
       "9            8               0.080140          1.638195       0\n",
       "10           3               0.075694          1.713889       0\n",
       "11           8               0.028310          1.742199       0\n",
       "12           8               0.211823          1.954022       0\n",
       "13           8               0.384703          2.338726       0\n",
       "14           3               0.016274          2.355000       0\n",
       "15           8               0.164525          2.519525       0\n",
       "16           3               0.306586          2.826111       0\n",
       "17           3               0.451389          3.277500       0\n",
       "18           8               0.028012          3.305512       0\n",
       "19           3               1.812266          5.117778       0\n",
       "20           3               3.045555          8.163333       0"
      ]
     },
     "execution_count": 137,
     "metadata": {},
     "output_type": "execute_result"
    }
   ],
   "source": [
    "convert_dict_to_df(all_particles[0])"
   ]
  },
  {
   "cell_type": "code",
   "execution_count": 138,
   "metadata": {
    "ExecuteTime": {
     "end_time": "2020-08-27T19:28:50.642714Z",
     "start_time": "2020-08-27T19:28:50.578543Z"
    }
   },
   "outputs": [
    {
     "name": "stderr",
     "output_type": "stream",
     "text": [
      "C:\\Users\\am21907\\AppData\\Local\\Continuum\\anaconda3\\lib\\site-packages\\ipykernel_launcher.py:4: TqdmDeprecationWarning: This function will be removed in tqdm==5.0.0\n",
      "Please use `tqdm.notebook.tqdm` instead of `tqdm.tqdm_notebook`\n",
      "  after removing the cwd from sys.path.\n"
     ]
    },
    {
     "data": {
      "application/vnd.jupyter.widget-view+json": {
       "model_id": "ed32f4dead414acea554f21a552b6f55",
       "version_major": 2,
       "version_minor": 0
      },
      "text/plain": [
       "HBox(children=(FloatProgress(value=0.0, max=1.0), HTML(value='')))"
      ]
     },
     "metadata": {},
     "output_type": "display_data"
    },
    {
     "name": "stdout",
     "output_type": "stream",
     "text": [
      "\n"
     ]
    },
    {
     "data": {
      "text/html": [
       "<div>\n",
       "<style scoped>\n",
       "    .dataframe tbody tr th:only-of-type {\n",
       "        vertical-align: middle;\n",
       "    }\n",
       "\n",
       "    .dataframe tbody tr th {\n",
       "        vertical-align: top;\n",
       "    }\n",
       "\n",
       "    .dataframe thead th {\n",
       "        text-align: right;\n",
       "    }\n",
       "</style>\n",
       "<table border=\"1\" class=\"dataframe\">\n",
       "  <thead>\n",
       "    <tr style=\"text-align: right;\">\n",
       "      <th></th>\n",
       "      <th>type_event</th>\n",
       "      <th>time_since_last_event</th>\n",
       "      <th>time_since_start</th>\n",
       "      <th>seq_id</th>\n",
       "    </tr>\n",
       "  </thead>\n",
       "  <tbody>\n",
       "    <tr>\n",
       "      <th>0</th>\n",
       "      <td>0</td>\n",
       "      <td>0.098611</td>\n",
       "      <td>0.098611</td>\n",
       "      <td>0</td>\n",
       "    </tr>\n",
       "    <tr>\n",
       "      <th>1</th>\n",
       "      <td>8</td>\n",
       "      <td>0.062732</td>\n",
       "      <td>0.161343</td>\n",
       "      <td>0</td>\n",
       "    </tr>\n",
       "    <tr>\n",
       "      <th>2</th>\n",
       "      <td>8</td>\n",
       "      <td>0.304507</td>\n",
       "      <td>0.465850</td>\n",
       "      <td>0</td>\n",
       "    </tr>\n",
       "    <tr>\n",
       "      <th>3</th>\n",
       "      <td>0</td>\n",
       "      <td>0.108039</td>\n",
       "      <td>0.573889</td>\n",
       "      <td>0</td>\n",
       "    </tr>\n",
       "    <tr>\n",
       "      <th>4</th>\n",
       "      <td>0</td>\n",
       "      <td>0.135556</td>\n",
       "      <td>0.709444</td>\n",
       "      <td>0</td>\n",
       "    </tr>\n",
       "    <tr>\n",
       "      <th>5</th>\n",
       "      <td>0</td>\n",
       "      <td>0.299167</td>\n",
       "      <td>1.008611</td>\n",
       "      <td>0</td>\n",
       "    </tr>\n",
       "    <tr>\n",
       "      <th>6</th>\n",
       "      <td>0</td>\n",
       "      <td>0.193056</td>\n",
       "      <td>1.201667</td>\n",
       "      <td>0</td>\n",
       "    </tr>\n",
       "    <tr>\n",
       "      <th>7</th>\n",
       "      <td>0</td>\n",
       "      <td>0.119722</td>\n",
       "      <td>1.321389</td>\n",
       "      <td>0</td>\n",
       "    </tr>\n",
       "    <tr>\n",
       "      <th>8</th>\n",
       "      <td>8</td>\n",
       "      <td>0.016404</td>\n",
       "      <td>1.337793</td>\n",
       "      <td>0</td>\n",
       "    </tr>\n",
       "    <tr>\n",
       "      <th>9</th>\n",
       "      <td>0</td>\n",
       "      <td>0.259985</td>\n",
       "      <td>1.597778</td>\n",
       "      <td>0</td>\n",
       "    </tr>\n",
       "    <tr>\n",
       "      <th>10</th>\n",
       "      <td>8</td>\n",
       "      <td>0.070154</td>\n",
       "      <td>1.667931</td>\n",
       "      <td>0</td>\n",
       "    </tr>\n",
       "    <tr>\n",
       "      <th>11</th>\n",
       "      <td>8</td>\n",
       "      <td>0.172899</td>\n",
       "      <td>1.840830</td>\n",
       "      <td>0</td>\n",
       "    </tr>\n",
       "    <tr>\n",
       "      <th>12</th>\n",
       "      <td>8</td>\n",
       "      <td>0.531909</td>\n",
       "      <td>2.372739</td>\n",
       "      <td>0</td>\n",
       "    </tr>\n",
       "    <tr>\n",
       "      <th>13</th>\n",
       "      <td>8</td>\n",
       "      <td>0.606486</td>\n",
       "      <td>2.979225</td>\n",
       "      <td>0</td>\n",
       "    </tr>\n",
       "    <tr>\n",
       "      <th>14</th>\n",
       "      <td>0</td>\n",
       "      <td>0.097441</td>\n",
       "      <td>3.076667</td>\n",
       "      <td>0</td>\n",
       "    </tr>\n",
       "    <tr>\n",
       "      <th>15</th>\n",
       "      <td>0</td>\n",
       "      <td>0.324445</td>\n",
       "      <td>3.401111</td>\n",
       "      <td>0</td>\n",
       "    </tr>\n",
       "    <tr>\n",
       "      <th>16</th>\n",
       "      <td>0</td>\n",
       "      <td>0.404444</td>\n",
       "      <td>3.805556</td>\n",
       "      <td>0</td>\n",
       "    </tr>\n",
       "    <tr>\n",
       "      <th>17</th>\n",
       "      <td>8</td>\n",
       "      <td>0.249481</td>\n",
       "      <td>4.055037</td>\n",
       "      <td>0</td>\n",
       "    </tr>\n",
       "    <tr>\n",
       "      <th>18</th>\n",
       "      <td>0</td>\n",
       "      <td>0.136908</td>\n",
       "      <td>4.191945</td>\n",
       "      <td>0</td>\n",
       "    </tr>\n",
       "    <tr>\n",
       "      <th>19</th>\n",
       "      <td>8</td>\n",
       "      <td>0.337702</td>\n",
       "      <td>4.529646</td>\n",
       "      <td>0</td>\n",
       "    </tr>\n",
       "    <tr>\n",
       "      <th>20</th>\n",
       "      <td>8</td>\n",
       "      <td>0.287388</td>\n",
       "      <td>4.817035</td>\n",
       "      <td>0</td>\n",
       "    </tr>\n",
       "    <tr>\n",
       "      <th>21</th>\n",
       "      <td>0</td>\n",
       "      <td>0.003243</td>\n",
       "      <td>4.820278</td>\n",
       "      <td>0</td>\n",
       "    </tr>\n",
       "    <tr>\n",
       "      <th>22</th>\n",
       "      <td>0</td>\n",
       "      <td>0.425833</td>\n",
       "      <td>5.246111</td>\n",
       "      <td>0</td>\n",
       "    </tr>\n",
       "    <tr>\n",
       "      <th>23</th>\n",
       "      <td>0</td>\n",
       "      <td>0.673889</td>\n",
       "      <td>5.920000</td>\n",
       "      <td>0</td>\n",
       "    </tr>\n",
       "    <tr>\n",
       "      <th>24</th>\n",
       "      <td>0</td>\n",
       "      <td>0.416111</td>\n",
       "      <td>6.336111</td>\n",
       "      <td>0</td>\n",
       "    </tr>\n",
       "    <tr>\n",
       "      <th>25</th>\n",
       "      <td>0</td>\n",
       "      <td>1.748055</td>\n",
       "      <td>8.084167</td>\n",
       "      <td>0</td>\n",
       "    </tr>\n",
       "    <tr>\n",
       "      <th>26</th>\n",
       "      <td>0</td>\n",
       "      <td>0.206389</td>\n",
       "      <td>8.290556</td>\n",
       "      <td>0</td>\n",
       "    </tr>\n",
       "  </tbody>\n",
       "</table>\n",
       "</div>"
      ],
      "text/plain": [
       "    type_event  time_since_last_event  time_since_start  seq_id\n",
       "0            0               0.098611          0.098611       0\n",
       "1            8               0.062732          0.161343       0\n",
       "2            8               0.304507          0.465850       0\n",
       "3            0               0.108039          0.573889       0\n",
       "4            0               0.135556          0.709444       0\n",
       "5            0               0.299167          1.008611       0\n",
       "6            0               0.193056          1.201667       0\n",
       "7            0               0.119722          1.321389       0\n",
       "8            8               0.016404          1.337793       0\n",
       "9            0               0.259985          1.597778       0\n",
       "10           8               0.070154          1.667931       0\n",
       "11           8               0.172899          1.840830       0\n",
       "12           8               0.531909          2.372739       0\n",
       "13           8               0.606486          2.979225       0\n",
       "14           0               0.097441          3.076667       0\n",
       "15           0               0.324445          3.401111       0\n",
       "16           0               0.404444          3.805556       0\n",
       "17           8               0.249481          4.055037       0\n",
       "18           0               0.136908          4.191945       0\n",
       "19           8               0.337702          4.529646       0\n",
       "20           8               0.287388          4.817035       0\n",
       "21           0               0.003243          4.820278       0\n",
       "22           0               0.425833          5.246111       0\n",
       "23           0               0.673889          5.920000       0\n",
       "24           0               0.416111          6.336111       0\n",
       "25           0               1.748055          8.084167       0\n",
       "26           0               0.206389          8.290556       0"
      ]
     },
     "execution_count": 138,
     "metadata": {},
     "output_type": "execute_result"
    }
   ],
   "source": [
    "convert_dict_to_df(all_particles[1])"
   ]
  },
  {
   "cell_type": "markdown",
   "metadata": {},
   "source": [
    "### seq_base"
   ]
  },
  {
   "cell_type": "markdown",
   "metadata": {},
   "source": [
    "Base sequences ( events without imputation)"
   ]
  },
  {
   "cell_type": "code",
   "execution_count": 139,
   "metadata": {
    "ExecuteTime": {
     "end_time": "2020-08-27T19:29:06.164167Z",
     "start_time": "2020-08-27T19:29:06.159655Z"
    }
   },
   "outputs": [
    {
     "data": {
      "text/plain": [
       "True"
      ]
     },
     "execution_count": 139,
     "metadata": {},
     "output_type": "execute_result"
    }
   ],
   "source": [
    "len(seq_bases)==args['Small']"
   ]
  },
  {
   "cell_type": "code",
   "execution_count": 119,
   "metadata": {
    "ExecuteTime": {
     "end_time": "2020-08-27T19:18:34.132536Z",
     "start_time": "2020-08-27T19:18:34.088946Z"
    },
    "scrolled": false
   },
   "outputs": [
    {
     "name": "stderr",
     "output_type": "stream",
     "text": [
      "C:\\Users\\am21907\\AppData\\Local\\Continuum\\anaconda3\\lib\\site-packages\\ipykernel_launcher.py:4: TqdmDeprecationWarning: This function will be removed in tqdm==5.0.0\n",
      "Please use `tqdm.notebook.tqdm` instead of `tqdm.tqdm_notebook`\n",
      "  after removing the cwd from sys.path.\n"
     ]
    },
    {
     "data": {
      "application/vnd.jupyter.widget-view+json": {
       "model_id": "d47829fd96be4eccb7c35dfb06872504",
       "version_major": 2,
       "version_minor": 0
      },
      "text/plain": [
       "HBox(children=(FloatProgress(value=0.0, max=1.0), HTML(value='')))"
      ]
     },
     "metadata": {},
     "output_type": "display_data"
    },
    {
     "name": "stdout",
     "output_type": "stream",
     "text": [
      "\n"
     ]
    },
    {
     "data": {
      "text/html": [
       "<div>\n",
       "<style scoped>\n",
       "    .dataframe tbody tr th:only-of-type {\n",
       "        vertical-align: middle;\n",
       "    }\n",
       "\n",
       "    .dataframe tbody tr th {\n",
       "        vertical-align: top;\n",
       "    }\n",
       "\n",
       "    .dataframe thead th {\n",
       "        text-align: right;\n",
       "    }\n",
       "</style>\n",
       "<table border=\"1\" class=\"dataframe\">\n",
       "  <thead>\n",
       "    <tr style=\"text-align: right;\">\n",
       "      <th></th>\n",
       "      <th>idx_event</th>\n",
       "      <th>type_event</th>\n",
       "      <th>time_since_start</th>\n",
       "      <th>time_since_last_event</th>\n",
       "      <th>seq_id</th>\n",
       "    </tr>\n",
       "  </thead>\n",
       "  <tbody>\n",
       "    <tr>\n",
       "      <th>0</th>\n",
       "      <td>1</td>\n",
       "      <td>3</td>\n",
       "      <td>0.376389</td>\n",
       "      <td>0.376389</td>\n",
       "      <td>0</td>\n",
       "    </tr>\n",
       "    <tr>\n",
       "      <th>1</th>\n",
       "      <td>2</td>\n",
       "      <td>3</td>\n",
       "      <td>0.556944</td>\n",
       "      <td>0.180556</td>\n",
       "      <td>0</td>\n",
       "    </tr>\n",
       "    <tr>\n",
       "      <th>2</th>\n",
       "      <td>3</td>\n",
       "      <td>3</td>\n",
       "      <td>0.893889</td>\n",
       "      <td>0.336944</td>\n",
       "      <td>0</td>\n",
       "    </tr>\n",
       "    <tr>\n",
       "      <th>3</th>\n",
       "      <td>4</td>\n",
       "      <td>3</td>\n",
       "      <td>1.355833</td>\n",
       "      <td>0.461944</td>\n",
       "      <td>0</td>\n",
       "    </tr>\n",
       "    <tr>\n",
       "      <th>4</th>\n",
       "      <td>5</td>\n",
       "      <td>3</td>\n",
       "      <td>1.558056</td>\n",
       "      <td>0.202222</td>\n",
       "      <td>0</td>\n",
       "    </tr>\n",
       "    <tr>\n",
       "      <th>5</th>\n",
       "      <td>6</td>\n",
       "      <td>3</td>\n",
       "      <td>1.713889</td>\n",
       "      <td>0.155833</td>\n",
       "      <td>0</td>\n",
       "    </tr>\n",
       "    <tr>\n",
       "      <th>6</th>\n",
       "      <td>7</td>\n",
       "      <td>3</td>\n",
       "      <td>2.355000</td>\n",
       "      <td>0.641111</td>\n",
       "      <td>0</td>\n",
       "    </tr>\n",
       "    <tr>\n",
       "      <th>7</th>\n",
       "      <td>8</td>\n",
       "      <td>3</td>\n",
       "      <td>2.826111</td>\n",
       "      <td>0.471111</td>\n",
       "      <td>0</td>\n",
       "    </tr>\n",
       "    <tr>\n",
       "      <th>8</th>\n",
       "      <td>9</td>\n",
       "      <td>3</td>\n",
       "      <td>3.277500</td>\n",
       "      <td>0.451389</td>\n",
       "      <td>0</td>\n",
       "    </tr>\n",
       "    <tr>\n",
       "      <th>9</th>\n",
       "      <td>10</td>\n",
       "      <td>3</td>\n",
       "      <td>5.117778</td>\n",
       "      <td>1.840278</td>\n",
       "      <td>0</td>\n",
       "    </tr>\n",
       "    <tr>\n",
       "      <th>10</th>\n",
       "      <td>11</td>\n",
       "      <td>3</td>\n",
       "      <td>8.163333</td>\n",
       "      <td>3.045556</td>\n",
       "      <td>0</td>\n",
       "    </tr>\n",
       "  </tbody>\n",
       "</table>\n",
       "</div>"
      ],
      "text/plain": [
       "    idx_event  type_event  time_since_start  time_since_last_event  seq_id\n",
       "0           1           3          0.376389               0.376389       0\n",
       "1           2           3          0.556944               0.180556       0\n",
       "2           3           3          0.893889               0.336944       0\n",
       "3           4           3          1.355833               0.461944       0\n",
       "4           5           3          1.558056               0.202222       0\n",
       "5           6           3          1.713889               0.155833       0\n",
       "6           7           3          2.355000               0.641111       0\n",
       "7           8           3          2.826111               0.471111       0\n",
       "8           9           3          3.277500               0.451389       0\n",
       "9          10           3          5.117778               1.840278       0\n",
       "10         11           3          8.163333               3.045556       0"
      ]
     },
     "execution_count": 119,
     "metadata": {},
     "output_type": "execute_result"
    }
   ],
   "source": [
    "convert_dict_to_df([seq_bases[0]])"
   ]
  },
  {
   "cell_type": "code",
   "execution_count": 120,
   "metadata": {
    "ExecuteTime": {
     "end_time": "2020-08-27T19:18:39.583120Z",
     "start_time": "2020-08-27T19:18:39.541007Z"
    }
   },
   "outputs": [
    {
     "name": "stderr",
     "output_type": "stream",
     "text": [
      "C:\\Users\\am21907\\AppData\\Local\\Continuum\\anaconda3\\lib\\site-packages\\ipykernel_launcher.py:4: TqdmDeprecationWarning: This function will be removed in tqdm==5.0.0\n",
      "Please use `tqdm.notebook.tqdm` instead of `tqdm.tqdm_notebook`\n",
      "  after removing the cwd from sys.path.\n"
     ]
    },
    {
     "data": {
      "application/vnd.jupyter.widget-view+json": {
       "model_id": "8d4ce1762d864b6c86d8460632f2fd66",
       "version_major": 2,
       "version_minor": 0
      },
      "text/plain": [
       "HBox(children=(FloatProgress(value=0.0, max=1.0), HTML(value='')))"
      ]
     },
     "metadata": {},
     "output_type": "display_data"
    },
    {
     "name": "stdout",
     "output_type": "stream",
     "text": [
      "\n"
     ]
    },
    {
     "data": {
      "text/html": [
       "<div>\n",
       "<style scoped>\n",
       "    .dataframe tbody tr th:only-of-type {\n",
       "        vertical-align: middle;\n",
       "    }\n",
       "\n",
       "    .dataframe tbody tr th {\n",
       "        vertical-align: top;\n",
       "    }\n",
       "\n",
       "    .dataframe thead th {\n",
       "        text-align: right;\n",
       "    }\n",
       "</style>\n",
       "<table border=\"1\" class=\"dataframe\">\n",
       "  <thead>\n",
       "    <tr style=\"text-align: right;\">\n",
       "      <th></th>\n",
       "      <th>idx_event</th>\n",
       "      <th>type_event</th>\n",
       "      <th>time_since_start</th>\n",
       "      <th>time_since_last_event</th>\n",
       "      <th>seq_id</th>\n",
       "    </tr>\n",
       "  </thead>\n",
       "  <tbody>\n",
       "    <tr>\n",
       "      <th>0</th>\n",
       "      <td>1</td>\n",
       "      <td>0</td>\n",
       "      <td>0.098611</td>\n",
       "      <td>0.098611</td>\n",
       "      <td>0</td>\n",
       "    </tr>\n",
       "    <tr>\n",
       "      <th>1</th>\n",
       "      <td>2</td>\n",
       "      <td>0</td>\n",
       "      <td>0.573889</td>\n",
       "      <td>0.475278</td>\n",
       "      <td>0</td>\n",
       "    </tr>\n",
       "    <tr>\n",
       "      <th>2</th>\n",
       "      <td>3</td>\n",
       "      <td>0</td>\n",
       "      <td>0.709444</td>\n",
       "      <td>0.135556</td>\n",
       "      <td>0</td>\n",
       "    </tr>\n",
       "    <tr>\n",
       "      <th>3</th>\n",
       "      <td>4</td>\n",
       "      <td>0</td>\n",
       "      <td>1.008611</td>\n",
       "      <td>0.299167</td>\n",
       "      <td>0</td>\n",
       "    </tr>\n",
       "    <tr>\n",
       "      <th>4</th>\n",
       "      <td>5</td>\n",
       "      <td>0</td>\n",
       "      <td>1.201667</td>\n",
       "      <td>0.193056</td>\n",
       "      <td>0</td>\n",
       "    </tr>\n",
       "    <tr>\n",
       "      <th>5</th>\n",
       "      <td>6</td>\n",
       "      <td>0</td>\n",
       "      <td>1.321389</td>\n",
       "      <td>0.119722</td>\n",
       "      <td>0</td>\n",
       "    </tr>\n",
       "    <tr>\n",
       "      <th>6</th>\n",
       "      <td>7</td>\n",
       "      <td>0</td>\n",
       "      <td>1.597778</td>\n",
       "      <td>0.276389</td>\n",
       "      <td>0</td>\n",
       "    </tr>\n",
       "    <tr>\n",
       "      <th>7</th>\n",
       "      <td>8</td>\n",
       "      <td>0</td>\n",
       "      <td>3.076667</td>\n",
       "      <td>1.478889</td>\n",
       "      <td>0</td>\n",
       "    </tr>\n",
       "    <tr>\n",
       "      <th>8</th>\n",
       "      <td>9</td>\n",
       "      <td>0</td>\n",
       "      <td>3.401111</td>\n",
       "      <td>0.324444</td>\n",
       "      <td>0</td>\n",
       "    </tr>\n",
       "    <tr>\n",
       "      <th>9</th>\n",
       "      <td>10</td>\n",
       "      <td>0</td>\n",
       "      <td>3.805556</td>\n",
       "      <td>0.404444</td>\n",
       "      <td>0</td>\n",
       "    </tr>\n",
       "    <tr>\n",
       "      <th>10</th>\n",
       "      <td>11</td>\n",
       "      <td>0</td>\n",
       "      <td>4.191944</td>\n",
       "      <td>0.386389</td>\n",
       "      <td>0</td>\n",
       "    </tr>\n",
       "    <tr>\n",
       "      <th>11</th>\n",
       "      <td>12</td>\n",
       "      <td>0</td>\n",
       "      <td>4.820278</td>\n",
       "      <td>0.628333</td>\n",
       "      <td>0</td>\n",
       "    </tr>\n",
       "    <tr>\n",
       "      <th>12</th>\n",
       "      <td>13</td>\n",
       "      <td>0</td>\n",
       "      <td>5.246111</td>\n",
       "      <td>0.425833</td>\n",
       "      <td>0</td>\n",
       "    </tr>\n",
       "    <tr>\n",
       "      <th>13</th>\n",
       "      <td>14</td>\n",
       "      <td>0</td>\n",
       "      <td>5.920000</td>\n",
       "      <td>0.673889</td>\n",
       "      <td>0</td>\n",
       "    </tr>\n",
       "    <tr>\n",
       "      <th>14</th>\n",
       "      <td>15</td>\n",
       "      <td>0</td>\n",
       "      <td>6.336111</td>\n",
       "      <td>0.416111</td>\n",
       "      <td>0</td>\n",
       "    </tr>\n",
       "    <tr>\n",
       "      <th>15</th>\n",
       "      <td>16</td>\n",
       "      <td>0</td>\n",
       "      <td>8.084167</td>\n",
       "      <td>1.748056</td>\n",
       "      <td>0</td>\n",
       "    </tr>\n",
       "    <tr>\n",
       "      <th>16</th>\n",
       "      <td>17</td>\n",
       "      <td>0</td>\n",
       "      <td>8.290556</td>\n",
       "      <td>0.206389</td>\n",
       "      <td>0</td>\n",
       "    </tr>\n",
       "  </tbody>\n",
       "</table>\n",
       "</div>"
      ],
      "text/plain": [
       "    idx_event  type_event  time_since_start  time_since_last_event  seq_id\n",
       "0           1           0          0.098611               0.098611       0\n",
       "1           2           0          0.573889               0.475278       0\n",
       "2           3           0          0.709444               0.135556       0\n",
       "3           4           0          1.008611               0.299167       0\n",
       "4           5           0          1.201667               0.193056       0\n",
       "5           6           0          1.321389               0.119722       0\n",
       "6           7           0          1.597778               0.276389       0\n",
       "7           8           0          3.076667               1.478889       0\n",
       "8           9           0          3.401111               0.324444       0\n",
       "9          10           0          3.805556               0.404444       0\n",
       "10         11           0          4.191944               0.386389       0\n",
       "11         12           0          4.820278               0.628333       0\n",
       "12         13           0          5.246111               0.425833       0\n",
       "13         14           0          5.920000               0.673889       0\n",
       "14         15           0          6.336111               0.416111       0\n",
       "15         16           0          8.084167               1.748056       0\n",
       "16         17           0          8.290556               0.206389       0"
      ]
     },
     "execution_count": 120,
     "metadata": {},
     "output_type": "execute_result"
    }
   ],
   "source": [
    "convert_dict_to_df([seq_bases[1]])"
   ]
  },
  {
   "cell_type": "markdown",
   "metadata": {},
   "source": [
    "### all_log_proposals"
   ]
  },
  {
   "cell_type": "markdown",
   "metadata": {},
   "source": [
    "An indicator showing how well the new series with imputed events fits the distribution"
   ]
  },
  {
   "cell_type": "code",
   "execution_count": 141,
   "metadata": {
    "ExecuteTime": {
     "end_time": "2020-08-27T19:29:26.020907Z",
     "start_time": "2020-08-27T19:29:26.015881Z"
    }
   },
   "outputs": [
    {
     "data": {
      "text/plain": [
       "True"
      ]
     },
     "execution_count": 141,
     "metadata": {},
     "output_type": "execute_result"
    }
   ],
   "source": [
    "len(all_log_proposals)==args['Small']"
   ]
  },
  {
   "cell_type": "code",
   "execution_count": 142,
   "metadata": {
    "ExecuteTime": {
     "end_time": "2020-08-27T19:29:26.659390Z",
     "start_time": "2020-08-27T19:29:26.654896Z"
    }
   },
   "outputs": [
    {
     "data": {
      "text/plain": [
       "array([-27.207394, -49.186005, -47.112453, -13.214535, -14.234542],\n",
       "      dtype=float32)"
      ]
     },
     "execution_count": 142,
     "metadata": {},
     "output_type": "execute_result"
    }
   ],
   "source": [
    "all_log_proposals"
   ]
  },
  {
   "cell_type": "markdown",
   "metadata": {},
   "source": [
    "### all_num_unobs"
   ]
  },
  {
   "cell_type": "markdown",
   "metadata": {},
   "source": [
    "This array seems to hold the number of events that were originally observed in the corresponding sequence"
   ]
  },
  {
   "cell_type": "code",
   "execution_count": 143,
   "metadata": {
    "ExecuteTime": {
     "end_time": "2020-08-27T19:29:31.875020Z",
     "start_time": "2020-08-27T19:29:31.870990Z"
    }
   },
   "outputs": [
    {
     "data": {
      "text/plain": [
       "array([11., 17., 15., 14., 19.], dtype=float32)"
      ]
     },
     "execution_count": 143,
     "metadata": {},
     "output_type": "execute_result"
    }
   ],
   "source": [
    "all_num_unobs"
   ]
  },
  {
   "cell_type": "markdown",
   "metadata": {},
   "source": [
    "If hypothesis is true, then the difference between the all_num_unobs and it's corresponding output sequence will by = args['NumUnobserved']"
   ]
  },
  {
   "cell_type": "code",
   "execution_count": 154,
   "metadata": {
    "ExecuteTime": {
     "end_time": "2020-08-27T19:34:40.482498Z",
     "start_time": "2020-08-27T19:34:40.477987Z"
    }
   },
   "outputs": [
    {
     "name": "stdout",
     "output_type": "stream",
     "text": [
      "True\n",
      "True\n",
      "True\n",
      "True\n",
      "True\n"
     ]
    }
   ],
   "source": [
    "for i,num in enumerate(all_num_unobs):\n",
    "    print(len(all_particles[i][0]) - num == args['NumUnobserved'])"
   ]
  },
  {
   "cell_type": "code",
   "execution_count": 152,
   "metadata": {
    "ExecuteTime": {
     "end_time": "2020-08-27T19:34:05.457911Z",
     "start_time": "2020-08-27T19:34:05.453368Z"
    }
   },
   "outputs": [
    {
     "data": {
      "text/plain": [
       "27"
      ]
     },
     "execution_count": 152,
     "metadata": {},
     "output_type": "execute_result"
    }
   ],
   "source": [
    "len(all_particles[1][0])"
   ]
  },
  {
   "cell_type": "code",
   "execution_count": null,
   "metadata": {},
   "outputs": [],
   "source": []
  }
 ],
 "metadata": {
  "hide_input": false,
  "kernelspec": {
   "display_name": "Python 3",
   "language": "python",
   "name": "python3"
  },
  "language_info": {
   "codemirror_mode": {
    "name": "ipython",
    "version": 3
   },
   "file_extension": ".py",
   "mimetype": "text/x-python",
   "name": "python",
   "nbconvert_exporter": "python",
   "pygments_lexer": "ipython3",
   "version": "3.7.3"
  },
  "toc": {
   "base_numbering": 1,
   "nav_menu": {},
   "number_sections": true,
   "sideBar": true,
   "skip_h1_title": false,
   "title_cell": "Table of Contents",
   "title_sidebar": "Contents",
   "toc_cell": false,
   "toc_position": {
    "height": "calc(100% - 180px)",
    "left": "10px",
    "top": "150px",
    "width": "307.2px"
   },
   "toc_section_display": true,
   "toc_window_display": true
  },
  "varInspector": {
   "cols": {
    "lenName": 16,
    "lenType": 16,
    "lenVar": 40
   },
   "kernels_config": {
    "python": {
     "delete_cmd_postfix": "",
     "delete_cmd_prefix": "del ",
     "library": "var_list.py",
     "varRefreshCmd": "print(var_dic_list())"
    },
    "r": {
     "delete_cmd_postfix": ") ",
     "delete_cmd_prefix": "rm(",
     "library": "var_list.r",
     "varRefreshCmd": "cat(var_dic_list()) "
    }
   },
   "types_to_exclude": [
    "module",
    "function",
    "builtin_function_or_method",
    "instance",
    "_Feature"
   ],
   "window_display": false
  }
 },
 "nbformat": 4,
 "nbformat_minor": 2
}
