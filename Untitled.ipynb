{
 "cells": [
  {
   "cell_type": "code",
   "execution_count": 1,
   "metadata": {
    "ExecuteTime": {
     "end_time": "2020-08-22T08:25:51.329949Z",
     "start_time": "2020-08-22T08:25:50.676732Z"
    }
   },
   "outputs": [],
   "source": [
    "import pandas as pd"
   ]
  },
  {
   "cell_type": "code",
   "execution_count": 6,
   "metadata": {
    "ExecuteTime": {
     "end_time": "2020-08-22T08:29:05.459371Z",
     "start_time": "2020-08-22T08:29:05.248312Z"
    }
   },
   "outputs": [],
   "source": [
    "df = pd.read_pickle(\"data/pilotnhp0-20200822T082140Z-001/pilotnhp0/train.pkl\")"
   ]
  },
  {
   "cell_type": "code",
   "execution_count": 10,
   "metadata": {
    "ExecuteTime": {
     "end_time": "2020-08-22T08:29:37.030935Z",
     "start_time": "2020-08-22T08:29:37.026892Z"
    }
   },
   "outputs": [
    {
     "data": {
      "text/plain": [
       "{'idx_event': 2,\n",
       " 'time_since_last_event': 0.09181147,\n",
       " 'time_since_start': 0.09181147,\n",
       " 'time_since_last_same_event': 0.09181147,\n",
       " 'type_event': 3}"
      ]
     },
     "execution_count": 10,
     "metadata": {},
     "output_type": "execute_result"
    }
   ],
   "source": [
    "df['seqs'][0][0]"
   ]
  },
  {
   "cell_type": "code",
   "execution_count": 11,
   "metadata": {
    "ExecuteTime": {
     "end_time": "2020-08-22T08:30:15.877391Z",
     "start_time": "2020-08-22T08:30:15.872877Z"
    }
   },
   "outputs": [
    {
     "data": {
      "text/plain": [
       "{'idx_event': 2,\n",
       " 'time_since_last_event': 0.09181147,\n",
       " 'time_since_start': 0.09181147,\n",
       " 'time_since_last_same_event': 0.09181147,\n",
       " 'type_event': 3}"
      ]
     },
     "execution_count": 11,
     "metadata": {},
     "output_type": "execute_result"
    }
   ],
   "source": [
    "df['seqs_obs'][0][0]"
   ]
  },
  {
   "cell_type": "code",
   "execution_count": 15,
   "metadata": {
    "ExecuteTime": {
     "end_time": "2020-08-22T08:30:45.228974Z",
     "start_time": "2020-08-22T08:30:45.223934Z"
    }
   },
   "outputs": [
    {
     "data": {
      "text/plain": [
       "4"
      ]
     },
     "execution_count": 15,
     "metadata": {},
     "output_type": "execute_result"
    }
   ],
   "source": [
    "df['total_num']"
   ]
  },
  {
   "cell_type": "code",
   "execution_count": 16,
   "metadata": {
    "ExecuteTime": {
     "end_time": "2020-08-22T08:30:58.851052Z",
     "start_time": "2020-08-22T08:30:58.744769Z"
    }
   },
   "outputs": [
    {
     "data": {
      "text/html": [
       "<div>\n",
       "<style scoped>\n",
       "    .dataframe tbody tr th:only-of-type {\n",
       "        vertical-align: middle;\n",
       "    }\n",
       "\n",
       "    .dataframe tbody tr th {\n",
       "        vertical-align: top;\n",
       "    }\n",
       "\n",
       "    .dataframe thead th {\n",
       "        text-align: right;\n",
       "    }\n",
       "</style>\n",
       "<table border=\"1\" class=\"dataframe\">\n",
       "  <thead>\n",
       "    <tr style=\"text-align: right;\">\n",
       "      <th></th>\n",
       "      <th>seqs</th>\n",
       "      <th>seqs_obs</th>\n",
       "      <th>total_num</th>\n",
       "    </tr>\n",
       "  </thead>\n",
       "  <tbody>\n",
       "    <tr>\n",
       "      <th>0</th>\n",
       "      <td>[{'idx_event': 2, 'time_since_last_event': 0.0...</td>\n",
       "      <td>[{'idx_event': 2, 'time_since_last_event': 0.0...</td>\n",
       "      <td>4</td>\n",
       "    </tr>\n",
       "    <tr>\n",
       "      <th>1</th>\n",
       "      <td>[{'idx_event': 2, 'time_since_last_event': 0.1...</td>\n",
       "      <td>[{'idx_event': 2, 'time_since_last_event': 0.1...</td>\n",
       "      <td>4</td>\n",
       "    </tr>\n",
       "    <tr>\n",
       "      <th>2</th>\n",
       "      <td>[{'idx_event': 2, 'time_since_last_event': 0.2...</td>\n",
       "      <td>[{'idx_event': 2, 'time_since_last_event': 0.2...</td>\n",
       "      <td>4</td>\n",
       "    </tr>\n",
       "    <tr>\n",
       "      <th>3</th>\n",
       "      <td>[{'idx_event': 2, 'time_since_last_event': 0.1...</td>\n",
       "      <td>[{'idx_event': 2, 'time_since_last_event': 0.1...</td>\n",
       "      <td>4</td>\n",
       "    </tr>\n",
       "    <tr>\n",
       "      <th>4</th>\n",
       "      <td>[{'idx_event': 2, 'time_since_last_event': 0.1...</td>\n",
       "      <td>[{'idx_event': 2, 'time_since_last_event': 0.1...</td>\n",
       "      <td>4</td>\n",
       "    </tr>\n",
       "  </tbody>\n",
       "</table>\n",
       "</div>"
      ],
      "text/plain": [
       "                                                seqs  \\\n",
       "0  [{'idx_event': 2, 'time_since_last_event': 0.0...   \n",
       "1  [{'idx_event': 2, 'time_since_last_event': 0.1...   \n",
       "2  [{'idx_event': 2, 'time_since_last_event': 0.2...   \n",
       "3  [{'idx_event': 2, 'time_since_last_event': 0.1...   \n",
       "4  [{'idx_event': 2, 'time_since_last_event': 0.1...   \n",
       "\n",
       "                                            seqs_obs  total_num  \n",
       "0  [{'idx_event': 2, 'time_since_last_event': 0.0...          4  \n",
       "1  [{'idx_event': 2, 'time_since_last_event': 0.1...          4  \n",
       "2  [{'idx_event': 2, 'time_since_last_event': 0.2...          4  \n",
       "3  [{'idx_event': 2, 'time_since_last_event': 0.1...          4  \n",
       "4  [{'idx_event': 2, 'time_since_last_event': 0.1...          4  "
      ]
     },
     "execution_count": 16,
     "metadata": {},
     "output_type": "execute_result"
    }
   ],
   "source": [
    "pd.DataFrame.from_dict(df).head()"
   ]
  },
  {
   "cell_type": "code",
   "execution_count": 17,
   "metadata": {
    "ExecuteTime": {
     "end_time": "2020-08-22T08:31:21.873274Z",
     "start_time": "2020-08-22T08:31:21.847693Z"
    }
   },
   "outputs": [],
   "source": [
    "df = pd.read_pickle(\"data/pilotnhp0-20200822T082140Z-001/pilotnhp0/test.pkl\")"
   ]
  },
  {
   "cell_type": "code",
   "execution_count": 19,
   "metadata": {
    "ExecuteTime": {
     "end_time": "2020-08-22T08:31:34.205171Z",
     "start_time": "2020-08-22T08:31:34.153536Z"
    }
   },
   "outputs": [
    {
     "data": {
      "text/html": [
       "<div>\n",
       "<style scoped>\n",
       "    .dataframe tbody tr th:only-of-type {\n",
       "        vertical-align: middle;\n",
       "    }\n",
       "\n",
       "    .dataframe tbody tr th {\n",
       "        vertical-align: top;\n",
       "    }\n",
       "\n",
       "    .dataframe thead th {\n",
       "        text-align: right;\n",
       "    }\n",
       "</style>\n",
       "<table border=\"1\" class=\"dataframe\">\n",
       "  <thead>\n",
       "    <tr style=\"text-align: right;\">\n",
       "      <th></th>\n",
       "      <th>seqs</th>\n",
       "      <th>seqs_obs</th>\n",
       "      <th>total_num</th>\n",
       "    </tr>\n",
       "  </thead>\n",
       "  <tbody>\n",
       "    <tr>\n",
       "      <th>0</th>\n",
       "      <td>[{'idx_event': 2, 'time_since_last_event': 0.0...</td>\n",
       "      <td>[{'idx_event': 2, 'time_since_last_event': 0.0...</td>\n",
       "      <td>4</td>\n",
       "    </tr>\n",
       "    <tr>\n",
       "      <th>1</th>\n",
       "      <td>[{'idx_event': 2, 'time_since_last_event': 0.1...</td>\n",
       "      <td>[{'idx_event': 2, 'time_since_last_event': 0.1...</td>\n",
       "      <td>4</td>\n",
       "    </tr>\n",
       "    <tr>\n",
       "      <th>2</th>\n",
       "      <td>[{'idx_event': 2, 'time_since_last_event': 0.0...</td>\n",
       "      <td>[{'idx_event': 3, 'time_since_last_event': 0.6...</td>\n",
       "      <td>4</td>\n",
       "    </tr>\n",
       "    <tr>\n",
       "      <th>3</th>\n",
       "      <td>[{'idx_event': 2, 'time_since_last_event': 0.2...</td>\n",
       "      <td>[{'idx_event': 2, 'time_since_last_event': 0.2...</td>\n",
       "      <td>4</td>\n",
       "    </tr>\n",
       "    <tr>\n",
       "      <th>4</th>\n",
       "      <td>[{'idx_event': 2, 'time_since_last_event': 0.0...</td>\n",
       "      <td>[{'idx_event': 3, 'time_since_last_event': 0.5...</td>\n",
       "      <td>4</td>\n",
       "    </tr>\n",
       "  </tbody>\n",
       "</table>\n",
       "</div>"
      ],
      "text/plain": [
       "                                                seqs  \\\n",
       "0  [{'idx_event': 2, 'time_since_last_event': 0.0...   \n",
       "1  [{'idx_event': 2, 'time_since_last_event': 0.1...   \n",
       "2  [{'idx_event': 2, 'time_since_last_event': 0.0...   \n",
       "3  [{'idx_event': 2, 'time_since_last_event': 0.2...   \n",
       "4  [{'idx_event': 2, 'time_since_last_event': 0.0...   \n",
       "\n",
       "                                            seqs_obs  total_num  \n",
       "0  [{'idx_event': 2, 'time_since_last_event': 0.0...          4  \n",
       "1  [{'idx_event': 2, 'time_since_last_event': 0.1...          4  \n",
       "2  [{'idx_event': 3, 'time_since_last_event': 0.6...          4  \n",
       "3  [{'idx_event': 2, 'time_since_last_event': 0.2...          4  \n",
       "4  [{'idx_event': 3, 'time_since_last_event': 0.5...          4  "
      ]
     },
     "execution_count": 19,
     "metadata": {},
     "output_type": "execute_result"
    }
   ],
   "source": [
    "pd.DataFrame.from_dict(df).head()"
   ]
  },
  {
   "cell_type": "code",
   "execution_count": null,
   "metadata": {},
   "outputs": [],
   "source": []
  }
 ],
 "metadata": {
  "hide_input": false,
  "kernelspec": {
   "display_name": "Python 3",
   "language": "python",
   "name": "python3"
  },
  "language_info": {
   "codemirror_mode": {
    "name": "ipython",
    "version": 3
   },
   "file_extension": ".py",
   "mimetype": "text/x-python",
   "name": "python",
   "nbconvert_exporter": "python",
   "pygments_lexer": "ipython3",
   "version": "3.7.3"
  },
  "toc": {
   "base_numbering": 1,
   "nav_menu": {},
   "number_sections": true,
   "sideBar": true,
   "skip_h1_title": false,
   "title_cell": "Table of Contents",
   "title_sidebar": "Contents",
   "toc_cell": false,
   "toc_position": {},
   "toc_section_display": true,
   "toc_window_display": false
  },
  "varInspector": {
   "cols": {
    "lenName": 16,
    "lenType": 16,
    "lenVar": 40
   },
   "kernels_config": {
    "python": {
     "delete_cmd_postfix": "",
     "delete_cmd_prefix": "del ",
     "library": "var_list.py",
     "varRefreshCmd": "print(var_dic_list())"
    },
    "r": {
     "delete_cmd_postfix": ") ",
     "delete_cmd_prefix": "rm(",
     "library": "var_list.r",
     "varRefreshCmd": "cat(var_dic_list()) "
    }
   },
   "types_to_exclude": [
    "module",
    "function",
    "builtin_function_or_method",
    "instance",
    "_Feature"
   ],
   "window_display": false
  }
 },
 "nbformat": 4,
 "nbformat_minor": 2
}
