{
 "cells": [
  {
   "cell_type": "code",
   "execution_count": 1,
   "metadata": {
    "ExecuteTime": {
     "end_time": "2020-08-22T12:37:34.982548Z",
     "start_time": "2020-08-22T12:37:34.459899Z"
    }
   },
   "outputs": [],
   "source": [
    "import pandas as pd\n",
    "import pickle\n",
    "from tqdm import tqdm_notebook"
   ]
  },
  {
   "cell_type": "markdown",
   "metadata": {},
   "source": [
    "## Load Datasets"
   ]
  },
  {
   "cell_type": "markdown",
   "metadata": {
    "ExecuteTime": {
     "end_time": "2020-08-22T12:25:01.832826Z",
     "start_time": "2020-08-22T12:25:01.724975Z"
    }
   },
   "source": [
    "## Exploring Train"
   ]
  },
  {
   "cell_type": "code",
   "execution_count": 18,
   "metadata": {
    "ExecuteTime": {
     "end_time": "2020-08-22T13:06:19.679718Z",
     "start_time": "2020-08-22T13:06:19.446176Z"
    }
   },
   "outputs": [],
   "source": [
    "with open('data/pilottaxi/train.pkl', 'rb') as f:\n",
    "    pkl_train = pickle.load(f)"
   ]
  },
  {
   "cell_type": "code",
   "execution_count": 20,
   "metadata": {
    "ExecuteTime": {
     "end_time": "2020-08-22T13:06:39.234727Z",
     "start_time": "2020-08-22T13:06:39.229701Z"
    }
   },
   "outputs": [
    {
     "data": {
      "text/plain": [
       "dict_keys(['seqs', 'seqs_obs', 'total_num'])"
      ]
     },
     "execution_count": 20,
     "metadata": {},
     "output_type": "execute_result"
    }
   ],
   "source": [
    "pkl_train.keys()"
   ]
  },
  {
   "cell_type": "code",
   "execution_count": 22,
   "metadata": {
    "ExecuteTime": {
     "end_time": "2020-08-22T13:07:45.478730Z",
     "start_time": "2020-08-22T13:07:45.468701Z"
    }
   },
   "outputs": [
    {
     "name": "stdout",
     "output_type": "stream",
     "text": [
      "(34, 4)\n"
     ]
    },
    {
     "data": {
      "text/html": [
       "<div>\n",
       "<style scoped>\n",
       "    .dataframe tbody tr th:only-of-type {\n",
       "        vertical-align: middle;\n",
       "    }\n",
       "\n",
       "    .dataframe tbody tr th {\n",
       "        vertical-align: top;\n",
       "    }\n",
       "\n",
       "    .dataframe thead th {\n",
       "        text-align: right;\n",
       "    }\n",
       "</style>\n",
       "<table border=\"1\" class=\"dataframe\">\n",
       "  <thead>\n",
       "    <tr style=\"text-align: right;\">\n",
       "      <th></th>\n",
       "      <th>idx_event</th>\n",
       "      <th>type_event</th>\n",
       "      <th>time_since_start</th>\n",
       "      <th>time_since_last_event</th>\n",
       "    </tr>\n",
       "  </thead>\n",
       "  <tbody>\n",
       "    <tr>\n",
       "      <th>0</th>\n",
       "      <td>1</td>\n",
       "      <td>8</td>\n",
       "      <td>0.000000</td>\n",
       "      <td>0.000000</td>\n",
       "    </tr>\n",
       "    <tr>\n",
       "      <th>1</th>\n",
       "      <td>2</td>\n",
       "      <td>3</td>\n",
       "      <td>0.195833</td>\n",
       "      <td>0.195833</td>\n",
       "    </tr>\n",
       "    <tr>\n",
       "      <th>2</th>\n",
       "      <td>3</td>\n",
       "      <td>8</td>\n",
       "      <td>0.613056</td>\n",
       "      <td>0.417222</td>\n",
       "    </tr>\n",
       "    <tr>\n",
       "      <th>3</th>\n",
       "      <td>4</td>\n",
       "      <td>3</td>\n",
       "      <td>0.706667</td>\n",
       "      <td>0.093611</td>\n",
       "    </tr>\n",
       "    <tr>\n",
       "      <th>4</th>\n",
       "      <td>5</td>\n",
       "      <td>8</td>\n",
       "      <td>0.977778</td>\n",
       "      <td>0.271111</td>\n",
       "    </tr>\n",
       "  </tbody>\n",
       "</table>\n",
       "</div>"
      ],
      "text/plain": [
       "   idx_event  type_event  time_since_start  time_since_last_event\n",
       "0          1           8          0.000000               0.000000\n",
       "1          2           3          0.195833               0.195833\n",
       "2          3           8          0.613056               0.417222\n",
       "3          4           3          0.706667               0.093611\n",
       "4          5           8          0.977778               0.271111"
      ]
     },
     "execution_count": 22,
     "metadata": {},
     "output_type": "execute_result"
    }
   ],
   "source": [
    "temp = pd.DataFrame(pkl_train['seqs'][0])\n",
    "print(temp.shape)\n",
    "temp.head()"
   ]
  },
  {
   "cell_type": "code",
   "execution_count": 24,
   "metadata": {
    "ExecuteTime": {
     "end_time": "2020-08-22T13:08:09.764798Z",
     "start_time": "2020-08-22T13:08:09.750757Z"
    }
   },
   "outputs": [
    {
     "name": "stdout",
     "output_type": "stream",
     "text": [
      "(17, 4)\n"
     ]
    },
    {
     "data": {
      "text/html": [
       "<div>\n",
       "<style scoped>\n",
       "    .dataframe tbody tr th:only-of-type {\n",
       "        vertical-align: middle;\n",
       "    }\n",
       "\n",
       "    .dataframe tbody tr th {\n",
       "        vertical-align: top;\n",
       "    }\n",
       "\n",
       "    .dataframe thead th {\n",
       "        text-align: right;\n",
       "    }\n",
       "</style>\n",
       "<table border=\"1\" class=\"dataframe\">\n",
       "  <thead>\n",
       "    <tr style=\"text-align: right;\">\n",
       "      <th></th>\n",
       "      <th>idx_event</th>\n",
       "      <th>type_event</th>\n",
       "      <th>time_since_start</th>\n",
       "      <th>time_since_last_event</th>\n",
       "    </tr>\n",
       "  </thead>\n",
       "  <tbody>\n",
       "    <tr>\n",
       "      <th>0</th>\n",
       "      <td>1</td>\n",
       "      <td>3</td>\n",
       "      <td>0.195833</td>\n",
       "      <td>0.195833</td>\n",
       "    </tr>\n",
       "    <tr>\n",
       "      <th>1</th>\n",
       "      <td>2</td>\n",
       "      <td>3</td>\n",
       "      <td>0.706667</td>\n",
       "      <td>0.510833</td>\n",
       "    </tr>\n",
       "    <tr>\n",
       "      <th>2</th>\n",
       "      <td>3</td>\n",
       "      <td>3</td>\n",
       "      <td>1.139722</td>\n",
       "      <td>0.433056</td>\n",
       "    </tr>\n",
       "    <tr>\n",
       "      <th>3</th>\n",
       "      <td>4</td>\n",
       "      <td>3</td>\n",
       "      <td>1.623333</td>\n",
       "      <td>0.483611</td>\n",
       "    </tr>\n",
       "    <tr>\n",
       "      <th>4</th>\n",
       "      <td>5</td>\n",
       "      <td>3</td>\n",
       "      <td>1.955278</td>\n",
       "      <td>0.331944</td>\n",
       "    </tr>\n",
       "  </tbody>\n",
       "</table>\n",
       "</div>"
      ],
      "text/plain": [
       "   idx_event  type_event  time_since_start  time_since_last_event\n",
       "0          1           3          0.195833               0.195833\n",
       "1          2           3          0.706667               0.510833\n",
       "2          3           3          1.139722               0.433056\n",
       "3          4           3          1.623333               0.483611\n",
       "4          5           3          1.955278               0.331944"
      ]
     },
     "execution_count": 24,
     "metadata": {},
     "output_type": "execute_result"
    }
   ],
   "source": [
    "temp = pd.DataFrame(pkl_train['seqs_obs'][0])\n",
    "print(temp.shape)\n",
    "temp.head()"
   ]
  },
  {
   "cell_type": "code",
   "execution_count": 21,
   "metadata": {
    "ExecuteTime": {
     "end_time": "2020-08-22T13:07:18.057787Z",
     "start_time": "2020-08-22T13:07:18.053793Z"
    }
   },
   "outputs": [
    {
     "data": {
      "text/plain": [
       "10"
      ]
     },
     "execution_count": 21,
     "metadata": {},
     "output_type": "execute_result"
    }
   ],
   "source": [
    "pkl_train['total_num']"
   ]
  },
  {
   "cell_type": "markdown",
   "metadata": {
    "ExecuteTime": {
     "end_time": "2020-08-22T12:46:17.618949Z",
     "start_time": "2020-08-22T12:46:17.616436Z"
    }
   },
   "source": [
    "### seq_obs"
   ]
  },
  {
   "cell_type": "code",
   "execution_count": 5,
   "metadata": {
    "ExecuteTime": {
     "end_time": "2020-08-22T12:38:42.428539Z",
     "start_time": "2020-08-22T12:38:18.833259Z"
    },
    "code_folding": [
     0
    ]
   },
   "outputs": [
    {
     "name": "stderr",
     "output_type": "stream",
     "text": [
      "C:\\Users\\am21907\\AppData\\Local\\Continuum\\anaconda3\\lib\\site-packages\\ipykernel_launcher.py:2: TqdmDeprecationWarning: This function will be removed in tqdm==5.0.0\n",
      "Please use `tqdm.notebook.tqdm` instead of `tqdm.tqdm_notebook`\n",
      "  \n"
     ]
    },
    {
     "data": {
      "application/vnd.jupyter.widget-view+json": {
       "model_id": "a259240827634327bd8be39e431b2c8a",
       "version_major": 2,
       "version_minor": 0
      },
      "text/plain": [
       "HBox(children=(FloatProgress(value=0.0, max=5000.0), HTML(value='')))"
      ]
     },
     "metadata": {},
     "output_type": "display_data"
    },
    {
     "name": "stdout",
     "output_type": "stream",
     "text": [
      "\n"
     ]
    }
   ],
   "source": [
    "## convert dict to df\n",
    "seq_obs_df = pd.DataFrame()\n",
    "for i in tqdm_notebook(range(0,len(pkl_train['seqs_obs']))):\n",
    "    temp_df = (pd.DataFrame(pkl_train['seqs_obs'][i]))\n",
    "    temp_df['id'] = i\n",
    "    seq_obs_df = pd.concat([seq_obs_df,temp_df])\n",
    "seq_obs_df.head()"
   ]
  },
  {
   "cell_type": "code",
   "execution_count": 9,
   "metadata": {
    "ExecuteTime": {
     "end_time": "2020-08-22T12:47:34.950001Z",
     "start_time": "2020-08-22T12:47:34.941982Z"
    },
    "code_folding": [
     0
    ]
   },
   "outputs": [
    {
     "data": {
      "text/plain": [
       "3    66354\n",
       "0     7214\n",
       "1     4770\n",
       "4      409\n",
       "2      211\n",
       "Name: type_event, dtype: int64"
      ]
     },
     "execution_count": 9,
     "metadata": {},
     "output_type": "execute_result"
    }
   ],
   "source": [
    "# check all event type occurances\n",
    "seq_obs_df['type_event'].value_counts(dropna=False)"
   ]
  },
  {
   "cell_type": "code",
   "execution_count": 10,
   "metadata": {
    "ExecuteTime": {
     "end_time": "2020-08-22T12:47:49.971689Z",
     "start_time": "2020-08-22T12:47:49.962694Z"
    },
    "code_folding": [
     0
    ]
   },
   "outputs": [
    {
     "data": {
      "text/plain": [
       "10    5000\n",
       "9     5000\n",
       "2     5000\n",
       "3     5000\n",
       "4     5000\n",
       "5     5000\n",
       "6     5000\n",
       "7     5000\n",
       "8     5000\n",
       "1     5000\n",
       "11    5000\n",
       "12    4677\n",
       "13    4304\n",
       "14    3894\n",
       "15    3470\n",
       "16    2924\n",
       "17    2280\n",
       "18    1583\n",
       "19     826\n",
       "Name: idx_event, dtype: int64"
      ]
     },
     "execution_count": 10,
     "metadata": {},
     "output_type": "execute_result"
    }
   ],
   "source": [
    "# check all event idx occurances\n",
    "seq_obs_df['idx_event'].value_counts(dropna=False)"
   ]
  },
  {
   "cell_type": "markdown",
   "metadata": {
    "ExecuteTime": {
     "end_time": "2020-08-22T12:46:17.618949Z",
     "start_time": "2020-08-22T12:46:17.616436Z"
    }
   },
   "source": [
    "### seq"
   ]
  },
  {
   "cell_type": "code",
   "execution_count": 14,
   "metadata": {
    "ExecuteTime": {
     "end_time": "2020-08-22T12:52:15.102233Z",
     "start_time": "2020-08-22T12:51:25.191961Z"
    },
    "code_folding": [
     0
    ]
   },
   "outputs": [
    {
     "name": "stderr",
     "output_type": "stream",
     "text": [
      "C:\\Users\\am21907\\AppData\\Local\\Continuum\\anaconda3\\lib\\site-packages\\ipykernel_launcher.py:3: TqdmDeprecationWarning: This function will be removed in tqdm==5.0.0\n",
      "Please use `tqdm.notebook.tqdm` instead of `tqdm.tqdm_notebook`\n",
      "  This is separate from the ipykernel package so we can avoid doing imports until\n"
     ]
    },
    {
     "data": {
      "application/vnd.jupyter.widget-view+json": {
       "model_id": "ce2b6827292f42258e95962c228da87d",
       "version_major": 2,
       "version_minor": 0
      },
      "text/plain": [
       "HBox(children=(FloatProgress(value=0.0, max=5000.0), HTML(value='')))"
      ]
     },
     "metadata": {},
     "output_type": "display_data"
    },
    {
     "name": "stdout",
     "output_type": "stream",
     "text": [
      "\n"
     ]
    },
    {
     "data": {
      "text/html": [
       "<div>\n",
       "<style scoped>\n",
       "    .dataframe tbody tr th:only-of-type {\n",
       "        vertical-align: middle;\n",
       "    }\n",
       "\n",
       "    .dataframe tbody tr th {\n",
       "        vertical-align: top;\n",
       "    }\n",
       "\n",
       "    .dataframe thead th {\n",
       "        text-align: right;\n",
       "    }\n",
       "</style>\n",
       "<table border=\"1\" class=\"dataframe\">\n",
       "  <thead>\n",
       "    <tr style=\"text-align: right;\">\n",
       "      <th></th>\n",
       "      <th>idx_event</th>\n",
       "      <th>type_event</th>\n",
       "      <th>time_since_start</th>\n",
       "      <th>time_since_last_event</th>\n",
       "      <th>id</th>\n",
       "    </tr>\n",
       "  </thead>\n",
       "  <tbody>\n",
       "    <tr>\n",
       "      <th>0</th>\n",
       "      <td>1</td>\n",
       "      <td>8</td>\n",
       "      <td>0.000000</td>\n",
       "      <td>0.000000</td>\n",
       "      <td>0</td>\n",
       "    </tr>\n",
       "    <tr>\n",
       "      <th>1</th>\n",
       "      <td>2</td>\n",
       "      <td>3</td>\n",
       "      <td>0.195833</td>\n",
       "      <td>0.195833</td>\n",
       "      <td>0</td>\n",
       "    </tr>\n",
       "    <tr>\n",
       "      <th>2</th>\n",
       "      <td>3</td>\n",
       "      <td>8</td>\n",
       "      <td>0.613056</td>\n",
       "      <td>0.417222</td>\n",
       "      <td>0</td>\n",
       "    </tr>\n",
       "    <tr>\n",
       "      <th>3</th>\n",
       "      <td>4</td>\n",
       "      <td>3</td>\n",
       "      <td>0.706667</td>\n",
       "      <td>0.093611</td>\n",
       "      <td>0</td>\n",
       "    </tr>\n",
       "    <tr>\n",
       "      <th>4</th>\n",
       "      <td>5</td>\n",
       "      <td>8</td>\n",
       "      <td>0.977778</td>\n",
       "      <td>0.271111</td>\n",
       "      <td>0</td>\n",
       "    </tr>\n",
       "  </tbody>\n",
       "</table>\n",
       "</div>"
      ],
      "text/plain": [
       "   idx_event  type_event  time_since_start  time_since_last_event  id\n",
       "0          1           8          0.000000               0.000000   0\n",
       "1          2           3          0.195833               0.195833   0\n",
       "2          3           8          0.613056               0.417222   0\n",
       "3          4           3          0.706667               0.093611   0\n",
       "4          5           8          0.977778               0.271111   0"
      ]
     },
     "execution_count": 14,
     "metadata": {},
     "output_type": "execute_result"
    }
   ],
   "source": [
    "## convert dict to df\n",
    "seqs_df = pd.DataFrame()\n",
    "for i in tqdm_notebook(range(0,len(pkl_train['seqs']))):\n",
    "    temp_df = (pd.DataFrame(pkl_train['seqs'][i]))\n",
    "    temp_df['id'] = i\n",
    "    seqs_df = pd.concat([seqs_df,temp_df])\n",
    "seqs_df.head()"
   ]
  },
  {
   "cell_type": "code",
   "execution_count": 33,
   "metadata": {
    "ExecuteTime": {
     "end_time": "2020-08-22T13:35:40.732192Z",
     "start_time": "2020-08-22T13:35:40.722191Z"
    },
    "code_folding": [
     0
    ]
   },
   "outputs": [
    {
     "data": {
      "text/plain": [
       "8    68392\n",
       "3    66354\n",
       "5     8419\n",
       "0     7214\n",
       "1     4770\n",
       "6     2055\n",
       "4      409\n",
       "2      211\n",
       "7       51\n",
       "9       41\n",
       "Name: type_event, dtype: int64"
      ]
     },
     "execution_count": 33,
     "metadata": {},
     "output_type": "execute_result"
    }
   ],
   "source": [
    "# check all event type occurances\n",
    "seqs_df['type_event'].value_counts(dropna=False)"
   ]
  },
  {
   "cell_type": "markdown",
   "metadata": {},
   "source": [
    "#unique_event_types matches the number of events provided in censor.config"
   ]
  },
  {
   "cell_type": "code",
   "execution_count": 17,
   "metadata": {
    "ExecuteTime": {
     "end_time": "2020-08-22T12:52:31.621948Z",
     "start_time": "2020-08-22T12:52:31.608912Z"
    },
    "code_folding": [
     0
    ]
   },
   "outputs": [
    {
     "data": {
      "text/plain": [
       "19    5000\n",
       "18    5000\n",
       "16    5000\n",
       "15    5000\n",
       "14    5000\n",
       "13    5000\n",
       "12    5000\n",
       "11    5000\n",
       "10    5000\n",
       "9     5000\n",
       "8     5000\n",
       "7     5000\n",
       "6     5000\n",
       "5     5000\n",
       "4     5000\n",
       "3     5000\n",
       "2     5000\n",
       "17    5000\n",
       "1     5000\n",
       "20    5000\n",
       "21    5000\n",
       "22    5000\n",
       "23    4677\n",
       "24    4677\n",
       "25    4304\n",
       "26    4304\n",
       "28    3894\n",
       "27    3894\n",
       "29    3470\n",
       "30    3470\n",
       "31    2924\n",
       "32    2924\n",
       "33    2280\n",
       "34    2280\n",
       "36    1583\n",
       "35    1583\n",
       "37     826\n",
       "38     826\n",
       "Name: idx_event, dtype: int64"
      ]
     },
     "execution_count": 17,
     "metadata": {},
     "output_type": "execute_result"
    }
   ],
   "source": [
    "# check all event idx occurances\n",
    "seqs_df['idx_event'].value_counts(dropna=False)"
   ]
  },
  {
   "cell_type": "markdown",
   "metadata": {},
   "source": [
    "## Mimic training process"
   ]
  },
  {
   "cell_type": "markdown",
   "metadata": {},
   "source": [
    "### nhps"
   ]
  },
  {
   "cell_type": "code",
   "execution_count": 31,
   "metadata": {
    "ExecuteTime": {
     "end_time": "2020-08-22T13:19:27.810809Z",
     "start_time": "2020-08-22T13:19:26.789401Z"
    }
   },
   "outputs": [],
   "source": [
    "from copy import deepcopy\n",
    "data = deepcopy(pkl_train['seqs'])\n",
    "args = {\"MaxEpoch\":2,\"TrackPeriod\":5000}\n",
    "max_episode = args['MaxEpoch'] * len(data)\n",
    "report_gap = args['TrackPeriod']\n",
    "time_sample = 0.0\n",
    "time_train_only = 0.0\n",
    "time_dev_only = 0.0\n",
    "input = []\n",
    "input_particles = []\n",
    "\n",
    "for episode in range(max_episode):\n",
    "\n",
    "    idx_seq = episode % len(data)\n",
    "    idx_epoch = episode // len(data)\n",
    "    one_seq = data[ idx_seq ]\n",
    "    break"
   ]
  },
  {
   "cell_type": "code",
   "execution_count": 32,
   "metadata": {
    "ExecuteTime": {
     "end_time": "2020-08-22T13:19:32.508431Z",
     "start_time": "2020-08-22T13:19:32.500410Z"
    }
   },
   "outputs": [
    {
     "data": {
      "text/plain": [
       "[{'idx_event': 1,\n",
       "  'type_event': 8,\n",
       "  'time_since_start': 0.0,\n",
       "  'time_since_last_event': 0.0},\n",
       " {'idx_event': 2,\n",
       "  'type_event': 3,\n",
       "  'time_since_start': 0.19583333333333333,\n",
       "  'time_since_last_event': 0.19583333333333333},\n",
       " {'idx_event': 3,\n",
       "  'type_event': 8,\n",
       "  'time_since_start': 0.6130555555555556,\n",
       "  'time_since_last_event': 0.41722222222222227},\n",
       " {'idx_event': 4,\n",
       "  'type_event': 3,\n",
       "  'time_since_start': 0.7066666666666667,\n",
       "  'time_since_last_event': 0.09361111111111109},\n",
       " {'idx_event': 5,\n",
       "  'type_event': 8,\n",
       "  'time_since_start': 0.9777777777777777,\n",
       "  'time_since_last_event': 0.2711111111111111},\n",
       " {'idx_event': 6,\n",
       "  'type_event': 3,\n",
       "  'time_since_start': 1.1397222222222223,\n",
       "  'time_since_last_event': 0.16194444444444456},\n",
       " {'idx_event': 7,\n",
       "  'type_event': 8,\n",
       "  'time_since_start': 1.3297222222222222,\n",
       "  'time_since_last_event': 0.18999999999999995},\n",
       " {'idx_event': 8,\n",
       "  'type_event': 3,\n",
       "  'time_since_start': 1.6233333333333333,\n",
       "  'time_since_last_event': 0.29361111111111104},\n",
       " {'idx_event': 9,\n",
       "  'type_event': 8,\n",
       "  'time_since_start': 1.6908333333333334,\n",
       "  'time_since_last_event': 0.06750000000000012},\n",
       " {'idx_event': 10,\n",
       "  'type_event': 3,\n",
       "  'time_since_start': 1.9552777777777777,\n",
       "  'time_since_last_event': 0.26444444444444426},\n",
       " {'idx_event': 11,\n",
       "  'type_event': 8,\n",
       "  'time_since_start': 2.0208333333333335,\n",
       "  'time_since_last_event': 0.06555555555555581},\n",
       " {'idx_event': 12,\n",
       "  'type_event': 3,\n",
       "  'time_since_start': 2.1994444444444445,\n",
       "  'time_since_last_event': 0.17861111111111105},\n",
       " {'idx_event': 13,\n",
       "  'type_event': 8,\n",
       "  'time_since_start': 2.2669444444444444,\n",
       "  'time_since_last_event': 0.0674999999999999},\n",
       " {'idx_event': 14,\n",
       "  'type_event': 3,\n",
       "  'time_since_start': 2.4105555555555553,\n",
       "  'time_since_last_event': 0.1436111111111109},\n",
       " {'idx_event': 15,\n",
       "  'type_event': 8,\n",
       "  'time_since_start': 2.761388888888889,\n",
       "  'time_since_last_event': 0.35083333333333355},\n",
       " {'idx_event': 16,\n",
       "  'type_event': 3,\n",
       "  'time_since_start': 2.914722222222222,\n",
       "  'time_since_last_event': 0.15333333333333332},\n",
       " {'idx_event': 17,\n",
       "  'type_event': 8,\n",
       "  'time_since_start': 3.0280555555555555,\n",
       "  'time_since_last_event': 0.11333333333333329},\n",
       " {'idx_event': 18,\n",
       "  'type_event': 3,\n",
       "  'time_since_start': 3.176111111111111,\n",
       "  'time_since_last_event': 0.1480555555555556},\n",
       " {'idx_event': 19,\n",
       "  'type_event': 8,\n",
       "  'time_since_start': 3.281388888888889,\n",
       "  'time_since_last_event': 0.1052777777777778},\n",
       " {'idx_event': 20,\n",
       "  'type_event': 3,\n",
       "  'time_since_start': 3.641388888888889,\n",
       "  'time_since_last_event': 0.3599999999999999},\n",
       " {'idx_event': 21,\n",
       "  'type_event': 8,\n",
       "  'time_since_start': 3.6619444444444444,\n",
       "  'time_since_last_event': 0.02055555555555566},\n",
       " {'idx_event': 22,\n",
       "  'type_event': 3,\n",
       "  'time_since_start': 3.8355555555555556,\n",
       "  'time_since_last_event': 0.17361111111111116},\n",
       " {'idx_event': 23,\n",
       "  'type_event': 8,\n",
       "  'time_since_start': 4.065833333333333,\n",
       "  'time_since_last_event': 0.23027777777777736},\n",
       " {'idx_event': 24,\n",
       "  'type_event': 3,\n",
       "  'time_since_start': 4.173611111111111,\n",
       "  'time_since_last_event': 0.10777777777777775},\n",
       " {'idx_event': 25,\n",
       "  'type_event': 8,\n",
       "  'time_since_start': 4.420277777777778,\n",
       "  'time_since_last_event': 0.24666666666666703},\n",
       " {'idx_event': 26,\n",
       "  'type_event': 3,\n",
       "  'time_since_start': 4.455,\n",
       "  'time_since_last_event': 0.03472222222222232},\n",
       " {'idx_event': 27,\n",
       "  'type_event': 8,\n",
       "  'time_since_start': 4.495833333333334,\n",
       "  'time_since_last_event': 0.0408333333333335},\n",
       " {'idx_event': 28,\n",
       "  'type_event': 3,\n",
       "  'time_since_start': 4.687777777777778,\n",
       "  'time_since_last_event': 0.19194444444444425},\n",
       " {'idx_event': 29,\n",
       "  'type_event': 8,\n",
       "  'time_since_start': 4.744722222222222,\n",
       "  'time_since_last_event': 0.056944444444444464},\n",
       " {'idx_event': 30,\n",
       "  'type_event': 3,\n",
       "  'time_since_start': 4.9816666666666665,\n",
       "  'time_since_last_event': 0.23694444444444418},\n",
       " {'idx_event': 31,\n",
       "  'type_event': 8,\n",
       "  'time_since_start': 5.002222222222223,\n",
       "  'time_since_last_event': 0.020555555555556104},\n",
       " {'idx_event': 32,\n",
       "  'type_event': 3,\n",
       "  'time_since_start': 5.482222222222222,\n",
       "  'time_since_last_event': 0.47999999999999954},\n",
       " {'idx_event': 33,\n",
       "  'type_event': 8,\n",
       "  'time_since_start': 5.506944444444445,\n",
       "  'time_since_last_event': 0.024722222222222534},\n",
       " {'idx_event': 34,\n",
       "  'type_event': 3,\n",
       "  'time_since_start': 5.820833333333334,\n",
       "  'time_since_last_event': 0.3138888888888891}]"
      ]
     },
     "execution_count": 32,
     "metadata": {},
     "output_type": "execute_result"
    }
   ],
   "source": [
    "one_seq"
   ]
  },
  {
   "cell_type": "code",
   "execution_count": null,
   "metadata": {},
   "outputs": [],
   "source": []
  }
 ],
 "metadata": {
  "hide_input": false,
  "kernelspec": {
   "display_name": "Python 3",
   "language": "python",
   "name": "python3"
  },
  "language_info": {
   "codemirror_mode": {
    "name": "ipython",
    "version": 3
   },
   "file_extension": ".py",
   "mimetype": "text/x-python",
   "name": "python",
   "nbconvert_exporter": "python",
   "pygments_lexer": "ipython3",
   "version": "3.7.3"
  },
  "toc": {
   "base_numbering": 1,
   "nav_menu": {},
   "number_sections": true,
   "sideBar": true,
   "skip_h1_title": false,
   "title_cell": "Table of Contents",
   "title_sidebar": "Contents",
   "toc_cell": false,
   "toc_position": {},
   "toc_section_display": true,
   "toc_window_display": false
  },
  "varInspector": {
   "cols": {
    "lenName": 16,
    "lenType": 16,
    "lenVar": 40
   },
   "kernels_config": {
    "python": {
     "delete_cmd_postfix": "",
     "delete_cmd_prefix": "del ",
     "library": "var_list.py",
     "varRefreshCmd": "print(var_dic_list())"
    },
    "r": {
     "delete_cmd_postfix": ") ",
     "delete_cmd_prefix": "rm(",
     "library": "var_list.r",
     "varRefreshCmd": "cat(var_dic_list()) "
    }
   },
   "types_to_exclude": [
    "module",
    "function",
    "builtin_function_or_method",
    "instance",
    "_Feature"
   ],
   "window_display": false
  }
 },
 "nbformat": 4,
 "nbformat_minor": 2
}
